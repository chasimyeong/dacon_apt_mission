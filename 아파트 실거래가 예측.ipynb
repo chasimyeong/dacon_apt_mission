{
 "cells": [
  {
   "cell_type": "code",
   "execution_count": 1,
   "metadata": {
    "colab": {
     "base_uri": "https://localhost:8080/",
     "height": 89
    },
    "colab_type": "code",
    "executionInfo": {
     "elapsed": 1051,
     "status": "ok",
     "timestamp": 1560396258391,
     "user": {
      "displayName": "차시명",
      "photoUrl": "https://lh5.googleusercontent.com/-QWE4RoZUWJc/AAAAAAAAAAI/AAAAAAAAADw/SiMcaKMW0Sg/s64/photo.jpg",
      "userId": "15430965937131994656"
     },
     "user_tz": -540
    },
    "id": "3Pp4wnO0F9Ai",
    "outputId": "068c77a1-e58b-4548-b987-5c90675b27fa"
   },
   "outputs": [
    {
     "name": "stdout",
     "output_type": "stream",
     "text": [
      "Python version -> 3.7.0 (default, Jun 28 2018, 08:04:48) [MSC v.1912 64 bit (AMD64)]\n",
      "Numpy version -> 1.16.0\n",
      "Pandas version -> 0.24.0\n",
      "Sklearn version -> 0.19.2\n"
     ]
    }
   ],
   "source": [
    "# For example, here's several helpful packages to load in \n",
    "\n",
    "import numpy as np # linear algebra\n",
    "import pandas as pd # data processing, CSV file I/O (e.g. pd.read_csv)\n",
    "\n",
    "import matplotlib.pyplot as plt #data visualization\n",
    "import seaborn as sns\n",
    "\n",
    "import timeit # time measure\n",
    "\n",
    "import sklearn # modeling\n",
    "\n",
    "import warnings\n",
    "warnings.filterwarnings(\"ignore\")\n",
    "\n",
    "import sys\n",
    "\n",
    "print ('Python version ->', sys.version)\n",
    "print ('Numpy version ->', np.__version__)\n",
    "print ('Pandas version ->', pd.__version__)\n",
    "print ('Sklearn version ->', sklearn.__version__)"
   ]
  },
  {
   "cell_type": "markdown",
   "metadata": {
    "colab_type": "text",
    "id": "hdg3896kF9Ao"
   },
   "source": [
    "# 1. Data set 불러오기"
   ]
  },
  {
   "cell_type": "code",
   "execution_count": 2,
   "metadata": {
    "colab": {},
    "colab_type": "code",
    "id": "s9PNPR2XF9Ap"
   },
   "outputs": [],
   "source": [
    "train_df = pd.read_csv('train.csv') # training dataframe\n",
    "test_df = pd.read_csv('test.csv') # testing dataframe"
   ]
  },
  {
   "cell_type": "code",
   "execution_count": 3,
   "metadata": {
    "colab": {},
    "colab_type": "code",
    "id": "e1ScxD4CF9Ar"
   },
   "outputs": [],
   "source": [
    "#원본데이터는 보존하기 위함\n",
    "train = train_df.copy()\n",
    "test = test_df.copy()"
   ]
  },
  {
   "cell_type": "code",
   "execution_count": 4,
   "metadata": {
    "colab": {
     "base_uri": "https://localhost:8080/",
     "height": 89
    },
    "colab_type": "code",
    "executionInfo": {
     "elapsed": 61718,
     "status": "ok",
     "timestamp": 1560396319138,
     "user": {
      "displayName": "차시명",
      "photoUrl": "https://lh5.googleusercontent.com/-QWE4RoZUWJc/AAAAAAAAAAI/AAAAAAAAADw/SiMcaKMW0Sg/s64/photo.jpg",
      "userId": "15430965937131994656"
     },
     "user_tz": -540
    },
    "id": "SO1vNfzCF9At",
    "outputId": "91074e6b-a06a-45a4-a914-03d0d60c61ec"
   },
   "outputs": [
    {
     "name": "stdout",
     "output_type": "stream",
     "text": [
      "train.csv. Shape:  (1216553, 13)\n",
      "test.csv. Shape:  (5463, 12)\n"
     ]
    }
   ],
   "source": [
    "print(\"train.csv. Shape: \",train.shape)\n",
    "print(\"test.csv. Shape: \",test.shape)"
   ]
  },
  {
   "cell_type": "code",
   "execution_count": 5,
   "metadata": {
    "colab": {
     "base_uri": "https://localhost:8080/",
     "height": 341
    },
    "colab_type": "code",
    "executionInfo": {
     "elapsed": 62007,
     "status": "ok",
     "timestamp": 1560396319441,
     "user": {
      "displayName": "차시명",
      "photoUrl": "https://lh5.googleusercontent.com/-QWE4RoZUWJc/AAAAAAAAAAI/AAAAAAAAADw/SiMcaKMW0Sg/s64/photo.jpg",
      "userId": "15430965937131994656"
     },
     "user_tz": -540
    },
    "id": "pQgEAPjCF9Aw",
    "outputId": "89569b0d-afa8-41ba-9031-8f155661a3ef"
   },
   "outputs": [
    {
     "name": "stdout",
     "output_type": "stream",
     "text": [
      "<class 'pandas.core.frame.DataFrame'>\n",
      "RangeIndex: 1216553 entries, 0 to 1216552\n",
      "Data columns (total 13 columns):\n",
      "transaction_id            1216553 non-null int64\n",
      "apartment_id              1216553 non-null int64\n",
      "city                      1216553 non-null object\n",
      "dong                      1216553 non-null object\n",
      "jibun                     1216553 non-null object\n",
      "apt                       1216553 non-null object\n",
      "addr_kr                   1216553 non-null object\n",
      "exclusive_use_area        1216553 non-null float64\n",
      "year_of_completion        1216553 non-null int64\n",
      "transaction_year_month    1216553 non-null int64\n",
      "transaction_date          1216553 non-null object\n",
      "floor                     1216553 non-null int64\n",
      "transaction_real_price    1216553 non-null int64\n",
      "dtypes: float64(1), int64(6), object(6)\n",
      "memory usage: 120.7+ MB\n"
     ]
    }
   ],
   "source": [
    "train.info()"
   ]
  },
  {
   "cell_type": "code",
   "execution_count": 6,
   "metadata": {
    "colab": {
     "base_uri": "https://localhost:8080/",
     "height": 323
    },
    "colab_type": "code",
    "executionInfo": {
     "elapsed": 61998,
     "status": "ok",
     "timestamp": 1560396319443,
     "user": {
      "displayName": "차시명",
      "photoUrl": "https://lh5.googleusercontent.com/-QWE4RoZUWJc/AAAAAAAAAAI/AAAAAAAAADw/SiMcaKMW0Sg/s64/photo.jpg",
      "userId": "15430965937131994656"
     },
     "user_tz": -540
    },
    "id": "jW32H46AF9Az",
    "outputId": "f84d7e2e-160e-47a7-b786-47ce4f5953b5"
   },
   "outputs": [
    {
     "name": "stdout",
     "output_type": "stream",
     "text": [
      "<class 'pandas.core.frame.DataFrame'>\n",
      "RangeIndex: 5463 entries, 0 to 5462\n",
      "Data columns (total 12 columns):\n",
      "transaction_id            5463 non-null int64\n",
      "apartment_id              5463 non-null int64\n",
      "city                      5463 non-null object\n",
      "dong                      5463 non-null object\n",
      "jibun                     5463 non-null object\n",
      "apt                       5463 non-null object\n",
      "addr_kr                   5463 non-null object\n",
      "exclusive_use_area        5463 non-null float64\n",
      "year_of_completion        5463 non-null int64\n",
      "transaction_year_month    5463 non-null int64\n",
      "transaction_date          5463 non-null object\n",
      "floor                     5463 non-null int64\n",
      "dtypes: float64(1), int64(5), object(6)\n",
      "memory usage: 512.2+ KB\n"
     ]
    }
   ],
   "source": [
    "test.info()"
   ]
  },
  {
   "cell_type": "markdown",
   "metadata": {
    "colab_type": "text",
    "id": "qt3UMDCxF9A3"
   },
   "source": [
    "#### Train Column name Description\n",
    "\n",
    "* transaction_id : 아파트 거래에 대한 유니크한 아이디\n",
    "* apartment_id : 아파트 아이디\n",
    "* city : 도시\n",
    "* dong : 동\n",
    "* jibun : 지번\n",
    "* apt : 아파트단지 이름\n",
    "* addr_kr : 주소\n",
    "* exclusive_use_area : 전용면적\n",
    "* year_of_completion : 설립일자\n",
    "* transaction_year_month : 거래년월\n",
    "* transaction_date\t: 거래날짜\n",
    "* floor : 층\n",
    "* transaction_real_price : 실거래가 (target variable)"
   ]
  },
  {
   "cell_type": "code",
   "execution_count": 7,
   "metadata": {
    "colab": {
     "base_uri": "https://localhost:8080/",
     "height": 421
    },
    "colab_type": "code",
    "executionInfo": {
     "elapsed": 62679,
     "status": "ok",
     "timestamp": 1560396320162,
     "user": {
      "displayName": "차시명",
      "photoUrl": "https://lh5.googleusercontent.com/-QWE4RoZUWJc/AAAAAAAAAAI/AAAAAAAAADw/SiMcaKMW0Sg/s64/photo.jpg",
      "userId": "15430965937131994656"
     },
     "user_tz": -540
    },
    "id": "VLi1EW0pF9A4",
    "outputId": "9a259046-52cd-4b15-c1cc-fcd1248eba74"
   },
   "outputs": [
    {
     "data": {
      "text/html": [
       "<div>\n",
       "<style scoped>\n",
       "    .dataframe tbody tr th:only-of-type {\n",
       "        vertical-align: middle;\n",
       "    }\n",
       "\n",
       "    .dataframe tbody tr th {\n",
       "        vertical-align: top;\n",
       "    }\n",
       "\n",
       "    .dataframe thead th {\n",
       "        text-align: right;\n",
       "    }\n",
       "</style>\n",
       "<table border=\"1\" class=\"dataframe\">\n",
       "  <thead>\n",
       "    <tr style=\"text-align: right;\">\n",
       "      <th></th>\n",
       "      <th>train_null_count</th>\n",
       "      <th>test_null_count</th>\n",
       "    </tr>\n",
       "  </thead>\n",
       "  <tbody>\n",
       "    <tr>\n",
       "      <th>transaction_id</th>\n",
       "      <td>0.0</td>\n",
       "      <td>0.0</td>\n",
       "    </tr>\n",
       "    <tr>\n",
       "      <th>apartment_id</th>\n",
       "      <td>0.0</td>\n",
       "      <td>0.0</td>\n",
       "    </tr>\n",
       "    <tr>\n",
       "      <th>city</th>\n",
       "      <td>0.0</td>\n",
       "      <td>0.0</td>\n",
       "    </tr>\n",
       "    <tr>\n",
       "      <th>dong</th>\n",
       "      <td>0.0</td>\n",
       "      <td>0.0</td>\n",
       "    </tr>\n",
       "    <tr>\n",
       "      <th>jibun</th>\n",
       "      <td>0.0</td>\n",
       "      <td>0.0</td>\n",
       "    </tr>\n",
       "    <tr>\n",
       "      <th>apt</th>\n",
       "      <td>0.0</td>\n",
       "      <td>0.0</td>\n",
       "    </tr>\n",
       "    <tr>\n",
       "      <th>addr_kr</th>\n",
       "      <td>0.0</td>\n",
       "      <td>0.0</td>\n",
       "    </tr>\n",
       "    <tr>\n",
       "      <th>exclusive_use_area</th>\n",
       "      <td>0.0</td>\n",
       "      <td>0.0</td>\n",
       "    </tr>\n",
       "    <tr>\n",
       "      <th>year_of_completion</th>\n",
       "      <td>0.0</td>\n",
       "      <td>0.0</td>\n",
       "    </tr>\n",
       "    <tr>\n",
       "      <th>transaction_year_month</th>\n",
       "      <td>0.0</td>\n",
       "      <td>0.0</td>\n",
       "    </tr>\n",
       "    <tr>\n",
       "      <th>transaction_date</th>\n",
       "      <td>0.0</td>\n",
       "      <td>0.0</td>\n",
       "    </tr>\n",
       "    <tr>\n",
       "      <th>floor</th>\n",
       "      <td>0.0</td>\n",
       "      <td>0.0</td>\n",
       "    </tr>\n",
       "  </tbody>\n",
       "</table>\n",
       "</div>"
      ],
      "text/plain": [
       "                        train_null_count  test_null_count\n",
       "transaction_id                       0.0              0.0\n",
       "apartment_id                         0.0              0.0\n",
       "city                                 0.0              0.0\n",
       "dong                                 0.0              0.0\n",
       "jibun                                0.0              0.0\n",
       "apt                                  0.0              0.0\n",
       "addr_kr                              0.0              0.0\n",
       "exclusive_use_area                   0.0              0.0\n",
       "year_of_completion                   0.0              0.0\n",
       "transaction_year_month               0.0              0.0\n",
       "transaction_date                     0.0              0.0\n",
       "floor                                0.0              0.0"
      ]
     },
     "execution_count": 7,
     "metadata": {},
     "output_type": "execute_result"
    }
   ],
   "source": [
    "train_null = train.drop('transaction_real_price', axis = 1).isnull().sum()/len(train)*100\n",
    "test_null = test.isnull().sum()/len(test)*100\n",
    "pd.DataFrame({'train_null_count' : train_null, 'test_null_count' : test_null})"
   ]
  },
  {
   "cell_type": "code",
   "execution_count": 8,
   "metadata": {
    "colab": {
     "base_uri": "https://localhost:8080/",
     "height": 462
    },
    "colab_type": "code",
    "executionInfo": {
     "elapsed": 62997,
     "status": "ok",
     "timestamp": 1560396320505,
     "user": {
      "displayName": "차시명",
      "photoUrl": "https://lh5.googleusercontent.com/-QWE4RoZUWJc/AAAAAAAAAAI/AAAAAAAAADw/SiMcaKMW0Sg/s64/photo.jpg",
      "userId": "15430965937131994656"
     },
     "user_tz": -540
    },
    "id": "GmAo4Jx6F9A7",
    "outputId": "d0a18762-9b21-4016-ec52-78ff3b376282"
   },
   "outputs": [
    {
     "data": {
      "text/html": [
       "<div>\n",
       "<style scoped>\n",
       "    .dataframe tbody tr th:only-of-type {\n",
       "        vertical-align: middle;\n",
       "    }\n",
       "\n",
       "    .dataframe tbody tr th {\n",
       "        vertical-align: top;\n",
       "    }\n",
       "\n",
       "    .dataframe thead th {\n",
       "        text-align: right;\n",
       "    }\n",
       "</style>\n",
       "<table border=\"1\" class=\"dataframe\">\n",
       "  <thead>\n",
       "    <tr style=\"text-align: right;\">\n",
       "      <th></th>\n",
       "      <th>transaction_id</th>\n",
       "      <th>apartment_id</th>\n",
       "      <th>city</th>\n",
       "      <th>dong</th>\n",
       "      <th>jibun</th>\n",
       "      <th>apt</th>\n",
       "      <th>addr_kr</th>\n",
       "      <th>exclusive_use_area</th>\n",
       "      <th>year_of_completion</th>\n",
       "      <th>transaction_year_month</th>\n",
       "      <th>transaction_date</th>\n",
       "      <th>floor</th>\n",
       "      <th>transaction_real_price</th>\n",
       "    </tr>\n",
       "  </thead>\n",
       "  <tbody>\n",
       "    <tr>\n",
       "      <th>0</th>\n",
       "      <td>0</td>\n",
       "      <td>7622</td>\n",
       "      <td>서울특별시</td>\n",
       "      <td>신교동</td>\n",
       "      <td>6-13</td>\n",
       "      <td>신현(101동)</td>\n",
       "      <td>신교동 6-13 신현(101동)</td>\n",
       "      <td>84.82</td>\n",
       "      <td>2002</td>\n",
       "      <td>200801</td>\n",
       "      <td>21~31</td>\n",
       "      <td>2</td>\n",
       "      <td>37500</td>\n",
       "    </tr>\n",
       "    <tr>\n",
       "      <th>1</th>\n",
       "      <td>1</td>\n",
       "      <td>5399</td>\n",
       "      <td>서울특별시</td>\n",
       "      <td>필운동</td>\n",
       "      <td>142</td>\n",
       "      <td>사직파크맨션</td>\n",
       "      <td>필운동 142 사직파크맨션</td>\n",
       "      <td>99.17</td>\n",
       "      <td>1973</td>\n",
       "      <td>200801</td>\n",
       "      <td>1~10</td>\n",
       "      <td>6</td>\n",
       "      <td>20000</td>\n",
       "    </tr>\n",
       "    <tr>\n",
       "      <th>2</th>\n",
       "      <td>2</td>\n",
       "      <td>3578</td>\n",
       "      <td>서울특별시</td>\n",
       "      <td>필운동</td>\n",
       "      <td>174-1</td>\n",
       "      <td>두레엘리시안</td>\n",
       "      <td>필운동 174-1 두레엘리시안</td>\n",
       "      <td>84.74</td>\n",
       "      <td>2007</td>\n",
       "      <td>200801</td>\n",
       "      <td>1~10</td>\n",
       "      <td>6</td>\n",
       "      <td>38500</td>\n",
       "    </tr>\n",
       "    <tr>\n",
       "      <th>3</th>\n",
       "      <td>3</td>\n",
       "      <td>10957</td>\n",
       "      <td>서울특별시</td>\n",
       "      <td>내수동</td>\n",
       "      <td>95</td>\n",
       "      <td>파크팰리스</td>\n",
       "      <td>내수동 95 파크팰리스</td>\n",
       "      <td>146.39</td>\n",
       "      <td>2003</td>\n",
       "      <td>200801</td>\n",
       "      <td>11~20</td>\n",
       "      <td>15</td>\n",
       "      <td>118000</td>\n",
       "    </tr>\n",
       "    <tr>\n",
       "      <th>4</th>\n",
       "      <td>4</td>\n",
       "      <td>10639</td>\n",
       "      <td>서울특별시</td>\n",
       "      <td>내수동</td>\n",
       "      <td>110-15</td>\n",
       "      <td>킹스매너</td>\n",
       "      <td>내수동 110-15 킹스매너</td>\n",
       "      <td>194.43</td>\n",
       "      <td>2004</td>\n",
       "      <td>200801</td>\n",
       "      <td>21~31</td>\n",
       "      <td>3</td>\n",
       "      <td>120000</td>\n",
       "    </tr>\n",
       "  </tbody>\n",
       "</table>\n",
       "</div>"
      ],
      "text/plain": [
       "   transaction_id  apartment_id   city dong   jibun       apt  \\\n",
       "0               0          7622  서울특별시  신교동    6-13  신현(101동)   \n",
       "1               1          5399  서울특별시  필운동     142    사직파크맨션   \n",
       "2               2          3578  서울특별시  필운동   174-1    두레엘리시안   \n",
       "3               3         10957  서울특별시  내수동      95     파크팰리스   \n",
       "4               4         10639  서울특별시  내수동  110-15      킹스매너   \n",
       "\n",
       "             addr_kr  exclusive_use_area  year_of_completion  \\\n",
       "0  신교동 6-13 신현(101동)               84.82                2002   \n",
       "1     필운동 142 사직파크맨션               99.17                1973   \n",
       "2   필운동 174-1 두레엘리시안               84.74                2007   \n",
       "3       내수동 95 파크팰리스              146.39                2003   \n",
       "4    내수동 110-15 킹스매너              194.43                2004   \n",
       "\n",
       "   transaction_year_month transaction_date  floor  transaction_real_price  \n",
       "0                  200801            21~31      2                   37500  \n",
       "1                  200801             1~10      6                   20000  \n",
       "2                  200801             1~10      6                   38500  \n",
       "3                  200801            11~20     15                  118000  \n",
       "4                  200801            21~31      3                  120000  "
      ]
     },
     "execution_count": 8,
     "metadata": {},
     "output_type": "execute_result"
    }
   ],
   "source": [
    "train.head()"
   ]
  },
  {
   "cell_type": "markdown",
   "metadata": {
    "colab_type": "text",
    "id": "9Qgvx24ZF9A-"
   },
   "source": [
    "# 2. Exploratory Data Analysis AND Processing"
   ]
  },
  {
   "cell_type": "markdown",
   "metadata": {
    "colab_type": "text",
    "id": "cGv1MhDeF9A_"
   },
   "source": [
    "## 2.1 Target Variable (Dependent Variable)"
   ]
  },
  {
   "cell_type": "markdown",
   "metadata": {
    "colab_type": "text",
    "id": "0fXoEjqTF9A_"
   },
   "source": [
    "## transaction_real_price : 실거래가"
   ]
  },
  {
   "cell_type": "code",
   "execution_count": 10,
   "metadata": {
    "colab": {
     "base_uri": "https://localhost:8080/",
     "height": 179
    },
    "colab_type": "code",
    "executionInfo": {
     "elapsed": 62990,
     "status": "ok",
     "timestamp": 1560396320540,
     "user": {
      "displayName": "차시명",
      "photoUrl": "https://lh5.googleusercontent.com/-QWE4RoZUWJc/AAAAAAAAAAI/AAAAAAAAADw/SiMcaKMW0Sg/s64/photo.jpg",
      "userId": "15430965937131994656"
     },
     "user_tz": -540
    },
    "id": "tLaIeHtTF9BA",
    "outputId": "f3781799-b358-4bb0-abe0-d2b42e3b2e59"
   },
   "outputs": [
    {
     "data": {
      "text/plain": [
       "count    1.216553e+06\n",
       "mean     3.822769e+04\n",
       "std      3.104898e+04\n",
       "min      1.000000e+02\n",
       "25%      1.900000e+04\n",
       "50%      3.090000e+04\n",
       "75%      4.700000e+04\n",
       "max      8.200000e+05\n",
       "Name: transaction_real_price, dtype: float64"
      ]
     },
     "execution_count": 10,
     "metadata": {},
     "output_type": "execute_result"
    }
   ],
   "source": [
    "train['transaction_real_price'].describe()"
   ]
  },
  {
   "cell_type": "markdown",
   "metadata": {
    "colab_type": "text",
    "id": "X6acxKbXF9BD"
   },
   "source": [
    "* 총 1216553개의 데이터, 약 120만개\n",
    "* 평균 : 38227.69\n",
    "* 표준편차 : 31048.98\n",
    "* min : 100\n",
    "* max : 820000, 82만"
   ]
  },
  {
   "cell_type": "code",
   "execution_count": 11,
   "metadata": {
    "colab": {
     "base_uri": "https://localhost:8080/",
     "height": 410
    },
    "colab_type": "code",
    "executionInfo": {
     "elapsed": 66868,
     "status": "ok",
     "timestamp": 1560396324425,
     "user": {
      "displayName": "차시명",
      "photoUrl": "https://lh5.googleusercontent.com/-QWE4RoZUWJc/AAAAAAAAAAI/AAAAAAAAADw/SiMcaKMW0Sg/s64/photo.jpg",
      "userId": "15430965937131994656"
     },
     "user_tz": -540
    },
    "id": "3HS2u4awF9BD",
    "outputId": "9fa730cd-ddbd-458e-bb2a-2ca5b1633939"
   },
   "outputs": [
    {
     "name": "stdout",
     "output_type": "stream",
     "text": [
      "transaction_real_price -> Skewness: 3.407169, Kurtosis: 24.839821\n"
     ]
    },
    {
     "data": {
      "image/png": "[encoded data removed]",
      "text/plain": [
       "<Figure size 576x432 with 1 Axes>"
      ]
     },
     "metadata": {
      "needs_background": "light"
     },
     "output_type": "display_data"
    }
   ],
   "source": [
    "f, ax = plt.subplots(figsize = (8,6))\n",
    "sns.distplot(train['transaction_real_price'])\n",
    "print(\"%s -> Skewness: %f, Kurtosis: %f\" %  ('transaction_real_price',train['transaction_real_price'].skew(), \n",
    "                                                     train['transaction_real_price'].kurt()))"
   ]
  },
  {
   "cell_type": "markdown",
   "metadata": {
    "colab_type": "text",
    "id": "Czmne6iDF9BG"
   },
   "source": [
    "* 왜도(Skewness) : 왼쪽으로 치우쳐져 있을수록 값이크고, 오른쪽으로 치우쳐져 있을 수록 값이 작아진다. 즉, 0에 가까울수록 좋은 형태\n",
    "* 첨도(Kurtosis) : 첨도 값이 3에 가까울 경우 정규분포에 가까우며, 첨도 값이 클수록 뾰족하고 값이 작을 수록 완만해진다"
   ]
  },
  {
   "cell_type": "code",
   "execution_count": 12,
   "metadata": {
    "colab": {
     "base_uri": "https://localhost:8080/",
     "height": 35
    },
    "colab_type": "code",
    "executionInfo": {
     "elapsed": 66862,
     "status": "ok",
     "timestamp": 1560396324426,
     "user": {
      "displayName": "차시명",
      "photoUrl": "https://lh5.googleusercontent.com/-QWE4RoZUWJc/AAAAAAAAAAI/AAAAAAAAADw/SiMcaKMW0Sg/s64/photo.jpg",
      "userId": "15430965937131994656"
     },
     "user_tz": -540
    },
    "id": "x0h7JvLjF9BH",
    "outputId": "e0fbc66f-230d-4d7d-b3d0-20ae9f79f329"
   },
   "outputs": [
    {
     "name": "stdout",
     "output_type": "stream",
     "text": [
      "transaction_real_price -> Skewness: -0.094932, Kurtosis: 0.248866\n"
     ]
    }
   ],
   "source": [
    "train['transaction_real_price'] = np.log1p(train['transaction_real_price'])\n",
    "print(\"%s -> Skewness: %f, Kurtosis: %f\" %  ('transaction_real_price',train['transaction_real_price'].skew(), \n",
    "                                                     train['transaction_real_price'].kurt()))"
   ]
  },
  {
   "cell_type": "code",
   "execution_count": 13,
   "metadata": {
    "colab": {
     "base_uri": "https://localhost:8080/",
     "height": 410
    },
    "colab_type": "code",
    "executionInfo": {
     "elapsed": 70773,
     "status": "ok",
     "timestamp": 1560396328347,
     "user": {
      "displayName": "차시명",
      "photoUrl": "https://lh5.googleusercontent.com/-QWE4RoZUWJc/AAAAAAAAAAI/AAAAAAAAADw/SiMcaKMW0Sg/s64/photo.jpg",
      "userId": "15430965937131994656"
     },
     "user_tz": -540
    },
    "id": "GwPOCkO6F9BL",
    "outputId": "22dc975d-db54-42dc-dacd-d1c63b56666c"
   },
   "outputs": [
    {
     "data": {
      "text/plain": [
       "<matplotlib.axes._subplots.AxesSubplot at 0x1ed3653efd0>"
      ]
     },
     "execution_count": 13,
     "metadata": {},
     "output_type": "execute_result"
    },
    {
     "data": {
      "image/png": "[encoded data removed]",
      "text/plain": [
       "<Figure size 576x432 with 1 Axes>"
      ]
     },
     "metadata": {
      "needs_background": "light"
     },
     "output_type": "display_data"
    }
   ],
   "source": [
    "f, ax = plt.subplots(figsize = (8,6))\n",
    "sns.distplot(train['transaction_real_price'])"
   ]
  },
  {
   "cell_type": "markdown",
   "metadata": {
    "colab_type": "text",
    "id": "I2WnpdxPF9BP"
   },
   "source": [
    "### columns 상관관계"
   ]
  },
  {
   "cell_type": "code",
   "execution_count": 14,
   "metadata": {
    "colab": {
     "base_uri": "https://localhost:8080/",
     "height": 507
    },
    "colab_type": "code",
    "executionInfo": {
     "elapsed": 72075,
     "status": "ok",
     "timestamp": 1560396329662,
     "user": {
      "displayName": "차시명",
      "photoUrl": "https://lh5.googleusercontent.com/-QWE4RoZUWJc/AAAAAAAAAAI/AAAAAAAAADw/SiMcaKMW0Sg/s64/photo.jpg",
      "userId": "15430965937131994656"
     },
     "user_tz": -540
    },
    "id": "Uq-f3Fv2F9BQ",
    "outputId": "a32530d6-438f-4bfd-d93a-9df3ae86ec3c"
   },
   "outputs": [
    {
     "data": {
      "text/plain": [
       "<matplotlib.axes._subplots.AxesSubplot at 0x1ed367416a0>"
      ]
     },
     "execution_count": 14,
     "metadata": {},
     "output_type": "execute_result"
    },
    {
     "data": {
      "image/png": "[encoded data removed]",
      "text/plain": [
       "<Figure size 576x432 with 2 Axes>"
      ]
     },
     "metadata": {
      "needs_background": "light"
     },
     "output_type": "display_data"
    }
   ],
   "source": [
    "#상관관계 확인\n",
    "k=train.shape[1] #히트맵 변수 갯수\n",
    "corrmat = train.corr() #변수간의 상관관계\n",
    "cols = corrmat.nlargest(k, 'transaction_real_price')['transaction_real_price'].index #price기준으로 제일 큰순서대로 20개를 뽑아냄\n",
    "cm = np.corrcoef(train[cols].values.T)\n",
    "f, ax = plt.subplots(figsize=(8, 6))\n",
    "sns.heatmap(data = cm, annot=True, square=True, fmt = '.2f', linewidths=.5, cmap='Reds', \n",
    "            yticklabels = cols.values, xticklabels = cols.values)"
   ]
  },
  {
   "cell_type": "markdown",
   "metadata": {
    "colab_type": "text",
    "id": "knD5j1THF9BT"
   },
   "source": [
    "## 2.2 Numeric Variable"
   ]
  },
  {
   "cell_type": "markdown",
   "metadata": {
    "colab_type": "text",
    "id": "vX7-nXmrF9BT"
   },
   "source": [
    "## transaction_id & apartment_id : 거래 id & 아파트 id"
   ]
  },
  {
   "cell_type": "code",
   "execution_count": 15,
   "metadata": {
    "colab": {
     "base_uri": "https://localhost:8080/",
     "height": 35
    },
    "colab_type": "code",
    "executionInfo": {
     "elapsed": 72070,
     "status": "ok",
     "timestamp": 1560396329665,
     "user": {
      "displayName": "차시명",
      "photoUrl": "https://lh5.googleusercontent.com/-QWE4RoZUWJc/AAAAAAAAAAI/AAAAAAAAADw/SiMcaKMW0Sg/s64/photo.jpg",
      "userId": "15430965937131994656"
     },
     "user_tz": -540
    },
    "id": "j1CzzxVvF9BU",
    "outputId": "d0dabb48-545f-4214-bdee-e809098b406a"
   },
   "outputs": [
    {
     "data": {
      "text/plain": [
       "12533"
      ]
     },
     "execution_count": 15,
     "metadata": {},
     "output_type": "execute_result"
    }
   ],
   "source": [
    "len(train['apartment_id'].unique())"
   ]
  },
  {
   "cell_type": "markdown",
   "metadata": {
    "colab_type": "text",
    "id": "Umwtuw2_F9Ba"
   },
   "source": [
    "transaction_id는 예측을 하는 데 필요없고, apartment_id는 unique로 갯수를 확인해 보니 12533개로 겹치는 부분이 상당히 많은 것을 알 수 있습니다.\n",
    "\n",
    "transaction_id가 순서가 섞여있지만, 나중에 문제될 것이 없습니다.\n",
    "\n",
    "따라서, transaction_id는 삭제를 하고, apartment_id는 그대로 놔두겠습니다."
   ]
  },
  {
   "cell_type": "code",
   "execution_count": 16,
   "metadata": {
    "colab": {},
    "colab_type": "code",
    "id": "pJ9zHrHDF9Ba"
   },
   "outputs": [],
   "source": [
    "train_id = train['transaction_id']\n",
    "train = train.drop('transaction_id', axis=1)\n",
    "test_id = test['transaction_id']\n",
    "test = test.drop('transaction_id', axis=1)"
   ]
  },
  {
   "cell_type": "markdown",
   "metadata": {
    "colab_type": "text",
    "id": "KLVlRDm7F9Bf"
   },
   "source": [
    "## floor : 층"
   ]
  },
  {
   "cell_type": "code",
   "execution_count": 17,
   "metadata": {
    "colab": {
     "base_uri": "https://localhost:8080/",
     "height": 392
    },
    "colab_type": "code",
    "executionInfo": {
     "elapsed": 84828,
     "status": "ok",
     "timestamp": 1560396342432,
     "user": {
      "displayName": "차시명",
      "photoUrl": "https://lh5.googleusercontent.com/-QWE4RoZUWJc/AAAAAAAAAAI/AAAAAAAAADw/SiMcaKMW0Sg/s64/photo.jpg",
      "userId": "15430965937131994656"
     },
     "user_tz": -540
    },
    "id": "05mHbOIjF9Bg",
    "outputId": "8e5ecbf9-6be6-4253-9f7d-daadc414aae8"
   },
   "outputs": [
    {
     "data": {
      "image/png": "[encoded data removed]",
      "text/plain": [
       "<Figure size 576x432 with 1 Axes>"
      ]
     },
     "metadata": {
      "needs_background": "light"
     },
     "output_type": "display_data"
    }
   ],
   "source": [
    "#약 100만개의 데이터라 sns.regplot 사용 시 엄청 오래걸림...\n",
    "f, ax = plt.subplots(figsize = (8,6))\n",
    "plt.scatter(train['floor'], train['transaction_real_price'])\n",
    "plt.xlabel('floor')\n",
    "plt.ylabel('transaction_real_price')\n",
    "plt.show()"
   ]
  },
  {
   "cell_type": "code",
   "execution_count": 19,
   "metadata": {
    "colab": {
     "base_uri": "https://localhost:8080/",
     "height": 410
    },
    "colab_type": "code",
    "executionInfo": {
     "elapsed": 88811,
     "status": "ok",
     "timestamp": 1560396346431,
     "user": {
      "displayName": "차시명",
      "photoUrl": "https://lh5.googleusercontent.com/-QWE4RoZUWJc/AAAAAAAAAAI/AAAAAAAAADw/SiMcaKMW0Sg/s64/photo.jpg",
      "userId": "15430965937131994656"
     },
     "user_tz": -540
    },
    "id": "Rx4-wICFF9Bl",
    "outputId": "230ce1dd-cccb-45f9-cf86-c0adbd460da3"
   },
   "outputs": [
    {
     "name": "stdout",
     "output_type": "stream",
     "text": [
      "floor -> Skewness: 1.324710, Kurtosis: 3.796603\n"
     ]
    },
    {
     "data": {
      "image/png": "[encoded data removed]",
      "text/plain": [
       "<Figure size 576x432 with 1 Axes>"
      ]
     },
     "metadata": {
      "needs_background": "light"
     },
     "output_type": "display_data"
    }
   ],
   "source": [
    "f, ax = plt.subplots(figsize = (8,6))\n",
    "sns.distplot(train['floor'])\n",
    "print(\"%s -> Skewness: %f, Kurtosis: %f\" %  ('floor',train['floor'].skew(), \n",
    "                                                     train['floor'].kurt()))"
   ]
  },
  {
   "cell_type": "markdown",
   "metadata": {},
   "source": [
    "대부분의 데이터는 다른데이터와 비교하기 위해 왜도, 첨도 조정은 마지막에 한다."
   ]
  },
  {
   "cell_type": "markdown",
   "metadata": {
    "colab_type": "text",
    "id": "g_5chjHBF9Bq"
   },
   "source": [
    "## exclusive_use_area : 전용 면적"
   ]
  },
  {
   "cell_type": "code",
   "execution_count": 20,
   "metadata": {
    "colab": {
     "base_uri": "https://localhost:8080/",
     "height": 179
    },
    "colab_type": "code",
    "executionInfo": {
     "elapsed": 88808,
     "status": "ok",
     "timestamp": 1560396346436,
     "user": {
      "displayName": "차시명",
      "photoUrl": "https://lh5.googleusercontent.com/-QWE4RoZUWJc/AAAAAAAAAAI/AAAAAAAAADw/SiMcaKMW0Sg/s64/photo.jpg",
      "userId": "15430965937131994656"
     },
     "user_tz": -540
    },
    "id": "5sWTE5d-F9Br",
    "outputId": "ed59a62a-91e0-4158-95b7-5e98f2051ecc"
   },
   "outputs": [
    {
     "data": {
      "text/plain": [
       "count    1.216553e+06\n",
       "mean     7.816549e+01\n",
       "std      2.915113e+01\n",
       "min      9.260000e+00\n",
       "25%      5.976000e+01\n",
       "50%      8.241000e+01\n",
       "75%      8.497000e+01\n",
       "max      4.243200e+02\n",
       "Name: exclusive_use_area, dtype: float64"
      ]
     },
     "execution_count": 20,
     "metadata": {},
     "output_type": "execute_result"
    }
   ],
   "source": [
    "train['exclusive_use_area'].describe()"
   ]
  },
  {
   "cell_type": "markdown",
   "metadata": {
    "colab_type": "text",
    "id": "Skfvqw0uF9Bt"
   },
   "source": [
    "* 평균 : 78.16549\n",
    "* 표준편차 : 29.15113\n",
    "* min : 9.26\n",
    "* max : 424.32\n",
    "\n",
    "float형식으로 나타나있음. 면적의 단위는 m^2"
   ]
  },
  {
   "cell_type": "code",
   "execution_count": 21,
   "metadata": {
    "colab": {
     "base_uri": "https://localhost:8080/",
     "height": 392
    },
    "colab_type": "code",
    "executionInfo": {
     "elapsed": 101396,
     "status": "ok",
     "timestamp": 1560396359033,
     "user": {
      "displayName": "차시명",
      "photoUrl": "https://lh5.googleusercontent.com/-QWE4RoZUWJc/AAAAAAAAAAI/AAAAAAAAADw/SiMcaKMW0Sg/s64/photo.jpg",
      "userId": "15430965937131994656"
     },
     "user_tz": -540
    },
    "id": "4Z9yvYsyF9Bu",
    "outputId": "cbe0ee8f-3e72-4b43-8773-f74fdf209b45"
   },
   "outputs": [
    {
     "data": {
      "image/png": "[encoded data removed]",
      "text/plain": [
       "<Figure size 576x432 with 1 Axes>"
      ]
     },
     "metadata": {
      "needs_background": "light"
     },
     "output_type": "display_data"
    }
   ],
   "source": [
    "#약 100만개의 데이터라 sns.regplot 사용 시 엄청 오래걸림...\n",
    "f, ax = plt.subplots(figsize = (8,6))\n",
    "plt.scatter(train['exclusive_use_area'], train['transaction_real_price'])\n",
    "plt.xlabel('exclusive_use_area')\n",
    "plt.ylabel('transaction_real_price')\n",
    "plt.show()"
   ]
  },
  {
   "cell_type": "markdown",
   "metadata": {
    "colab_type": "text",
    "id": "u5cbosjYF9Bx"
   },
   "source": [
    "많이 벗어나 보이는 이상치들을 탐색해보겠습니다."
   ]
  },
  {
   "cell_type": "code",
   "execution_count": 22,
   "metadata": {
    "colab": {
     "base_uri": "https://localhost:8080/",
     "height": 202
    },
    "colab_type": "code",
    "executionInfo": {
     "elapsed": 101390,
     "status": "ok",
     "timestamp": 1560396359035,
     "user": {
      "displayName": "차시명",
      "photoUrl": "https://lh5.googleusercontent.com/-QWE4RoZUWJc/AAAAAAAAAAI/AAAAAAAAADw/SiMcaKMW0Sg/s64/photo.jpg",
      "userId": "15430965937131994656"
     },
     "user_tz": -540
    },
    "id": "tNtF4k6CF9Bx",
    "outputId": "1a6d2569-6cea-4666-88ab-6dc95d9a7664"
   },
   "outputs": [
    {
     "data": {
      "text/html": [
       "<div>\n",
       "<style scoped>\n",
       "    .dataframe tbody tr th:only-of-type {\n",
       "        vertical-align: middle;\n",
       "    }\n",
       "\n",
       "    .dataframe tbody tr th {\n",
       "        vertical-align: top;\n",
       "    }\n",
       "\n",
       "    .dataframe thead th {\n",
       "        text-align: right;\n",
       "    }\n",
       "</style>\n",
       "<table border=\"1\" class=\"dataframe\">\n",
       "  <thead>\n",
       "    <tr style=\"text-align: right;\">\n",
       "      <th></th>\n",
       "      <th>apartment_id</th>\n",
       "      <th>city</th>\n",
       "      <th>dong</th>\n",
       "      <th>jibun</th>\n",
       "      <th>apt</th>\n",
       "      <th>addr_kr</th>\n",
       "      <th>exclusive_use_area</th>\n",
       "      <th>year_of_completion</th>\n",
       "      <th>transaction_year_month</th>\n",
       "      <th>transaction_date</th>\n",
       "      <th>floor</th>\n",
       "      <th>transaction_real_price</th>\n",
       "    </tr>\n",
       "  </thead>\n",
       "  <tbody>\n",
       "    <tr>\n",
       "      <th>563870</th>\n",
       "      <td>12633</td>\n",
       "      <td>서울특별시</td>\n",
       "      <td>도곡동</td>\n",
       "      <td>193-1</td>\n",
       "      <td>힐데스하임빌라</td>\n",
       "      <td>도곡동 193-1 힐데스하임빌라</td>\n",
       "      <td>424.32</td>\n",
       "      <td>1998</td>\n",
       "      <td>201604</td>\n",
       "      <td>11~20</td>\n",
       "      <td>10</td>\n",
       "      <td>13.118357</td>\n",
       "    </tr>\n",
       "  </tbody>\n",
       "</table>\n",
       "</div>"
      ],
      "text/plain": [
       "        apartment_id   city dong  jibun      apt            addr_kr  \\\n",
       "563870         12633  서울특별시  도곡동  193-1  힐데스하임빌라  도곡동 193-1 힐데스하임빌라   \n",
       "\n",
       "        exclusive_use_area  year_of_completion  transaction_year_month  \\\n",
       "563870              424.32                1998                  201604   \n",
       "\n",
       "       transaction_date  floor  transaction_real_price  \n",
       "563870            11~20     10               13.118357  "
      ]
     },
     "execution_count": 22,
     "metadata": {},
     "output_type": "execute_result"
    }
   ],
   "source": [
    "train[train['exclusive_use_area']>400]"
   ]
  },
  {
   "cell_type": "code",
   "execution_count": 23,
   "metadata": {
    "colab": {
     "base_uri": "https://localhost:8080/",
     "height": 267
    },
    "colab_type": "code",
    "executionInfo": {
     "elapsed": 101383,
     "status": "ok",
     "timestamp": 1560396359036,
     "user": {
      "displayName": "차시명",
      "photoUrl": "https://lh5.googleusercontent.com/-QWE4RoZUWJc/AAAAAAAAAAI/AAAAAAAAADw/SiMcaKMW0Sg/s64/photo.jpg",
      "userId": "15430965937131994656"
     },
     "user_tz": -540
    },
    "id": "mAhueqUrcIFU",
    "outputId": "df5da80b-e95b-40a9-a3b7-1e2fa4b5fd46"
   },
   "outputs": [
    {
     "data": {
      "text/html": [
       "<div>\n",
       "<style scoped>\n",
       "    .dataframe tbody tr th:only-of-type {\n",
       "        vertical-align: middle;\n",
       "    }\n",
       "\n",
       "    .dataframe tbody tr th {\n",
       "        vertical-align: top;\n",
       "    }\n",
       "\n",
       "    .dataframe thead th {\n",
       "        text-align: right;\n",
       "    }\n",
       "</style>\n",
       "<table border=\"1\" class=\"dataframe\">\n",
       "  <thead>\n",
       "    <tr style=\"text-align: right;\">\n",
       "      <th></th>\n",
       "      <th>apartment_id</th>\n",
       "      <th>city</th>\n",
       "      <th>dong</th>\n",
       "      <th>jibun</th>\n",
       "      <th>apt</th>\n",
       "      <th>addr_kr</th>\n",
       "      <th>exclusive_use_area</th>\n",
       "      <th>year_of_completion</th>\n",
       "      <th>transaction_year_month</th>\n",
       "      <th>transaction_date</th>\n",
       "      <th>floor</th>\n",
       "      <th>transaction_real_price</th>\n",
       "    </tr>\n",
       "  </thead>\n",
       "  <tbody>\n",
       "    <tr>\n",
       "      <th>312119</th>\n",
       "      <td>10853</td>\n",
       "      <td>서울특별시</td>\n",
       "      <td>신월동</td>\n",
       "      <td>128</td>\n",
       "      <td>태헌(신월프라자)</td>\n",
       "      <td>신월동 128 태헌(신월프라자)</td>\n",
       "      <td>56.97</td>\n",
       "      <td>1999</td>\n",
       "      <td>201005</td>\n",
       "      <td>21~31</td>\n",
       "      <td>7</td>\n",
       "      <td>5.860786</td>\n",
       "    </tr>\n",
       "    <tr>\n",
       "      <th>722888</th>\n",
       "      <td>6225</td>\n",
       "      <td>부산광역시</td>\n",
       "      <td>범전동</td>\n",
       "      <td>263-5</td>\n",
       "      <td>서면</td>\n",
       "      <td>범전동 263-5 서면</td>\n",
       "      <td>138.25</td>\n",
       "      <td>1974</td>\n",
       "      <td>201606</td>\n",
       "      <td>21~30</td>\n",
       "      <td>-1</td>\n",
       "      <td>4.615121</td>\n",
       "    </tr>\n",
       "  </tbody>\n",
       "</table>\n",
       "</div>"
      ],
      "text/plain": [
       "        apartment_id   city dong  jibun        apt            addr_kr  \\\n",
       "312119         10853  서울특별시  신월동    128  태헌(신월프라자)  신월동 128 태헌(신월프라자)   \n",
       "722888          6225  부산광역시  범전동  263-5         서면       범전동 263-5 서면   \n",
       "\n",
       "        exclusive_use_area  year_of_completion  transaction_year_month  \\\n",
       "312119               56.97                1999                  201005   \n",
       "722888              138.25                1974                  201606   \n",
       "\n",
       "       transaction_date  floor  transaction_real_price  \n",
       "312119            21~31      7                5.860786  \n",
       "722888            21~30     -1                4.615121  "
      ]
     },
     "execution_count": 23,
     "metadata": {},
     "output_type": "execute_result"
    }
   ],
   "source": [
    "train[(train['exclusive_use_area']<150)&(train['transaction_real_price']<6)]"
   ]
  },
  {
   "cell_type": "markdown",
   "metadata": {
    "colab_type": "text",
    "id": "-sCqk6BQF9B0"
   },
   "source": [
    "딱히 이상이 없어 보임"
   ]
  },
  {
   "cell_type": "code",
   "execution_count": 24,
   "metadata": {
    "colab": {
     "base_uri": "https://localhost:8080/",
     "height": 410
    },
    "colab_type": "code",
    "executionInfo": {
     "elapsed": 105261,
     "status": "ok",
     "timestamp": 1560396362925,
     "user": {
      "displayName": "차시명",
      "photoUrl": "https://lh5.googleusercontent.com/-QWE4RoZUWJc/AAAAAAAAAAI/AAAAAAAAADw/SiMcaKMW0Sg/s64/photo.jpg",
      "userId": "15430965937131994656"
     },
     "user_tz": -540
    },
    "id": "OwYKfQNkF9B1",
    "outputId": "089e9c20-7b54-4ab2-85cc-d4263262dc37"
   },
   "outputs": [
    {
     "name": "stdout",
     "output_type": "stream",
     "text": [
      "exclusive_use_area -> Skewness: 1.227509, Kurtosis: 3.100517\n"
     ]
    },
    {
     "data": {
      "image/png": "[encoded data removed]",
      "text/plain": [
       "<Figure size 576x432 with 1 Axes>"
      ]
     },
     "metadata": {
      "needs_background": "light"
     },
     "output_type": "display_data"
    }
   ],
   "source": [
    "f, ax = plt.subplots(figsize = (8,6))\n",
    "sns.distplot(train['exclusive_use_area'])\n",
    "print(\"%s -> Skewness: %f, Kurtosis: %f\" %  ('exclusive_use_area',train['exclusive_use_area'].skew(), \n",
    "                                                     train['exclusive_use_area'].kurt()))"
   ]
  },
  {
   "cell_type": "markdown",
   "metadata": {
    "colab_type": "text",
    "id": "-Zy75UqYF9B8"
   },
   "source": [
    "## transaction_year_month : 거래 년, 월"
   ]
  },
  {
   "cell_type": "code",
   "execution_count": 25,
   "metadata": {
    "colab": {},
    "colab_type": "code",
    "id": "tl7YxIHhF9B9"
   },
   "outputs": [],
   "source": [
    "train_test_data = [train, test]\n",
    "\n",
    "for dataset in train_test_data:\n",
    "    #date -> 년, 월 단위로 새로운 칼럼 만듦\n",
    "    dataset['transaction_year_month'] = dataset['transaction_year_month'].astype(str)\n",
    "    dataset['year'] = dataset['transaction_year_month'].str[:4].astype(int)\n",
    "    dataset['month'] = dataset['transaction_year_month'].str[4:6].astype(int)\n",
    "    dataset['transaction_year_month'] = dataset['transaction_year_month'].astype(int)"
   ]
  },
  {
   "cell_type": "code",
   "execution_count": 26,
   "metadata": {
    "colab": {
     "base_uri": "https://localhost:8080/",
     "height": 392
    },
    "colab_type": "code",
    "executionInfo": {
     "elapsed": 107162,
     "status": "ok",
     "timestamp": 1560396364838,
     "user": {
      "displayName": "차시명",
      "photoUrl": "https://lh5.googleusercontent.com/-QWE4RoZUWJc/AAAAAAAAAAI/AAAAAAAAADw/SiMcaKMW0Sg/s64/photo.jpg",
      "userId": "15430965937131994656"
     },
     "user_tz": -540
    },
    "id": "9ZFbs_8JF9CA",
    "outputId": "5150da2e-7752-42c1-f716-e9f382135291"
   },
   "outputs": [
    {
     "data": {
      "image/png": "[encoded data removed]",
      "text/plain": [
       "<Figure size 576x432 with 1 Axes>"
      ]
     },
     "metadata": {
      "needs_background": "light"
     },
     "output_type": "display_data"
    }
   ],
   "source": [
    "f, ax = plt.subplots(figsize = (8,6))\n",
    "sns.boxplot(train['year'], train['transaction_real_price'])\n",
    "plt.show()"
   ]
  },
  {
   "cell_type": "code",
   "execution_count": 27,
   "metadata": {
    "colab": {
     "base_uri": "https://localhost:8080/",
     "height": 134
    },
    "colab_type": "code",
    "executionInfo": {
     "elapsed": 107155,
     "status": "ok",
     "timestamp": 1560396364839,
     "user": {
      "displayName": "차시명",
      "photoUrl": "https://lh5.googleusercontent.com/-QWE4RoZUWJc/AAAAAAAAAAI/AAAAAAAAADw/SiMcaKMW0Sg/s64/photo.jpg",
      "userId": "15430965937131994656"
     },
     "user_tz": -540
    },
    "id": "VaH8daHeey-X",
    "outputId": "8e4dce81-d8ea-4ae0-a857-3b955deb9691"
   },
   "outputs": [
    {
     "data": {
      "text/html": [
       "<div>\n",
       "<style scoped>\n",
       "    .dataframe tbody tr th:only-of-type {\n",
       "        vertical-align: middle;\n",
       "    }\n",
       "\n",
       "    .dataframe tbody tr th {\n",
       "        vertical-align: top;\n",
       "    }\n",
       "\n",
       "    .dataframe thead th {\n",
       "        text-align: right;\n",
       "    }\n",
       "</style>\n",
       "<table border=\"1\" class=\"dataframe\">\n",
       "  <thead>\n",
       "    <tr style=\"text-align: right;\">\n",
       "      <th></th>\n",
       "      <th>apartment_id</th>\n",
       "      <th>city</th>\n",
       "      <th>dong</th>\n",
       "      <th>jibun</th>\n",
       "      <th>apt</th>\n",
       "      <th>addr_kr</th>\n",
       "      <th>exclusive_use_area</th>\n",
       "      <th>year_of_completion</th>\n",
       "      <th>transaction_year_month</th>\n",
       "      <th>transaction_date</th>\n",
       "      <th>floor</th>\n",
       "      <th>transaction_real_price</th>\n",
       "      <th>year</th>\n",
       "      <th>month</th>\n",
       "    </tr>\n",
       "  </thead>\n",
       "  <tbody>\n",
       "    <tr>\n",
       "      <th>722888</th>\n",
       "      <td>6225</td>\n",
       "      <td>부산광역시</td>\n",
       "      <td>범전동</td>\n",
       "      <td>263-5</td>\n",
       "      <td>서면</td>\n",
       "      <td>범전동 263-5 서면</td>\n",
       "      <td>138.25</td>\n",
       "      <td>1974</td>\n",
       "      <td>201606</td>\n",
       "      <td>21~30</td>\n",
       "      <td>-1</td>\n",
       "      <td>4.615121</td>\n",
       "      <td>2016</td>\n",
       "      <td>6</td>\n",
       "    </tr>\n",
       "  </tbody>\n",
       "</table>\n",
       "</div>"
      ],
      "text/plain": [
       "        apartment_id   city dong  jibun apt       addr_kr  exclusive_use_area  \\\n",
       "722888          6225  부산광역시  범전동  263-5  서면  범전동 263-5 서면              138.25   \n",
       "\n",
       "        year_of_completion  transaction_year_month transaction_date  floor  \\\n",
       "722888                1974                  201606            21~30     -1   \n",
       "\n",
       "        transaction_real_price  year  month  \n",
       "722888                4.615121  2016      6  "
      ]
     },
     "execution_count": 27,
     "metadata": {},
     "output_type": "execute_result"
    }
   ],
   "source": [
    "train[(train['year']==2016) & (train['transaction_real_price']<6)]"
   ]
  },
  {
   "cell_type": "markdown",
   "metadata": {
    "colab_type": "text",
    "id": "T0EcbXnBgr2X"
   },
   "source": [
    "서면아파트가 왜이렇게 값이 낮을까 다른 아파트는 어떨지.."
   ]
  },
  {
   "cell_type": "code",
   "execution_count": 28,
   "metadata": {
    "colab": {
     "base_uri": "https://localhost:8080/",
     "height": 1109
    },
    "colab_type": "code",
    "executionInfo": {
     "elapsed": 107144,
     "status": "ok",
     "timestamp": 1560396364840,
     "user": {
      "displayName": "차시명",
      "photoUrl": "https://lh5.googleusercontent.com/-QWE4RoZUWJc/AAAAAAAAAAI/AAAAAAAAADw/SiMcaKMW0Sg/s64/photo.jpg",
      "userId": "15430965937131994656"
     },
     "user_tz": -540
    },
    "id": "81JDOruZgq8n",
    "outputId": "6e58733f-2dfe-4c8a-cd54-7be8a26c1f79"
   },
   "outputs": [
    {
     "data": {
      "text/html": [
       "<div>\n",
       "<style scoped>\n",
       "    .dataframe tbody tr th:only-of-type {\n",
       "        vertical-align: middle;\n",
       "    }\n",
       "\n",
       "    .dataframe tbody tr th {\n",
       "        vertical-align: top;\n",
       "    }\n",
       "\n",
       "    .dataframe thead th {\n",
       "        text-align: right;\n",
       "    }\n",
       "</style>\n",
       "<table border=\"1\" class=\"dataframe\">\n",
       "  <thead>\n",
       "    <tr style=\"text-align: right;\">\n",
       "      <th></th>\n",
       "      <th>apartment_id</th>\n",
       "      <th>city</th>\n",
       "      <th>dong</th>\n",
       "      <th>jibun</th>\n",
       "      <th>apt</th>\n",
       "      <th>addr_kr</th>\n",
       "      <th>exclusive_use_area</th>\n",
       "      <th>year_of_completion</th>\n",
       "      <th>transaction_year_month</th>\n",
       "      <th>transaction_date</th>\n",
       "      <th>floor</th>\n",
       "      <th>transaction_real_price</th>\n",
       "      <th>year</th>\n",
       "      <th>month</th>\n",
       "    </tr>\n",
       "  </thead>\n",
       "  <tbody>\n",
       "    <tr>\n",
       "      <th>695725</th>\n",
       "      <td>6238</td>\n",
       "      <td>부산광역시</td>\n",
       "      <td>전포동</td>\n",
       "      <td>산99-46</td>\n",
       "      <td>서면</td>\n",
       "      <td>전포동 산99-46 서면</td>\n",
       "      <td>57.59</td>\n",
       "      <td>1976</td>\n",
       "      <td>201105</td>\n",
       "      <td>21~31</td>\n",
       "      <td>3</td>\n",
       "      <td>8.682877</td>\n",
       "      <td>2011</td>\n",
       "      <td>5</td>\n",
       "    </tr>\n",
       "    <tr>\n",
       "      <th>696834</th>\n",
       "      <td>6238</td>\n",
       "      <td>부산광역시</td>\n",
       "      <td>전포동</td>\n",
       "      <td>산99-46</td>\n",
       "      <td>서면</td>\n",
       "      <td>전포동 산99-46 서면</td>\n",
       "      <td>57.59</td>\n",
       "      <td>1976</td>\n",
       "      <td>201108</td>\n",
       "      <td>21~31</td>\n",
       "      <td>1</td>\n",
       "      <td>8.922792</td>\n",
       "      <td>2011</td>\n",
       "      <td>8</td>\n",
       "    </tr>\n",
       "    <tr>\n",
       "      <th>700884</th>\n",
       "      <td>6225</td>\n",
       "      <td>부산광역시</td>\n",
       "      <td>범전동</td>\n",
       "      <td>263-5</td>\n",
       "      <td>서면</td>\n",
       "      <td>범전동 263-5 서면</td>\n",
       "      <td>88.93</td>\n",
       "      <td>1974</td>\n",
       "      <td>201206</td>\n",
       "      <td>1~10</td>\n",
       "      <td>1</td>\n",
       "      <td>10.126671</td>\n",
       "      <td>2012</td>\n",
       "      <td>6</td>\n",
       "    </tr>\n",
       "    <tr>\n",
       "      <th>702589</th>\n",
       "      <td>6238</td>\n",
       "      <td>부산광역시</td>\n",
       "      <td>전포동</td>\n",
       "      <td>산99-46</td>\n",
       "      <td>서면</td>\n",
       "      <td>전포동 산99-46 서면</td>\n",
       "      <td>57.59</td>\n",
       "      <td>1976</td>\n",
       "      <td>201212</td>\n",
       "      <td>21~31</td>\n",
       "      <td>5</td>\n",
       "      <td>8.699681</td>\n",
       "      <td>2012</td>\n",
       "      <td>12</td>\n",
       "    </tr>\n",
       "    <tr>\n",
       "      <th>702876</th>\n",
       "      <td>6238</td>\n",
       "      <td>부산광역시</td>\n",
       "      <td>전포동</td>\n",
       "      <td>산99-46</td>\n",
       "      <td>서면</td>\n",
       "      <td>전포동 산99-46 서면</td>\n",
       "      <td>57.59</td>\n",
       "      <td>1976</td>\n",
       "      <td>201301</td>\n",
       "      <td>11~20</td>\n",
       "      <td>4</td>\n",
       "      <td>8.909370</td>\n",
       "      <td>2013</td>\n",
       "      <td>1</td>\n",
       "    </tr>\n",
       "    <tr>\n",
       "      <th>703979</th>\n",
       "      <td>6238</td>\n",
       "      <td>부산광역시</td>\n",
       "      <td>전포동</td>\n",
       "      <td>산99-46</td>\n",
       "      <td>서면</td>\n",
       "      <td>전포동 산99-46 서면</td>\n",
       "      <td>57.59</td>\n",
       "      <td>1976</td>\n",
       "      <td>201304</td>\n",
       "      <td>1~10</td>\n",
       "      <td>1</td>\n",
       "      <td>8.853808</td>\n",
       "      <td>2013</td>\n",
       "      <td>4</td>\n",
       "    </tr>\n",
       "    <tr>\n",
       "      <th>711024</th>\n",
       "      <td>6238</td>\n",
       "      <td>부산광역시</td>\n",
       "      <td>전포동</td>\n",
       "      <td>산99-46</td>\n",
       "      <td>서면</td>\n",
       "      <td>전포동 산99-46 서면</td>\n",
       "      <td>57.59</td>\n",
       "      <td>1976</td>\n",
       "      <td>201407</td>\n",
       "      <td>21~31</td>\n",
       "      <td>5</td>\n",
       "      <td>8.853808</td>\n",
       "      <td>2014</td>\n",
       "      <td>7</td>\n",
       "    </tr>\n",
       "    <tr>\n",
       "      <th>712441</th>\n",
       "      <td>6238</td>\n",
       "      <td>부산광역시</td>\n",
       "      <td>전포동</td>\n",
       "      <td>산99-46</td>\n",
       "      <td>서면</td>\n",
       "      <td>전포동 산99-46 서면</td>\n",
       "      <td>57.59</td>\n",
       "      <td>1976</td>\n",
       "      <td>201410</td>\n",
       "      <td>21~31</td>\n",
       "      <td>3</td>\n",
       "      <td>9.082621</td>\n",
       "      <td>2014</td>\n",
       "      <td>10</td>\n",
       "    </tr>\n",
       "    <tr>\n",
       "      <th>713864</th>\n",
       "      <td>6238</td>\n",
       "      <td>부산광역시</td>\n",
       "      <td>전포동</td>\n",
       "      <td>산99-46</td>\n",
       "      <td>서면</td>\n",
       "      <td>전포동 산99-46 서면</td>\n",
       "      <td>57.59</td>\n",
       "      <td>1976</td>\n",
       "      <td>201501</td>\n",
       "      <td>1~10</td>\n",
       "      <td>4</td>\n",
       "      <td>8.955577</td>\n",
       "      <td>2015</td>\n",
       "      <td>1</td>\n",
       "    </tr>\n",
       "    <tr>\n",
       "      <th>721684</th>\n",
       "      <td>6238</td>\n",
       "      <td>부산광역시</td>\n",
       "      <td>전포동</td>\n",
       "      <td>산99-46</td>\n",
       "      <td>서면</td>\n",
       "      <td>전포동 산99-46 서면</td>\n",
       "      <td>57.59</td>\n",
       "      <td>1976</td>\n",
       "      <td>201604</td>\n",
       "      <td>1~10</td>\n",
       "      <td>1</td>\n",
       "      <td>9.059634</td>\n",
       "      <td>2016</td>\n",
       "      <td>4</td>\n",
       "    </tr>\n",
       "    <tr>\n",
       "      <th>722888</th>\n",
       "      <td>6225</td>\n",
       "      <td>부산광역시</td>\n",
       "      <td>범전동</td>\n",
       "      <td>263-5</td>\n",
       "      <td>서면</td>\n",
       "      <td>범전동 263-5 서면</td>\n",
       "      <td>138.25</td>\n",
       "      <td>1974</td>\n",
       "      <td>201606</td>\n",
       "      <td>21~30</td>\n",
       "      <td>-1</td>\n",
       "      <td>4.615121</td>\n",
       "      <td>2016</td>\n",
       "      <td>6</td>\n",
       "    </tr>\n",
       "    <tr>\n",
       "      <th>723957</th>\n",
       "      <td>6225</td>\n",
       "      <td>부산광역시</td>\n",
       "      <td>범전동</td>\n",
       "      <td>263-5</td>\n",
       "      <td>서면</td>\n",
       "      <td>범전동 263-5 서면</td>\n",
       "      <td>55.04</td>\n",
       "      <td>1974</td>\n",
       "      <td>201608</td>\n",
       "      <td>21~31</td>\n",
       "      <td>2</td>\n",
       "      <td>10.051951</td>\n",
       "      <td>2016</td>\n",
       "      <td>8</td>\n",
       "    </tr>\n",
       "    <tr>\n",
       "      <th>726597</th>\n",
       "      <td>6238</td>\n",
       "      <td>부산광역시</td>\n",
       "      <td>전포동</td>\n",
       "      <td>산99-46</td>\n",
       "      <td>서면</td>\n",
       "      <td>전포동 산99-46 서면</td>\n",
       "      <td>57.59</td>\n",
       "      <td>1976</td>\n",
       "      <td>201612</td>\n",
       "      <td>11~20</td>\n",
       "      <td>4</td>\n",
       "      <td>8.802522</td>\n",
       "      <td>2016</td>\n",
       "      <td>12</td>\n",
       "    </tr>\n",
       "    <tr>\n",
       "      <th>1186983</th>\n",
       "      <td>6225</td>\n",
       "      <td>부산광역시</td>\n",
       "      <td>범전동</td>\n",
       "      <td>263-5</td>\n",
       "      <td>서면</td>\n",
       "      <td>범전동 263-5 서면</td>\n",
       "      <td>34.08</td>\n",
       "      <td>1974</td>\n",
       "      <td>201702</td>\n",
       "      <td>11~20</td>\n",
       "      <td>1</td>\n",
       "      <td>9.705098</td>\n",
       "      <td>2017</td>\n",
       "      <td>2</td>\n",
       "    </tr>\n",
       "    <tr>\n",
       "      <th>1189112</th>\n",
       "      <td>6238</td>\n",
       "      <td>부산광역시</td>\n",
       "      <td>전포동</td>\n",
       "      <td>산99-46</td>\n",
       "      <td>서면</td>\n",
       "      <td>전포동 산99-46 서면</td>\n",
       "      <td>57.59</td>\n",
       "      <td>1976</td>\n",
       "      <td>201706</td>\n",
       "      <td>21~30</td>\n",
       "      <td>3</td>\n",
       "      <td>9.137877</td>\n",
       "      <td>2017</td>\n",
       "      <td>6</td>\n",
       "    </tr>\n",
       "    <tr>\n",
       "      <th>1189212</th>\n",
       "      <td>6225</td>\n",
       "      <td>부산광역시</td>\n",
       "      <td>범전동</td>\n",
       "      <td>263-5</td>\n",
       "      <td>서면</td>\n",
       "      <td>범전동 263-5 서면</td>\n",
       "      <td>54.15</td>\n",
       "      <td>1974</td>\n",
       "      <td>201706</td>\n",
       "      <td>1~10</td>\n",
       "      <td>5</td>\n",
       "      <td>10.173553</td>\n",
       "      <td>2017</td>\n",
       "      <td>6</td>\n",
       "    </tr>\n",
       "  </tbody>\n",
       "</table>\n",
       "</div>"
      ],
      "text/plain": [
       "         apartment_id   city dong   jibun apt        addr_kr  \\\n",
       "695725           6238  부산광역시  전포동  산99-46  서면  전포동 산99-46 서면   \n",
       "696834           6238  부산광역시  전포동  산99-46  서면  전포동 산99-46 서면   \n",
       "700884           6225  부산광역시  범전동   263-5  서면   범전동 263-5 서면   \n",
       "702589           6238  부산광역시  전포동  산99-46  서면  전포동 산99-46 서면   \n",
       "702876           6238  부산광역시  전포동  산99-46  서면  전포동 산99-46 서면   \n",
       "703979           6238  부산광역시  전포동  산99-46  서면  전포동 산99-46 서면   \n",
       "711024           6238  부산광역시  전포동  산99-46  서면  전포동 산99-46 서면   \n",
       "712441           6238  부산광역시  전포동  산99-46  서면  전포동 산99-46 서면   \n",
       "713864           6238  부산광역시  전포동  산99-46  서면  전포동 산99-46 서면   \n",
       "721684           6238  부산광역시  전포동  산99-46  서면  전포동 산99-46 서면   \n",
       "722888           6225  부산광역시  범전동   263-5  서면   범전동 263-5 서면   \n",
       "723957           6225  부산광역시  범전동   263-5  서면   범전동 263-5 서면   \n",
       "726597           6238  부산광역시  전포동  산99-46  서면  전포동 산99-46 서면   \n",
       "1186983          6225  부산광역시  범전동   263-5  서면   범전동 263-5 서면   \n",
       "1189112          6238  부산광역시  전포동  산99-46  서면  전포동 산99-46 서면   \n",
       "1189212          6225  부산광역시  범전동   263-5  서면   범전동 263-5 서면   \n",
       "\n",
       "         exclusive_use_area  year_of_completion  transaction_year_month  \\\n",
       "695725                57.59                1976                  201105   \n",
       "696834                57.59                1976                  201108   \n",
       "700884                88.93                1974                  201206   \n",
       "702589                57.59                1976                  201212   \n",
       "702876                57.59                1976                  201301   \n",
       "703979                57.59                1976                  201304   \n",
       "711024                57.59                1976                  201407   \n",
       "712441                57.59                1976                  201410   \n",
       "713864                57.59                1976                  201501   \n",
       "721684                57.59                1976                  201604   \n",
       "722888               138.25                1974                  201606   \n",
       "723957                55.04                1974                  201608   \n",
       "726597                57.59                1976                  201612   \n",
       "1186983               34.08                1974                  201702   \n",
       "1189112               57.59                1976                  201706   \n",
       "1189212               54.15                1974                  201706   \n",
       "\n",
       "        transaction_date  floor  transaction_real_price  year  month  \n",
       "695725             21~31      3                8.682877  2011      5  \n",
       "696834             21~31      1                8.922792  2011      8  \n",
       "700884              1~10      1               10.126671  2012      6  \n",
       "702589             21~31      5                8.699681  2012     12  \n",
       "702876             11~20      4                8.909370  2013      1  \n",
       "703979              1~10      1                8.853808  2013      4  \n",
       "711024             21~31      5                8.853808  2014      7  \n",
       "712441             21~31      3                9.082621  2014     10  \n",
       "713864              1~10      4                8.955577  2015      1  \n",
       "721684              1~10      1                9.059634  2016      4  \n",
       "722888             21~30     -1                4.615121  2016      6  \n",
       "723957             21~31      2               10.051951  2016      8  \n",
       "726597             11~20      4                8.802522  2016     12  \n",
       "1186983            11~20      1                9.705098  2017      2  \n",
       "1189112            21~30      3                9.137877  2017      6  \n",
       "1189212             1~10      5               10.173553  2017      6  "
      ]
     },
     "execution_count": 28,
     "metadata": {},
     "output_type": "execute_result"
    }
   ],
   "source": [
    "train[train['apt']=='서면']"
   ]
  },
  {
   "cell_type": "markdown",
   "metadata": {
    "colab_type": "text",
    "id": "6IhT4R7BibA3"
   },
   "source": [
    "floor가 -1인 경우 가격이 현저히 낮음, 다른 -1층은?"
   ]
  },
  {
   "cell_type": "code",
   "execution_count": 29,
   "metadata": {
    "colab": {
     "base_uri": "https://localhost:8080/",
     "height": 5474
    },
    "colab_type": "code",
    "executionInfo": {
     "elapsed": 107493,
     "status": "ok",
     "timestamp": 1560396365197,
     "user": {
      "displayName": "차시명",
      "photoUrl": "https://lh5.googleusercontent.com/-QWE4RoZUWJc/AAAAAAAAAAI/AAAAAAAAADw/SiMcaKMW0Sg/s64/photo.jpg",
      "userId": "15430965937131994656"
     },
     "user_tz": -540
    },
    "id": "bxkJQvDqiaLH",
    "outputId": "260d37b7-824c-4ab8-db78-296f9d40d822"
   },
   "outputs": [
    {
     "data": {
      "text/html": [
       "<div>\n",
       "<style scoped>\n",
       "    .dataframe tbody tr th:only-of-type {\n",
       "        vertical-align: middle;\n",
       "    }\n",
       "\n",
       "    .dataframe tbody tr th {\n",
       "        vertical-align: top;\n",
       "    }\n",
       "\n",
       "    .dataframe thead th {\n",
       "        text-align: right;\n",
       "    }\n",
       "</style>\n",
       "<table border=\"1\" class=\"dataframe\">\n",
       "  <thead>\n",
       "    <tr style=\"text-align: right;\">\n",
       "      <th></th>\n",
       "      <th>apartment_id</th>\n",
       "      <th>city</th>\n",
       "      <th>dong</th>\n",
       "      <th>jibun</th>\n",
       "      <th>apt</th>\n",
       "      <th>addr_kr</th>\n",
       "      <th>exclusive_use_area</th>\n",
       "      <th>year_of_completion</th>\n",
       "      <th>transaction_year_month</th>\n",
       "      <th>transaction_date</th>\n",
       "      <th>floor</th>\n",
       "      <th>transaction_real_price</th>\n",
       "      <th>year</th>\n",
       "      <th>month</th>\n",
       "    </tr>\n",
       "  </thead>\n",
       "  <tbody>\n",
       "    <tr>\n",
       "      <th>722888</th>\n",
       "      <td>6225</td>\n",
       "      <td>부산광역시</td>\n",
       "      <td>범전동</td>\n",
       "      <td>263-5</td>\n",
       "      <td>서면</td>\n",
       "      <td>범전동 263-5 서면</td>\n",
       "      <td>138.250</td>\n",
       "      <td>1974</td>\n",
       "      <td>201606</td>\n",
       "      <td>21~30</td>\n",
       "      <td>-1</td>\n",
       "      <td>4.615121</td>\n",
       "      <td>2016</td>\n",
       "      <td>6</td>\n",
       "    </tr>\n",
       "    <tr>\n",
       "      <th>651052</th>\n",
       "      <td>1514</td>\n",
       "      <td>부산광역시</td>\n",
       "      <td>대청동4가</td>\n",
       "      <td>75-176</td>\n",
       "      <td>근영빌라2동</td>\n",
       "      <td>대청동4가 75-176 근영빌라2동</td>\n",
       "      <td>47.170</td>\n",
       "      <td>1996</td>\n",
       "      <td>200809</td>\n",
       "      <td>21~30</td>\n",
       "      <td>-1</td>\n",
       "      <td>7.170888</td>\n",
       "      <td>2008</td>\n",
       "      <td>9</td>\n",
       "    </tr>\n",
       "    <tr>\n",
       "      <th>651087</th>\n",
       "      <td>1513</td>\n",
       "      <td>부산광역시</td>\n",
       "      <td>대청동4가</td>\n",
       "      <td>75-181</td>\n",
       "      <td>근영빌라1동</td>\n",
       "      <td>대청동4가 75-181 근영빌라1동</td>\n",
       "      <td>59.890</td>\n",
       "      <td>1996</td>\n",
       "      <td>200810</td>\n",
       "      <td>11~20</td>\n",
       "      <td>-1</td>\n",
       "      <td>7.824446</td>\n",
       "      <td>2008</td>\n",
       "      <td>10</td>\n",
       "    </tr>\n",
       "    <tr>\n",
       "      <th>651641</th>\n",
       "      <td>1514</td>\n",
       "      <td>부산광역시</td>\n",
       "      <td>대청동4가</td>\n",
       "      <td>75-176</td>\n",
       "      <td>근영빌라2동</td>\n",
       "      <td>대청동4가 75-176 근영빌라2동</td>\n",
       "      <td>47.170</td>\n",
       "      <td>1996</td>\n",
       "      <td>201101</td>\n",
       "      <td>21~31</td>\n",
       "      <td>-1</td>\n",
       "      <td>8.071219</td>\n",
       "      <td>2011</td>\n",
       "      <td>1</td>\n",
       "    </tr>\n",
       "    <tr>\n",
       "      <th>674249</th>\n",
       "      <td>9764</td>\n",
       "      <td>부산광역시</td>\n",
       "      <td>동삼동</td>\n",
       "      <td>213-19</td>\n",
       "      <td>조은아크로빌</td>\n",
       "      <td>동삼동 213-19 조은아크로빌</td>\n",
       "      <td>46.800</td>\n",
       "      <td>2001</td>\n",
       "      <td>201506</td>\n",
       "      <td>11~20</td>\n",
       "      <td>-1</td>\n",
       "      <td>8.160804</td>\n",
       "      <td>2015</td>\n",
       "      <td>6</td>\n",
       "    </tr>\n",
       "    <tr>\n",
       "      <th>652044</th>\n",
       "      <td>1516</td>\n",
       "      <td>부산광역시</td>\n",
       "      <td>대청동4가</td>\n",
       "      <td>75-167</td>\n",
       "      <td>근영빌라4동</td>\n",
       "      <td>대청동4가 75-167 근영빌라4동</td>\n",
       "      <td>46.650</td>\n",
       "      <td>1996</td>\n",
       "      <td>201211</td>\n",
       "      <td>1~10</td>\n",
       "      <td>-1</td>\n",
       "      <td>8.343078</td>\n",
       "      <td>2012</td>\n",
       "      <td>11</td>\n",
       "    </tr>\n",
       "    <tr>\n",
       "      <th>664479</th>\n",
       "      <td>1853</td>\n",
       "      <td>부산광역시</td>\n",
       "      <td>초량동</td>\n",
       "      <td>89-6</td>\n",
       "      <td>남도</td>\n",
       "      <td>초량동 89-6 남도</td>\n",
       "      <td>76.530</td>\n",
       "      <td>1975</td>\n",
       "      <td>201606</td>\n",
       "      <td>21~30</td>\n",
       "      <td>-1</td>\n",
       "      <td>8.366603</td>\n",
       "      <td>2016</td>\n",
       "      <td>6</td>\n",
       "    </tr>\n",
       "    <tr>\n",
       "      <th>9602</th>\n",
       "      <td>9058</td>\n",
       "      <td>서울특별시</td>\n",
       "      <td>신당동</td>\n",
       "      <td>432-1970</td>\n",
       "      <td>유정</td>\n",
       "      <td>신당동 432-1970 유정</td>\n",
       "      <td>29.400</td>\n",
       "      <td>2001</td>\n",
       "      <td>201502</td>\n",
       "      <td>11~20</td>\n",
       "      <td>-1</td>\n",
       "      <td>8.412055</td>\n",
       "      <td>2015</td>\n",
       "      <td>2</td>\n",
       "    </tr>\n",
       "    <tr>\n",
       "      <th>267272</th>\n",
       "      <td>1269</td>\n",
       "      <td>서울특별시</td>\n",
       "      <td>홍은동</td>\n",
       "      <td>277-145</td>\n",
       "      <td>교수(A)</td>\n",
       "      <td>홍은동 277-145 교수(A)</td>\n",
       "      <td>100.440</td>\n",
       "      <td>2006</td>\n",
       "      <td>201012</td>\n",
       "      <td>1~10</td>\n",
       "      <td>-1</td>\n",
       "      <td>8.434029</td>\n",
       "      <td>2010</td>\n",
       "      <td>12</td>\n",
       "    </tr>\n",
       "    <tr>\n",
       "      <th>698094</th>\n",
       "      <td>7163</td>\n",
       "      <td>부산광역시</td>\n",
       "      <td>개금동</td>\n",
       "      <td>627-1</td>\n",
       "      <td>시영</td>\n",
       "      <td>개금동 627-1 시영</td>\n",
       "      <td>39.670</td>\n",
       "      <td>1975</td>\n",
       "      <td>201110</td>\n",
       "      <td>1~10</td>\n",
       "      <td>-1</td>\n",
       "      <td>8.434029</td>\n",
       "      <td>2011</td>\n",
       "      <td>10</td>\n",
       "    </tr>\n",
       "    <tr>\n",
       "      <th>698128</th>\n",
       "      <td>7163</td>\n",
       "      <td>부산광역시</td>\n",
       "      <td>개금동</td>\n",
       "      <td>627-1</td>\n",
       "      <td>시영</td>\n",
       "      <td>개금동 627-1 시영</td>\n",
       "      <td>39.670</td>\n",
       "      <td>1975</td>\n",
       "      <td>201110</td>\n",
       "      <td>11~20</td>\n",
       "      <td>-1</td>\n",
       "      <td>8.455531</td>\n",
       "      <td>2011</td>\n",
       "      <td>10</td>\n",
       "    </tr>\n",
       "    <tr>\n",
       "      <th>129497</th>\n",
       "      <td>7898</td>\n",
       "      <td>서울특별시</td>\n",
       "      <td>안암동4가</td>\n",
       "      <td>23-3</td>\n",
       "      <td>안암</td>\n",
       "      <td>안암동4가 23-3 안암</td>\n",
       "      <td>36.100</td>\n",
       "      <td>1969</td>\n",
       "      <td>201603</td>\n",
       "      <td>21~31</td>\n",
       "      <td>-1</td>\n",
       "      <td>8.853808</td>\n",
       "      <td>2016</td>\n",
       "      <td>3</td>\n",
       "    </tr>\n",
       "    <tr>\n",
       "      <th>1190044</th>\n",
       "      <td>7401</td>\n",
       "      <td>부산광역시</td>\n",
       "      <td>부암동</td>\n",
       "      <td>669-6</td>\n",
       "      <td>신서면</td>\n",
       "      <td>부암동 669-6 신서면</td>\n",
       "      <td>89.420</td>\n",
       "      <td>1973</td>\n",
       "      <td>201708</td>\n",
       "      <td>1~10</td>\n",
       "      <td>-1</td>\n",
       "      <td>8.853808</td>\n",
       "      <td>2017</td>\n",
       "      <td>8</td>\n",
       "    </tr>\n",
       "    <tr>\n",
       "      <th>5172</th>\n",
       "      <td>7023</td>\n",
       "      <td>서울특별시</td>\n",
       "      <td>신당동</td>\n",
       "      <td>432-2006</td>\n",
       "      <td>수산타운(2차)</td>\n",
       "      <td>신당동 432-2006 수산타운(2차)</td>\n",
       "      <td>32.860</td>\n",
       "      <td>2001</td>\n",
       "      <td>200803</td>\n",
       "      <td>1~10</td>\n",
       "      <td>-1</td>\n",
       "      <td>8.853808</td>\n",
       "      <td>2008</td>\n",
       "      <td>3</td>\n",
       "    </tr>\n",
       "    <tr>\n",
       "      <th>658546</th>\n",
       "      <td>4529</td>\n",
       "      <td>부산광역시</td>\n",
       "      <td>남부민동</td>\n",
       "      <td>30-1</td>\n",
       "      <td>문화</td>\n",
       "      <td>남부민동 30-1 문화</td>\n",
       "      <td>61.750</td>\n",
       "      <td>1975</td>\n",
       "      <td>201504</td>\n",
       "      <td>21~30</td>\n",
       "      <td>-1</td>\n",
       "      <td>9.082621</td>\n",
       "      <td>2015</td>\n",
       "      <td>4</td>\n",
       "    </tr>\n",
       "    <tr>\n",
       "      <th>664089</th>\n",
       "      <td>1853</td>\n",
       "      <td>부산광역시</td>\n",
       "      <td>초량동</td>\n",
       "      <td>89-6</td>\n",
       "      <td>남도</td>\n",
       "      <td>초량동 89-6 남도</td>\n",
       "      <td>175.900</td>\n",
       "      <td>1975</td>\n",
       "      <td>201509</td>\n",
       "      <td>21~30</td>\n",
       "      <td>-1</td>\n",
       "      <td>9.105091</td>\n",
       "      <td>2015</td>\n",
       "      <td>9</td>\n",
       "    </tr>\n",
       "    <tr>\n",
       "      <th>264037</th>\n",
       "      <td>8221</td>\n",
       "      <td>서울특별시</td>\n",
       "      <td>연희동</td>\n",
       "      <td>196-1</td>\n",
       "      <td>연희궁</td>\n",
       "      <td>연희동 196-1 연희궁</td>\n",
       "      <td>165.290</td>\n",
       "      <td>1972</td>\n",
       "      <td>200805</td>\n",
       "      <td>1~10</td>\n",
       "      <td>-1</td>\n",
       "      <td>9.159152</td>\n",
       "      <td>2008</td>\n",
       "      <td>5</td>\n",
       "    </tr>\n",
       "    <tr>\n",
       "      <th>5113</th>\n",
       "      <td>9058</td>\n",
       "      <td>서울특별시</td>\n",
       "      <td>신당동</td>\n",
       "      <td>432-1970</td>\n",
       "      <td>유정</td>\n",
       "      <td>신당동 432-1970 유정</td>\n",
       "      <td>59.650</td>\n",
       "      <td>2001</td>\n",
       "      <td>200802</td>\n",
       "      <td>11~20</td>\n",
       "      <td>-1</td>\n",
       "      <td>9.190240</td>\n",
       "      <td>2008</td>\n",
       "      <td>2</td>\n",
       "    </tr>\n",
       "    <tr>\n",
       "      <th>9739</th>\n",
       "      <td>396</td>\n",
       "      <td>서울특별시</td>\n",
       "      <td>신당동</td>\n",
       "      <td>432-806</td>\n",
       "      <td>GV</td>\n",
       "      <td>신당동 432-806 GV</td>\n",
       "      <td>37.490</td>\n",
       "      <td>2000</td>\n",
       "      <td>201503</td>\n",
       "      <td>21~31</td>\n",
       "      <td>-1</td>\n",
       "      <td>9.210440</td>\n",
       "      <td>2015</td>\n",
       "      <td>3</td>\n",
       "    </tr>\n",
       "    <tr>\n",
       "      <th>129496</th>\n",
       "      <td>7898</td>\n",
       "      <td>서울특별시</td>\n",
       "      <td>안암동4가</td>\n",
       "      <td>23-3</td>\n",
       "      <td>안암</td>\n",
       "      <td>안암동4가 23-3 안암</td>\n",
       "      <td>52.890</td>\n",
       "      <td>1969</td>\n",
       "      <td>201603</td>\n",
       "      <td>21~31</td>\n",
       "      <td>-1</td>\n",
       "      <td>9.305741</td>\n",
       "      <td>2016</td>\n",
       "      <td>3</td>\n",
       "    </tr>\n",
       "    <tr>\n",
       "      <th>418950</th>\n",
       "      <td>2298</td>\n",
       "      <td>서울특별시</td>\n",
       "      <td>시흥동</td>\n",
       "      <td>989-11</td>\n",
       "      <td>대도훼미리</td>\n",
       "      <td>시흥동 989-11 대도훼미리</td>\n",
       "      <td>57.690</td>\n",
       "      <td>1991</td>\n",
       "      <td>201612</td>\n",
       "      <td>21~31</td>\n",
       "      <td>-1</td>\n",
       "      <td>9.392745</td>\n",
       "      <td>2016</td>\n",
       "      <td>12</td>\n",
       "    </tr>\n",
       "    <tr>\n",
       "      <th>410450</th>\n",
       "      <td>2298</td>\n",
       "      <td>서울특별시</td>\n",
       "      <td>시흥동</td>\n",
       "      <td>989-11</td>\n",
       "      <td>대도훼미리</td>\n",
       "      <td>시흥동 989-11 대도훼미리</td>\n",
       "      <td>57.690</td>\n",
       "      <td>1991</td>\n",
       "      <td>201003</td>\n",
       "      <td>11~20</td>\n",
       "      <td>-1</td>\n",
       "      <td>9.392745</td>\n",
       "      <td>2010</td>\n",
       "      <td>3</td>\n",
       "    </tr>\n",
       "    <tr>\n",
       "      <th>5240</th>\n",
       "      <td>43</td>\n",
       "      <td>서울특별시</td>\n",
       "      <td>신당동</td>\n",
       "      <td>432-2001</td>\n",
       "      <td>(432-2001)</td>\n",
       "      <td>신당동 432-2001 (432-2001)</td>\n",
       "      <td>49.780</td>\n",
       "      <td>2001</td>\n",
       "      <td>200804</td>\n",
       "      <td>1~10</td>\n",
       "      <td>-1</td>\n",
       "      <td>9.417436</td>\n",
       "      <td>2008</td>\n",
       "      <td>4</td>\n",
       "    </tr>\n",
       "    <tr>\n",
       "      <th>358581</th>\n",
       "      <td>4650</td>\n",
       "      <td>서울특별시</td>\n",
       "      <td>화곡동</td>\n",
       "      <td>46-212</td>\n",
       "      <td>밀레니엄</td>\n",
       "      <td>화곡동 46-212 밀레니엄</td>\n",
       "      <td>59.740</td>\n",
       "      <td>2000</td>\n",
       "      <td>201409</td>\n",
       "      <td>1~10</td>\n",
       "      <td>-1</td>\n",
       "      <td>9.433564</td>\n",
       "      <td>2014</td>\n",
       "      <td>9</td>\n",
       "    </tr>\n",
       "    <tr>\n",
       "      <th>6582</th>\n",
       "      <td>11223</td>\n",
       "      <td>서울특별시</td>\n",
       "      <td>신당동</td>\n",
       "      <td>432-1956</td>\n",
       "      <td>하영</td>\n",
       "      <td>신당동 432-1956 하영</td>\n",
       "      <td>35.750</td>\n",
       "      <td>2002</td>\n",
       "      <td>201011</td>\n",
       "      <td>1~10</td>\n",
       "      <td>-1</td>\n",
       "      <td>9.488048</td>\n",
       "      <td>2010</td>\n",
       "      <td>11</td>\n",
       "    </tr>\n",
       "    <tr>\n",
       "      <th>21492</th>\n",
       "      <td>11393</td>\n",
       "      <td>서울특별시</td>\n",
       "      <td>한남동</td>\n",
       "      <td>29-4</td>\n",
       "      <td>한성1</td>\n",
       "      <td>한남동 29-4 한성1</td>\n",
       "      <td>24.760</td>\n",
       "      <td>1974</td>\n",
       "      <td>201603</td>\n",
       "      <td>1~10</td>\n",
       "      <td>-1</td>\n",
       "      <td>9.493336</td>\n",
       "      <td>2016</td>\n",
       "      <td>3</td>\n",
       "    </tr>\n",
       "    <tr>\n",
       "      <th>356867</th>\n",
       "      <td>10390</td>\n",
       "      <td>서울특별시</td>\n",
       "      <td>화곡동</td>\n",
       "      <td>457-1</td>\n",
       "      <td>청송평화</td>\n",
       "      <td>화곡동 457-1 청송평화</td>\n",
       "      <td>63.210</td>\n",
       "      <td>2006</td>\n",
       "      <td>201404</td>\n",
       "      <td>11~20</td>\n",
       "      <td>-1</td>\n",
       "      <td>9.510519</td>\n",
       "      <td>2014</td>\n",
       "      <td>4</td>\n",
       "    </tr>\n",
       "    <tr>\n",
       "      <th>6209</th>\n",
       "      <td>2116</td>\n",
       "      <td>서울특별시</td>\n",
       "      <td>신당동</td>\n",
       "      <td>432-1982</td>\n",
       "      <td>다다</td>\n",
       "      <td>신당동 432-1982 다다</td>\n",
       "      <td>59.950</td>\n",
       "      <td>2000</td>\n",
       "      <td>200911</td>\n",
       "      <td>21~30</td>\n",
       "      <td>-1</td>\n",
       "      <td>9.532496</td>\n",
       "      <td>2009</td>\n",
       "      <td>11</td>\n",
       "    </tr>\n",
       "    <tr>\n",
       "      <th>477336</th>\n",
       "      <td>597</td>\n",
       "      <td>서울특별시</td>\n",
       "      <td>신림동</td>\n",
       "      <td>1644</td>\n",
       "      <td>강남</td>\n",
       "      <td>신림동 1644 강남</td>\n",
       "      <td>47.900</td>\n",
       "      <td>1974</td>\n",
       "      <td>201104</td>\n",
       "      <td>11~20</td>\n",
       "      <td>-1</td>\n",
       "      <td>9.541154</td>\n",
       "      <td>2011</td>\n",
       "      <td>4</td>\n",
       "    </tr>\n",
       "    <tr>\n",
       "      <th>6612</th>\n",
       "      <td>7458</td>\n",
       "      <td>서울특별시</td>\n",
       "      <td>신당동</td>\n",
       "      <td>432-1972</td>\n",
       "      <td>신신(1차)</td>\n",
       "      <td>신당동 432-1972 신신(1차)</td>\n",
       "      <td>38.930</td>\n",
       "      <td>2001</td>\n",
       "      <td>201011</td>\n",
       "      <td>11~20</td>\n",
       "      <td>-1</td>\n",
       "      <td>9.546884</td>\n",
       "      <td>2010</td>\n",
       "      <td>11</td>\n",
       "    </tr>\n",
       "    <tr>\n",
       "      <th>...</th>\n",
       "      <td>...</td>\n",
       "      <td>...</td>\n",
       "      <td>...</td>\n",
       "      <td>...</td>\n",
       "      <td>...</td>\n",
       "      <td>...</td>\n",
       "      <td>...</td>\n",
       "      <td>...</td>\n",
       "      <td>...</td>\n",
       "      <td>...</td>\n",
       "      <td>...</td>\n",
       "      <td>...</td>\n",
       "      <td>...</td>\n",
       "      <td>...</td>\n",
       "    </tr>\n",
       "    <tr>\n",
       "      <th>245995</th>\n",
       "      <td>9125</td>\n",
       "      <td>서울특별시</td>\n",
       "      <td>진관동</td>\n",
       "      <td>84</td>\n",
       "      <td>은평뉴타운 우물골(두산위브7단지)</td>\n",
       "      <td>진관동 84 은평뉴타운 우물골(두산위브7단지)</td>\n",
       "      <td>101.490</td>\n",
       "      <td>2010</td>\n",
       "      <td>201007</td>\n",
       "      <td>11~20</td>\n",
       "      <td>-1</td>\n",
       "      <td>10.900455</td>\n",
       "      <td>2010</td>\n",
       "      <td>7</td>\n",
       "    </tr>\n",
       "    <tr>\n",
       "      <th>250061</th>\n",
       "      <td>9125</td>\n",
       "      <td>서울특별시</td>\n",
       "      <td>진관동</td>\n",
       "      <td>84</td>\n",
       "      <td>은평뉴타운 우물골(두산위브7단지)</td>\n",
       "      <td>진관동 84 은평뉴타운 우물골(두산위브7단지)</td>\n",
       "      <td>134.750</td>\n",
       "      <td>2010</td>\n",
       "      <td>201211</td>\n",
       "      <td>11~20</td>\n",
       "      <td>-1</td>\n",
       "      <td>10.942598</td>\n",
       "      <td>2012</td>\n",
       "      <td>11</td>\n",
       "    </tr>\n",
       "    <tr>\n",
       "      <th>253920</th>\n",
       "      <td>9125</td>\n",
       "      <td>서울특별시</td>\n",
       "      <td>진관동</td>\n",
       "      <td>84</td>\n",
       "      <td>은평뉴타운 우물골(두산위브7단지)</td>\n",
       "      <td>진관동 84 은평뉴타운 우물골(두산위브7단지)</td>\n",
       "      <td>101.490</td>\n",
       "      <td>2010</td>\n",
       "      <td>201406</td>\n",
       "      <td>1~10</td>\n",
       "      <td>-1</td>\n",
       "      <td>10.973375</td>\n",
       "      <td>2014</td>\n",
       "      <td>6</td>\n",
       "    </tr>\n",
       "    <tr>\n",
       "      <th>250074</th>\n",
       "      <td>9125</td>\n",
       "      <td>서울특별시</td>\n",
       "      <td>진관동</td>\n",
       "      <td>84</td>\n",
       "      <td>은평뉴타운 우물골(두산위브7단지)</td>\n",
       "      <td>진관동 84 은평뉴타운 우물골(두산위브7단지)</td>\n",
       "      <td>134.750</td>\n",
       "      <td>2010</td>\n",
       "      <td>201211</td>\n",
       "      <td>21~30</td>\n",
       "      <td>-1</td>\n",
       "      <td>10.990128</td>\n",
       "      <td>2012</td>\n",
       "      <td>11</td>\n",
       "    </tr>\n",
       "    <tr>\n",
       "      <th>257066</th>\n",
       "      <td>9125</td>\n",
       "      <td>서울특별시</td>\n",
       "      <td>진관동</td>\n",
       "      <td>84</td>\n",
       "      <td>은평뉴타운 우물골(두산위브7단지)</td>\n",
       "      <td>진관동 84 은평뉴타운 우물골(두산위브7단지)</td>\n",
       "      <td>101.970</td>\n",
       "      <td>2010</td>\n",
       "      <td>201505</td>\n",
       "      <td>1~10</td>\n",
       "      <td>-1</td>\n",
       "      <td>11.000448</td>\n",
       "      <td>2015</td>\n",
       "      <td>5</td>\n",
       "    </tr>\n",
       "    <tr>\n",
       "      <th>248055</th>\n",
       "      <td>9125</td>\n",
       "      <td>서울특별시</td>\n",
       "      <td>진관동</td>\n",
       "      <td>84</td>\n",
       "      <td>은평뉴타운 우물골(두산위브7단지)</td>\n",
       "      <td>진관동 84 은평뉴타운 우물골(두산위브7단지)</td>\n",
       "      <td>134.480</td>\n",
       "      <td>2010</td>\n",
       "      <td>201106</td>\n",
       "      <td>1~10</td>\n",
       "      <td>-1</td>\n",
       "      <td>11.000832</td>\n",
       "      <td>2011</td>\n",
       "      <td>6</td>\n",
       "    </tr>\n",
       "    <tr>\n",
       "      <th>248612</th>\n",
       "      <td>9125</td>\n",
       "      <td>서울특별시</td>\n",
       "      <td>진관동</td>\n",
       "      <td>84</td>\n",
       "      <td>은평뉴타운 우물골(두산위브7단지)</td>\n",
       "      <td>진관동 84 은평뉴타운 우물골(두산위브7단지)</td>\n",
       "      <td>101.490</td>\n",
       "      <td>2010</td>\n",
       "      <td>201110</td>\n",
       "      <td>1~10</td>\n",
       "      <td>-1</td>\n",
       "      <td>11.038126</td>\n",
       "      <td>2011</td>\n",
       "      <td>10</td>\n",
       "    </tr>\n",
       "    <tr>\n",
       "      <th>250719</th>\n",
       "      <td>9125</td>\n",
       "      <td>서울특별시</td>\n",
       "      <td>진관동</td>\n",
       "      <td>84</td>\n",
       "      <td>은평뉴타운 우물골(두산위브7단지)</td>\n",
       "      <td>진관동 84 은평뉴타운 우물골(두산위브7단지)</td>\n",
       "      <td>134.480</td>\n",
       "      <td>2010</td>\n",
       "      <td>201303</td>\n",
       "      <td>1~10</td>\n",
       "      <td>-1</td>\n",
       "      <td>11.042938</td>\n",
       "      <td>2013</td>\n",
       "      <td>3</td>\n",
       "    </tr>\n",
       "    <tr>\n",
       "      <th>246431</th>\n",
       "      <td>9125</td>\n",
       "      <td>서울특별시</td>\n",
       "      <td>진관동</td>\n",
       "      <td>84</td>\n",
       "      <td>은평뉴타운 우물골(두산위브7단지)</td>\n",
       "      <td>진관동 84 은평뉴타운 우물골(두산위브7단지)</td>\n",
       "      <td>134.560</td>\n",
       "      <td>2010</td>\n",
       "      <td>201010</td>\n",
       "      <td>1~10</td>\n",
       "      <td>-1</td>\n",
       "      <td>11.176347</td>\n",
       "      <td>2010</td>\n",
       "      <td>10</td>\n",
       "    </tr>\n",
       "    <tr>\n",
       "      <th>21792</th>\n",
       "      <td>10810</td>\n",
       "      <td>서울특별시</td>\n",
       "      <td>효창동</td>\n",
       "      <td>5-1</td>\n",
       "      <td>태원팰리스</td>\n",
       "      <td>효창동 5-1 태원팰리스</td>\n",
       "      <td>177.120</td>\n",
       "      <td>2007</td>\n",
       "      <td>201605</td>\n",
       "      <td>21~31</td>\n",
       "      <td>-1</td>\n",
       "      <td>11.184435</td>\n",
       "      <td>2016</td>\n",
       "      <td>5</td>\n",
       "    </tr>\n",
       "    <tr>\n",
       "      <th>1128345</th>\n",
       "      <td>9125</td>\n",
       "      <td>서울특별시</td>\n",
       "      <td>진관동</td>\n",
       "      <td>84</td>\n",
       "      <td>은평뉴타운 우물골(두산위브7단지)</td>\n",
       "      <td>진관동 84 은평뉴타운 우물골(두산위브7단지)</td>\n",
       "      <td>134.480</td>\n",
       "      <td>2010</td>\n",
       "      <td>201704</td>\n",
       "      <td>1~10</td>\n",
       "      <td>-1</td>\n",
       "      <td>11.211834</td>\n",
       "      <td>2017</td>\n",
       "      <td>4</td>\n",
       "    </tr>\n",
       "    <tr>\n",
       "      <th>247949</th>\n",
       "      <td>9125</td>\n",
       "      <td>서울특별시</td>\n",
       "      <td>진관동</td>\n",
       "      <td>84</td>\n",
       "      <td>은평뉴타운 우물골(두산위브7단지)</td>\n",
       "      <td>진관동 84 은평뉴타운 우물골(두산위브7단지)</td>\n",
       "      <td>134.480</td>\n",
       "      <td>2010</td>\n",
       "      <td>201105</td>\n",
       "      <td>21~31</td>\n",
       "      <td>-1</td>\n",
       "      <td>11.215651</td>\n",
       "      <td>2011</td>\n",
       "      <td>5</td>\n",
       "    </tr>\n",
       "    <tr>\n",
       "      <th>13289</th>\n",
       "      <td>3913</td>\n",
       "      <td>서울특별시</td>\n",
       "      <td>원효로1가</td>\n",
       "      <td>17-5</td>\n",
       "      <td>로얄카운티-2</td>\n",
       "      <td>원효로1가 17-5 로얄카운티-2</td>\n",
       "      <td>133.350</td>\n",
       "      <td>2006</td>\n",
       "      <td>200904</td>\n",
       "      <td>21~30</td>\n",
       "      <td>-1</td>\n",
       "      <td>11.225257</td>\n",
       "      <td>2009</td>\n",
       "      <td>4</td>\n",
       "    </tr>\n",
       "    <tr>\n",
       "      <th>13581</th>\n",
       "      <td>3913</td>\n",
       "      <td>서울특별시</td>\n",
       "      <td>원효로1가</td>\n",
       "      <td>17-5</td>\n",
       "      <td>로얄카운티-2</td>\n",
       "      <td>원효로1가 17-5 로얄카운티-2</td>\n",
       "      <td>133.350</td>\n",
       "      <td>2006</td>\n",
       "      <td>200906</td>\n",
       "      <td>21~30</td>\n",
       "      <td>-1</td>\n",
       "      <td>11.245059</td>\n",
       "      <td>2009</td>\n",
       "      <td>6</td>\n",
       "    </tr>\n",
       "    <tr>\n",
       "      <th>503489</th>\n",
       "      <td>2004</td>\n",
       "      <td>서울특별시</td>\n",
       "      <td>방배동</td>\n",
       "      <td>802-8</td>\n",
       "      <td>노블씨티</td>\n",
       "      <td>방배동 802-8 노블씨티</td>\n",
       "      <td>97.360</td>\n",
       "      <td>2008</td>\n",
       "      <td>201106</td>\n",
       "      <td>11~20</td>\n",
       "      <td>-1</td>\n",
       "      <td>11.264477</td>\n",
       "      <td>2011</td>\n",
       "      <td>6</td>\n",
       "    </tr>\n",
       "    <tr>\n",
       "      <th>1094566</th>\n",
       "      <td>11280</td>\n",
       "      <td>서울특별시</td>\n",
       "      <td>보광동</td>\n",
       "      <td>208-1</td>\n",
       "      <td>한강빌라</td>\n",
       "      <td>보광동 208-1 한강빌라</td>\n",
       "      <td>132.130</td>\n",
       "      <td>2001</td>\n",
       "      <td>201702</td>\n",
       "      <td>21~28</td>\n",
       "      <td>-1</td>\n",
       "      <td>11.338584</td>\n",
       "      <td>2017</td>\n",
       "      <td>2</td>\n",
       "    </tr>\n",
       "    <tr>\n",
       "      <th>13693</th>\n",
       "      <td>2006</td>\n",
       "      <td>서울특별시</td>\n",
       "      <td>동빙고동</td>\n",
       "      <td>310-10</td>\n",
       "      <td>노블캐슬</td>\n",
       "      <td>동빙고동 310-10 노블캐슬</td>\n",
       "      <td>165.760</td>\n",
       "      <td>2008</td>\n",
       "      <td>200906</td>\n",
       "      <td>1~10</td>\n",
       "      <td>-1</td>\n",
       "      <td>11.379588</td>\n",
       "      <td>2009</td>\n",
       "      <td>6</td>\n",
       "    </tr>\n",
       "    <tr>\n",
       "      <th>502820</th>\n",
       "      <td>2004</td>\n",
       "      <td>서울특별시</td>\n",
       "      <td>방배동</td>\n",
       "      <td>802-8</td>\n",
       "      <td>노블씨티</td>\n",
       "      <td>방배동 802-8 노블씨티</td>\n",
       "      <td>114.160</td>\n",
       "      <td>2008</td>\n",
       "      <td>201103</td>\n",
       "      <td>21~31</td>\n",
       "      <td>-1</td>\n",
       "      <td>11.402005</td>\n",
       "      <td>2011</td>\n",
       "      <td>3</td>\n",
       "    </tr>\n",
       "    <tr>\n",
       "      <th>519130</th>\n",
       "      <td>2004</td>\n",
       "      <td>서울특별시</td>\n",
       "      <td>방배동</td>\n",
       "      <td>802-8</td>\n",
       "      <td>노블씨티</td>\n",
       "      <td>방배동 802-8 노블씨티</td>\n",
       "      <td>114.160</td>\n",
       "      <td>2008</td>\n",
       "      <td>201510</td>\n",
       "      <td>11~20</td>\n",
       "      <td>-1</td>\n",
       "      <td>11.487618</td>\n",
       "      <td>2015</td>\n",
       "      <td>10</td>\n",
       "    </tr>\n",
       "    <tr>\n",
       "      <th>13819</th>\n",
       "      <td>2006</td>\n",
       "      <td>서울특별시</td>\n",
       "      <td>동빙고동</td>\n",
       "      <td>310-10</td>\n",
       "      <td>노블캐슬</td>\n",
       "      <td>동빙고동 310-10 노블캐슬</td>\n",
       "      <td>165.680</td>\n",
       "      <td>2008</td>\n",
       "      <td>200907</td>\n",
       "      <td>1~10</td>\n",
       "      <td>-1</td>\n",
       "      <td>11.608245</td>\n",
       "      <td>2009</td>\n",
       "      <td>7</td>\n",
       "    </tr>\n",
       "    <tr>\n",
       "      <th>15759</th>\n",
       "      <td>10911</td>\n",
       "      <td>서울특별시</td>\n",
       "      <td>한남동</td>\n",
       "      <td>26-5</td>\n",
       "      <td>트윈빌 에이동</td>\n",
       "      <td>한남동 26-5 트윈빌 에이동</td>\n",
       "      <td>196.690</td>\n",
       "      <td>2008</td>\n",
       "      <td>201110</td>\n",
       "      <td>1~10</td>\n",
       "      <td>-1</td>\n",
       "      <td>11.608245</td>\n",
       "      <td>2011</td>\n",
       "      <td>10</td>\n",
       "    </tr>\n",
       "    <tr>\n",
       "      <th>531719</th>\n",
       "      <td>7105</td>\n",
       "      <td>서울특별시</td>\n",
       "      <td>논현동</td>\n",
       "      <td>55</td>\n",
       "      <td>스위트캐슬레지던스</td>\n",
       "      <td>논현동 55 스위트캐슬레지던스</td>\n",
       "      <td>209.370</td>\n",
       "      <td>2004</td>\n",
       "      <td>200907</td>\n",
       "      <td>11~20</td>\n",
       "      <td>-1</td>\n",
       "      <td>11.652696</td>\n",
       "      <td>2009</td>\n",
       "      <td>7</td>\n",
       "    </tr>\n",
       "    <tr>\n",
       "      <th>23382</th>\n",
       "      <td>10910</td>\n",
       "      <td>서울특별시</td>\n",
       "      <td>한남동</td>\n",
       "      <td>26-10</td>\n",
       "      <td>트윈빌 비동</td>\n",
       "      <td>한남동 26-10 트윈빌 비동</td>\n",
       "      <td>176.730</td>\n",
       "      <td>2008</td>\n",
       "      <td>201610</td>\n",
       "      <td>21~31</td>\n",
       "      <td>-1</td>\n",
       "      <td>11.870607</td>\n",
       "      <td>2016</td>\n",
       "      <td>10</td>\n",
       "    </tr>\n",
       "    <tr>\n",
       "      <th>12963</th>\n",
       "      <td>2006</td>\n",
       "      <td>서울특별시</td>\n",
       "      <td>동빙고동</td>\n",
       "      <td>310-10</td>\n",
       "      <td>노블캐슬</td>\n",
       "      <td>동빙고동 310-10 노블캐슬</td>\n",
       "      <td>165.680</td>\n",
       "      <td>2008</td>\n",
       "      <td>200810</td>\n",
       "      <td>1~10</td>\n",
       "      <td>-1</td>\n",
       "      <td>11.951187</td>\n",
       "      <td>2008</td>\n",
       "      <td>10</td>\n",
       "    </tr>\n",
       "    <tr>\n",
       "      <th>542431</th>\n",
       "      <td>10309</td>\n",
       "      <td>서울특별시</td>\n",
       "      <td>청담동</td>\n",
       "      <td>102-1</td>\n",
       "      <td>청담파라곤Ⅱ 1단지</td>\n",
       "      <td>청담동 102-1 청담파라곤Ⅱ 1단지</td>\n",
       "      <td>217.200</td>\n",
       "      <td>2010</td>\n",
       "      <td>201204</td>\n",
       "      <td>21~30</td>\n",
       "      <td>-1</td>\n",
       "      <td>12.283038</td>\n",
       "      <td>2012</td>\n",
       "      <td>4</td>\n",
       "    </tr>\n",
       "    <tr>\n",
       "      <th>537384</th>\n",
       "      <td>10310</td>\n",
       "      <td>서울특별시</td>\n",
       "      <td>청담동</td>\n",
       "      <td>102-13</td>\n",
       "      <td>청담파라곤Ⅱ 2단지</td>\n",
       "      <td>청담동 102-13 청담파라곤Ⅱ 2단지</td>\n",
       "      <td>241.880</td>\n",
       "      <td>2010</td>\n",
       "      <td>201012</td>\n",
       "      <td>11~20</td>\n",
       "      <td>-1</td>\n",
       "      <td>12.577640</td>\n",
       "      <td>2010</td>\n",
       "      <td>12</td>\n",
       "    </tr>\n",
       "    <tr>\n",
       "      <th>1095417</th>\n",
       "      <td>11320</td>\n",
       "      <td>서울특별시</td>\n",
       "      <td>한남동</td>\n",
       "      <td>810</td>\n",
       "      <td>한남더힐</td>\n",
       "      <td>한남동 810 한남더힐</td>\n",
       "      <td>212.524</td>\n",
       "      <td>2011</td>\n",
       "      <td>201705</td>\n",
       "      <td>21~31</td>\n",
       "      <td>-1</td>\n",
       "      <td>13.081543</td>\n",
       "      <td>2017</td>\n",
       "      <td>5</td>\n",
       "    </tr>\n",
       "    <tr>\n",
       "      <th>1095416</th>\n",
       "      <td>11320</td>\n",
       "      <td>서울특별시</td>\n",
       "      <td>한남동</td>\n",
       "      <td>810</td>\n",
       "      <td>한남더힐</td>\n",
       "      <td>한남동 810 한남더힐</td>\n",
       "      <td>212.524</td>\n",
       "      <td>2011</td>\n",
       "      <td>201705</td>\n",
       "      <td>21~31</td>\n",
       "      <td>-1</td>\n",
       "      <td>13.102163</td>\n",
       "      <td>2017</td>\n",
       "      <td>5</td>\n",
       "    </tr>\n",
       "    <tr>\n",
       "      <th>23585</th>\n",
       "      <td>11320</td>\n",
       "      <td>서울특별시</td>\n",
       "      <td>한남동</td>\n",
       "      <td>810</td>\n",
       "      <td>한남더힐</td>\n",
       "      <td>한남동 810 한남더힐</td>\n",
       "      <td>240.230</td>\n",
       "      <td>2011</td>\n",
       "      <td>201612</td>\n",
       "      <td>1~10</td>\n",
       "      <td>-1</td>\n",
       "      <td>13.204866</td>\n",
       "      <td>2016</td>\n",
       "      <td>12</td>\n",
       "    </tr>\n",
       "    <tr>\n",
       "      <th>23376</th>\n",
       "      <td>11320</td>\n",
       "      <td>서울특별시</td>\n",
       "      <td>한남동</td>\n",
       "      <td>810</td>\n",
       "      <td>한남더힐</td>\n",
       "      <td>한남동 810 한남더힐</td>\n",
       "      <td>240.230</td>\n",
       "      <td>2011</td>\n",
       "      <td>201610</td>\n",
       "      <td>11~20</td>\n",
       "      <td>-1</td>\n",
       "      <td>13.262127</td>\n",
       "      <td>2016</td>\n",
       "      <td>10</td>\n",
       "    </tr>\n",
       "  </tbody>\n",
       "</table>\n",
       "<p>140 rows × 14 columns</p>\n",
       "</div>"
      ],
      "text/plain": [
       "         apartment_id   city   dong     jibun                 apt  \\\n",
       "722888           6225  부산광역시    범전동     263-5                  서면   \n",
       "651052           1514  부산광역시  대청동4가    75-176              근영빌라2동   \n",
       "651087           1513  부산광역시  대청동4가    75-181              근영빌라1동   \n",
       "651641           1514  부산광역시  대청동4가    75-176              근영빌라2동   \n",
       "674249           9764  부산광역시    동삼동    213-19              조은아크로빌   \n",
       "652044           1516  부산광역시  대청동4가    75-167              근영빌라4동   \n",
       "664479           1853  부산광역시    초량동      89-6                  남도   \n",
       "9602             9058  서울특별시    신당동  432-1970                  유정   \n",
       "267272           1269  서울특별시    홍은동   277-145               교수(A)   \n",
       "698094           7163  부산광역시    개금동     627-1                  시영   \n",
       "698128           7163  부산광역시    개금동     627-1                  시영   \n",
       "129497           7898  서울특별시  안암동4가      23-3                  안암   \n",
       "1190044          7401  부산광역시    부암동     669-6                 신서면   \n",
       "5172             7023  서울특별시    신당동  432-2006            수산타운(2차)   \n",
       "658546           4529  부산광역시   남부민동      30-1                  문화   \n",
       "664089           1853  부산광역시    초량동      89-6                  남도   \n",
       "264037           8221  서울특별시    연희동     196-1                 연희궁   \n",
       "5113             9058  서울특별시    신당동  432-1970                  유정   \n",
       "9739              396  서울특별시    신당동   432-806                  GV   \n",
       "129496           7898  서울특별시  안암동4가      23-3                  안암   \n",
       "418950           2298  서울특별시    시흥동    989-11               대도훼미리   \n",
       "410450           2298  서울특별시    시흥동    989-11               대도훼미리   \n",
       "5240               43  서울특별시    신당동  432-2001          (432-2001)   \n",
       "358581           4650  서울특별시    화곡동    46-212                밀레니엄   \n",
       "6582            11223  서울특별시    신당동  432-1956                  하영   \n",
       "21492           11393  서울특별시    한남동      29-4                 한성1   \n",
       "356867          10390  서울특별시    화곡동     457-1                청송평화   \n",
       "6209             2116  서울특별시    신당동  432-1982                  다다   \n",
       "477336            597  서울특별시    신림동      1644                  강남   \n",
       "6612             7458  서울특별시    신당동  432-1972              신신(1차)   \n",
       "...               ...    ...    ...       ...                 ...   \n",
       "245995           9125  서울특별시    진관동        84  은평뉴타운 우물골(두산위브7단지)   \n",
       "250061           9125  서울특별시    진관동        84  은평뉴타운 우물골(두산위브7단지)   \n",
       "253920           9125  서울특별시    진관동        84  은평뉴타운 우물골(두산위브7단지)   \n",
       "250074           9125  서울특별시    진관동        84  은평뉴타운 우물골(두산위브7단지)   \n",
       "257066           9125  서울특별시    진관동        84  은평뉴타운 우물골(두산위브7단지)   \n",
       "248055           9125  서울특별시    진관동        84  은평뉴타운 우물골(두산위브7단지)   \n",
       "248612           9125  서울특별시    진관동        84  은평뉴타운 우물골(두산위브7단지)   \n",
       "250719           9125  서울특별시    진관동        84  은평뉴타운 우물골(두산위브7단지)   \n",
       "246431           9125  서울특별시    진관동        84  은평뉴타운 우물골(두산위브7단지)   \n",
       "21792           10810  서울특별시    효창동       5-1               태원팰리스   \n",
       "1128345          9125  서울특별시    진관동        84  은평뉴타운 우물골(두산위브7단지)   \n",
       "247949           9125  서울특별시    진관동        84  은평뉴타운 우물골(두산위브7단지)   \n",
       "13289            3913  서울특별시  원효로1가      17-5             로얄카운티-2   \n",
       "13581            3913  서울특별시  원효로1가      17-5             로얄카운티-2   \n",
       "503489           2004  서울특별시    방배동     802-8                노블씨티   \n",
       "1094566         11280  서울특별시    보광동     208-1                한강빌라   \n",
       "13693            2006  서울특별시   동빙고동    310-10                노블캐슬   \n",
       "502820           2004  서울특별시    방배동     802-8                노블씨티   \n",
       "519130           2004  서울특별시    방배동     802-8                노블씨티   \n",
       "13819            2006  서울특별시   동빙고동    310-10                노블캐슬   \n",
       "15759           10911  서울특별시    한남동      26-5             트윈빌 에이동   \n",
       "531719           7105  서울특별시    논현동        55           스위트캐슬레지던스   \n",
       "23382           10910  서울특별시    한남동     26-10              트윈빌 비동   \n",
       "12963            2006  서울특별시   동빙고동    310-10                노블캐슬   \n",
       "542431          10309  서울특별시    청담동     102-1          청담파라곤Ⅱ 1단지   \n",
       "537384          10310  서울특별시    청담동    102-13          청담파라곤Ⅱ 2단지   \n",
       "1095417         11320  서울특별시    한남동       810                한남더힐   \n",
       "1095416         11320  서울특별시    한남동       810                한남더힐   \n",
       "23585           11320  서울특별시    한남동       810                한남더힐   \n",
       "23376           11320  서울특별시    한남동       810                한남더힐   \n",
       "\n",
       "                           addr_kr  exclusive_use_area  year_of_completion  \\\n",
       "722888                범전동 263-5 서면             138.250                1974   \n",
       "651052         대청동4가 75-176 근영빌라2동              47.170                1996   \n",
       "651087         대청동4가 75-181 근영빌라1동              59.890                1996   \n",
       "651641         대청동4가 75-176 근영빌라2동              47.170                1996   \n",
       "674249           동삼동 213-19 조은아크로빌              46.800                2001   \n",
       "652044         대청동4가 75-167 근영빌라4동              46.650                1996   \n",
       "664479                 초량동 89-6 남도              76.530                1975   \n",
       "9602               신당동 432-1970 유정              29.400                2001   \n",
       "267272           홍은동 277-145 교수(A)             100.440                2006   \n",
       "698094                개금동 627-1 시영              39.670                1975   \n",
       "698128                개금동 627-1 시영              39.670                1975   \n",
       "129497               안암동4가 23-3 안암              36.100                1969   \n",
       "1190044              부암동 669-6 신서면              89.420                1973   \n",
       "5172         신당동 432-2006 수산타운(2차)              32.860                2001   \n",
       "658546                남부민동 30-1 문화              61.750                1975   \n",
       "664089                 초량동 89-6 남도             175.900                1975   \n",
       "264037               연희동 196-1 연희궁             165.290                1972   \n",
       "5113               신당동 432-1970 유정              59.650                2001   \n",
       "9739                신당동 432-806 GV              37.490                2000   \n",
       "129496               안암동4가 23-3 안암              52.890                1969   \n",
       "418950            시흥동 989-11 대도훼미리              57.690                1991   \n",
       "410450            시흥동 989-11 대도훼미리              57.690                1991   \n",
       "5240       신당동 432-2001 (432-2001)              49.780                2001   \n",
       "358581             화곡동 46-212 밀레니엄              59.740                2000   \n",
       "6582               신당동 432-1956 하영              35.750                2002   \n",
       "21492                 한남동 29-4 한성1              24.760                1974   \n",
       "356867              화곡동 457-1 청송평화              63.210                2006   \n",
       "6209               신당동 432-1982 다다              59.950                2000   \n",
       "477336                 신림동 1644 강남              47.900                1974   \n",
       "6612           신당동 432-1972 신신(1차)              38.930                2001   \n",
       "...                            ...                 ...                 ...   \n",
       "245995   진관동 84 은평뉴타운 우물골(두산위브7단지)             101.490                2010   \n",
       "250061   진관동 84 은평뉴타운 우물골(두산위브7단지)             134.750                2010   \n",
       "253920   진관동 84 은평뉴타운 우물골(두산위브7단지)             101.490                2010   \n",
       "250074   진관동 84 은평뉴타운 우물골(두산위브7단지)             134.750                2010   \n",
       "257066   진관동 84 은평뉴타운 우물골(두산위브7단지)             101.970                2010   \n",
       "248055   진관동 84 은평뉴타운 우물골(두산위브7단지)             134.480                2010   \n",
       "248612   진관동 84 은평뉴타운 우물골(두산위브7단지)             101.490                2010   \n",
       "250719   진관동 84 은평뉴타운 우물골(두산위브7단지)             134.480                2010   \n",
       "246431   진관동 84 은평뉴타운 우물골(두산위브7단지)             134.560                2010   \n",
       "21792                효창동 5-1 태원팰리스             177.120                2007   \n",
       "1128345  진관동 84 은평뉴타운 우물골(두산위브7단지)             134.480                2010   \n",
       "247949   진관동 84 은평뉴타운 우물골(두산위브7단지)             134.480                2010   \n",
       "13289           원효로1가 17-5 로얄카운티-2             133.350                2006   \n",
       "13581           원효로1가 17-5 로얄카운티-2             133.350                2006   \n",
       "503489              방배동 802-8 노블씨티              97.360                2008   \n",
       "1094566             보광동 208-1 한강빌라             132.130                2001   \n",
       "13693             동빙고동 310-10 노블캐슬             165.760                2008   \n",
       "502820              방배동 802-8 노블씨티             114.160                2008   \n",
       "519130              방배동 802-8 노블씨티             114.160                2008   \n",
       "13819             동빙고동 310-10 노블캐슬             165.680                2008   \n",
       "15759             한남동 26-5 트윈빌 에이동             196.690                2008   \n",
       "531719            논현동 55 스위트캐슬레지던스             209.370                2004   \n",
       "23382             한남동 26-10 트윈빌 비동             176.730                2008   \n",
       "12963             동빙고동 310-10 노블캐슬             165.680                2008   \n",
       "542431        청담동 102-1 청담파라곤Ⅱ 1단지             217.200                2010   \n",
       "537384       청담동 102-13 청담파라곤Ⅱ 2단지             241.880                2010   \n",
       "1095417               한남동 810 한남더힐             212.524                2011   \n",
       "1095416               한남동 810 한남더힐             212.524                2011   \n",
       "23585                 한남동 810 한남더힐             240.230                2011   \n",
       "23376                 한남동 810 한남더힐             240.230                2011   \n",
       "\n",
       "         transaction_year_month transaction_date  floor  \\\n",
       "722888                   201606            21~30     -1   \n",
       "651052                   200809            21~30     -1   \n",
       "651087                   200810            11~20     -1   \n",
       "651641                   201101            21~31     -1   \n",
       "674249                   201506            11~20     -1   \n",
       "652044                   201211             1~10     -1   \n",
       "664479                   201606            21~30     -1   \n",
       "9602                     201502            11~20     -1   \n",
       "267272                   201012             1~10     -1   \n",
       "698094                   201110             1~10     -1   \n",
       "698128                   201110            11~20     -1   \n",
       "129497                   201603            21~31     -1   \n",
       "1190044                  201708             1~10     -1   \n",
       "5172                     200803             1~10     -1   \n",
       "658546                   201504            21~30     -1   \n",
       "664089                   201509            21~30     -1   \n",
       "264037                   200805             1~10     -1   \n",
       "5113                     200802            11~20     -1   \n",
       "9739                     201503            21~31     -1   \n",
       "129496                   201603            21~31     -1   \n",
       "418950                   201612            21~31     -1   \n",
       "410450                   201003            11~20     -1   \n",
       "5240                     200804             1~10     -1   \n",
       "358581                   201409             1~10     -1   \n",
       "6582                     201011             1~10     -1   \n",
       "21492                    201603             1~10     -1   \n",
       "356867                   201404            11~20     -1   \n",
       "6209                     200911            21~30     -1   \n",
       "477336                   201104            11~20     -1   \n",
       "6612                     201011            11~20     -1   \n",
       "...                         ...              ...    ...   \n",
       "245995                   201007            11~20     -1   \n",
       "250061                   201211            11~20     -1   \n",
       "253920                   201406             1~10     -1   \n",
       "250074                   201211            21~30     -1   \n",
       "257066                   201505             1~10     -1   \n",
       "248055                   201106             1~10     -1   \n",
       "248612                   201110             1~10     -1   \n",
       "250719                   201303             1~10     -1   \n",
       "246431                   201010             1~10     -1   \n",
       "21792                    201605            21~31     -1   \n",
       "1128345                  201704             1~10     -1   \n",
       "247949                   201105            21~31     -1   \n",
       "13289                    200904            21~30     -1   \n",
       "13581                    200906            21~30     -1   \n",
       "503489                   201106            11~20     -1   \n",
       "1094566                  201702            21~28     -1   \n",
       "13693                    200906             1~10     -1   \n",
       "502820                   201103            21~31     -1   \n",
       "519130                   201510            11~20     -1   \n",
       "13819                    200907             1~10     -1   \n",
       "15759                    201110             1~10     -1   \n",
       "531719                   200907            11~20     -1   \n",
       "23382                    201610            21~31     -1   \n",
       "12963                    200810             1~10     -1   \n",
       "542431                   201204            21~30     -1   \n",
       "537384                   201012            11~20     -1   \n",
       "1095417                  201705            21~31     -1   \n",
       "1095416                  201705            21~31     -1   \n",
       "23585                    201612             1~10     -1   \n",
       "23376                    201610            11~20     -1   \n",
       "\n",
       "         transaction_real_price  year  month  \n",
       "722888                 4.615121  2016      6  \n",
       "651052                 7.170888  2008      9  \n",
       "651087                 7.824446  2008     10  \n",
       "651641                 8.071219  2011      1  \n",
       "674249                 8.160804  2015      6  \n",
       "652044                 8.343078  2012     11  \n",
       "664479                 8.366603  2016      6  \n",
       "9602                   8.412055  2015      2  \n",
       "267272                 8.434029  2010     12  \n",
       "698094                 8.434029  2011     10  \n",
       "698128                 8.455531  2011     10  \n",
       "129497                 8.853808  2016      3  \n",
       "1190044                8.853808  2017      8  \n",
       "5172                   8.853808  2008      3  \n",
       "658546                 9.082621  2015      4  \n",
       "664089                 9.105091  2015      9  \n",
       "264037                 9.159152  2008      5  \n",
       "5113                   9.190240  2008      2  \n",
       "9739                   9.210440  2015      3  \n",
       "129496                 9.305741  2016      3  \n",
       "418950                 9.392745  2016     12  \n",
       "410450                 9.392745  2010      3  \n",
       "5240                   9.417436  2008      4  \n",
       "358581                 9.433564  2014      9  \n",
       "6582                   9.488048  2010     11  \n",
       "21492                  9.493336  2016      3  \n",
       "356867                 9.510519  2014      4  \n",
       "6209                   9.532496  2009     11  \n",
       "477336                 9.541154  2011      4  \n",
       "6612                   9.546884  2010     11  \n",
       "...                         ...   ...    ...  \n",
       "245995                10.900455  2010      7  \n",
       "250061                10.942598  2012     11  \n",
       "253920                10.973375  2014      6  \n",
       "250074                10.990128  2012     11  \n",
       "257066                11.000448  2015      5  \n",
       "248055                11.000832  2011      6  \n",
       "248612                11.038126  2011     10  \n",
       "250719                11.042938  2013      3  \n",
       "246431                11.176347  2010     10  \n",
       "21792                 11.184435  2016      5  \n",
       "1128345               11.211834  2017      4  \n",
       "247949                11.215651  2011      5  \n",
       "13289                 11.225257  2009      4  \n",
       "13581                 11.245059  2009      6  \n",
       "503489                11.264477  2011      6  \n",
       "1094566               11.338584  2017      2  \n",
       "13693                 11.379588  2009      6  \n",
       "502820                11.402005  2011      3  \n",
       "519130                11.487618  2015     10  \n",
       "13819                 11.608245  2009      7  \n",
       "15759                 11.608245  2011     10  \n",
       "531719                11.652696  2009      7  \n",
       "23382                 11.870607  2016     10  \n",
       "12963                 11.951187  2008     10  \n",
       "542431                12.283038  2012      4  \n",
       "537384                12.577640  2010     12  \n",
       "1095417               13.081543  2017      5  \n",
       "1095416               13.102163  2017      5  \n",
       "23585                 13.204866  2016     12  \n",
       "23376                 13.262127  2016     10  \n",
       "\n",
       "[140 rows x 14 columns]"
      ]
     },
     "execution_count": 29,
     "metadata": {},
     "output_type": "execute_result"
    }
   ],
   "source": [
    "train[train['floor']==-1].sort_values('transaction_real_price')"
   ]
  },
  {
   "cell_type": "markdown",
   "metadata": {
    "colab_type": "text",
    "id": "caLU_TPbj7SI"
   },
   "source": [
    "-1 치고 가격이 높은 경우도 있음\n",
    "\n",
    "같은 아파트에서는 floor가 -1인 경우의 영향을 확인해봄"
   ]
  },
  {
   "cell_type": "code",
   "execution_count": 30,
   "metadata": {
    "colab": {
     "base_uri": "https://localhost:8080/",
     "height": 465
    },
    "colab_type": "code",
    "executionInfo": {
     "elapsed": 107484,
     "status": "ok",
     "timestamp": 1560396365198,
     "user": {
      "displayName": "차시명",
      "photoUrl": "https://lh5.googleusercontent.com/-QWE4RoZUWJc/AAAAAAAAAAI/AAAAAAAAADw/SiMcaKMW0Sg/s64/photo.jpg",
      "userId": "15430965937131994656"
     },
     "user_tz": -540
    },
    "id": "ewtj8dpOj68S",
    "outputId": "81cd98d1-51b1-4cc6-a2d3-18ae5a2af89d"
   },
   "outputs": [
    {
     "data": {
      "text/html": [
       "<div>\n",
       "<style scoped>\n",
       "    .dataframe tbody tr th:only-of-type {\n",
       "        vertical-align: middle;\n",
       "    }\n",
       "\n",
       "    .dataframe tbody tr th {\n",
       "        vertical-align: top;\n",
       "    }\n",
       "\n",
       "    .dataframe thead th {\n",
       "        text-align: right;\n",
       "    }\n",
       "</style>\n",
       "<table border=\"1\" class=\"dataframe\">\n",
       "  <thead>\n",
       "    <tr style=\"text-align: right;\">\n",
       "      <th></th>\n",
       "      <th>apartment_id</th>\n",
       "      <th>city</th>\n",
       "      <th>dong</th>\n",
       "      <th>jibun</th>\n",
       "      <th>apt</th>\n",
       "      <th>addr_kr</th>\n",
       "      <th>exclusive_use_area</th>\n",
       "      <th>year_of_completion</th>\n",
       "      <th>transaction_year_month</th>\n",
       "      <th>transaction_date</th>\n",
       "      <th>floor</th>\n",
       "      <th>transaction_real_price</th>\n",
       "      <th>year</th>\n",
       "      <th>month</th>\n",
       "    </tr>\n",
       "  </thead>\n",
       "  <tbody>\n",
       "    <tr>\n",
       "      <th>651087</th>\n",
       "      <td>1513</td>\n",
       "      <td>부산광역시</td>\n",
       "      <td>대청동4가</td>\n",
       "      <td>75-181</td>\n",
       "      <td>근영빌라1동</td>\n",
       "      <td>대청동4가 75-181 근영빌라1동</td>\n",
       "      <td>59.89</td>\n",
       "      <td>1996</td>\n",
       "      <td>200810</td>\n",
       "      <td>11~20</td>\n",
       "      <td>-1</td>\n",
       "      <td>7.824446</td>\n",
       "      <td>2008</td>\n",
       "      <td>10</td>\n",
       "    </tr>\n",
       "    <tr>\n",
       "      <th>651599</th>\n",
       "      <td>1513</td>\n",
       "      <td>부산광역시</td>\n",
       "      <td>대청동4가</td>\n",
       "      <td>75-181</td>\n",
       "      <td>근영빌라1동</td>\n",
       "      <td>대청동4가 75-181 근영빌라1동</td>\n",
       "      <td>54.73</td>\n",
       "      <td>1996</td>\n",
       "      <td>201011</td>\n",
       "      <td>1~10</td>\n",
       "      <td>1</td>\n",
       "      <td>8.216358</td>\n",
       "      <td>2010</td>\n",
       "      <td>11</td>\n",
       "    </tr>\n",
       "    <tr>\n",
       "      <th>652009</th>\n",
       "      <td>1513</td>\n",
       "      <td>부산광역시</td>\n",
       "      <td>대청동4가</td>\n",
       "      <td>75-181</td>\n",
       "      <td>근영빌라1동</td>\n",
       "      <td>대청동4가 75-181 근영빌라1동</td>\n",
       "      <td>51.83</td>\n",
       "      <td>1996</td>\n",
       "      <td>201210</td>\n",
       "      <td>21~31</td>\n",
       "      <td>5</td>\n",
       "      <td>8.824825</td>\n",
       "      <td>2012</td>\n",
       "      <td>10</td>\n",
       "    </tr>\n",
       "    <tr>\n",
       "      <th>652591</th>\n",
       "      <td>1513</td>\n",
       "      <td>부산광역시</td>\n",
       "      <td>대청동4가</td>\n",
       "      <td>75-181</td>\n",
       "      <td>근영빌라1동</td>\n",
       "      <td>대청동4가 75-181 근영빌라1동</td>\n",
       "      <td>59.89</td>\n",
       "      <td>1996</td>\n",
       "      <td>201508</td>\n",
       "      <td>1~10</td>\n",
       "      <td>5</td>\n",
       "      <td>9.169623</td>\n",
       "      <td>2015</td>\n",
       "      <td>8</td>\n",
       "    </tr>\n",
       "  </tbody>\n",
       "</table>\n",
       "</div>"
      ],
      "text/plain": [
       "        apartment_id   city   dong   jibun     apt              addr_kr  \\\n",
       "651087          1513  부산광역시  대청동4가  75-181  근영빌라1동  대청동4가 75-181 근영빌라1동   \n",
       "651599          1513  부산광역시  대청동4가  75-181  근영빌라1동  대청동4가 75-181 근영빌라1동   \n",
       "652009          1513  부산광역시  대청동4가  75-181  근영빌라1동  대청동4가 75-181 근영빌라1동   \n",
       "652591          1513  부산광역시  대청동4가  75-181  근영빌라1동  대청동4가 75-181 근영빌라1동   \n",
       "\n",
       "        exclusive_use_area  year_of_completion  transaction_year_month  \\\n",
       "651087               59.89                1996                  200810   \n",
       "651599               54.73                1996                  201011   \n",
       "652009               51.83                1996                  201210   \n",
       "652591               59.89                1996                  201508   \n",
       "\n",
       "       transaction_date  floor  transaction_real_price  year  month  \n",
       "651087            11~20     -1                7.824446  2008     10  \n",
       "651599             1~10      1                8.216358  2010     11  \n",
       "652009            21~31      5                8.824825  2012     10  \n",
       "652591             1~10      5                9.169623  2015      8  "
      ]
     },
     "execution_count": 30,
     "metadata": {},
     "output_type": "execute_result"
    }
   ],
   "source": [
    "train[train['apt']=='근영빌라1동'].sort_values('floor')"
   ]
  },
  {
   "cell_type": "markdown",
   "metadata": {
    "colab_type": "text",
    "id": "Y_bJ-IKLnjSi"
   },
   "source": [
    "대충확인했을 때 아파트에 따라 다름.\n",
    "\n",
    "따라서, 이상치라고 판단하기 어려워 삭제하지 않는다."
   ]
  },
  {
   "cell_type": "code",
   "execution_count": 31,
   "metadata": {
    "colab": {
     "base_uri": "https://localhost:8080/",
     "height": 392
    },
    "colab_type": "code",
    "executionInfo": {
     "elapsed": 107870,
     "status": "ok",
     "timestamp": 1560396365618,
     "user": {
      "displayName": "차시명",
      "photoUrl": "https://lh5.googleusercontent.com/-QWE4RoZUWJc/AAAAAAAAAAI/AAAAAAAAADw/SiMcaKMW0Sg/s64/photo.jpg",
      "userId": "15430965937131994656"
     },
     "user_tz": -540
    },
    "id": "U00W5dkRF9CH",
    "outputId": "7de3b7c1-402d-4c2b-dfde-0af36fe6a91f"
   },
   "outputs": [
    {
     "data": {
      "image/png": "[encoded data removed]",
      "text/plain": [
       "<Figure size 576x432 with 1 Axes>"
      ]
     },
     "metadata": {
      "needs_background": "light"
     },
     "output_type": "display_data"
    }
   ],
   "source": [
    "f, ax = plt.subplots(figsize = (8,6))\n",
    "sns.boxplot(train['month'], train['transaction_real_price'])\n",
    "plt.show()"
   ]
  },
  {
   "cell_type": "markdown",
   "metadata": {
    "colab_type": "text",
    "id": "lCStcNijF9CL"
   },
   "source": [
    "## year_of_completion : 설립일자"
   ]
  },
  {
   "cell_type": "code",
   "execution_count": 32,
   "metadata": {
    "colab": {
     "base_uri": "https://localhost:8080/",
     "height": 412
    },
    "colab_type": "code",
    "executionInfo": {
     "elapsed": 109701,
     "status": "ok",
     "timestamp": 1560396367460,
     "user": {
      "displayName": "차시명",
      "photoUrl": "https://lh5.googleusercontent.com/-QWE4RoZUWJc/AAAAAAAAAAI/AAAAAAAAADw/SiMcaKMW0Sg/s64/photo.jpg",
      "userId": "15430965937131994656"
     },
     "user_tz": -540
    },
    "id": "VzZorB9SF9CL",
    "outputId": "8a2b3888-68f6-47f8-dc56-c36d3684baca"
   },
   "outputs": [
    {
     "data": {
      "image/png": "[encoded data removed]",
      "text/plain": [
       "<Figure size 1584x432 with 1 Axes>"
      ]
     },
     "metadata": {
      "needs_background": "light"
     },
     "output_type": "display_data"
    }
   ],
   "source": [
    "f, ax = plt.subplots(figsize = (22,6))\n",
    "sns.boxplot(train['year_of_completion'], train['transaction_real_price'])\n",
    "plt.show()"
   ]
  },
  {
   "cell_type": "markdown",
   "metadata": {
    "colab_type": "text",
    "id": "3fEd9l6DqoDj"
   },
   "source": [
    "이상치를 찾을 수 ㅇ벗.."
   ]
  },
  {
   "cell_type": "markdown",
   "metadata": {
    "colab_type": "text",
    "id": "AUgNpuMKF9CO"
   },
   "source": [
    "## 2.3 Catergorical Variable"
   ]
  },
  {
   "cell_type": "markdown",
   "metadata": {
    "colab_type": "text",
    "id": "1WmUkhBSF9CO"
   },
   "source": [
    "## city : 도시"
   ]
  },
  {
   "cell_type": "code",
   "execution_count": 33,
   "metadata": {
    "colab": {},
    "colab_type": "code",
    "id": "zwwTzq0OF9CO"
   },
   "outputs": [],
   "source": [
    "replace_name = {'서울특별시' : 0, '부산광역시' : 1 }\n",
    "train = train.replace({'city' : replace_name})\n",
    "test = test.replace({'city' : replace_name})"
   ]
  },
  {
   "cell_type": "code",
   "execution_count": 34,
   "metadata": {
    "colab": {
     "base_uri": "https://localhost:8080/",
     "height": 392
    },
    "colab_type": "code",
    "executionInfo": {
     "elapsed": 110300,
     "status": "ok",
     "timestamp": 1560396368071,
     "user": {
      "displayName": "차시명",
      "photoUrl": "https://lh5.googleusercontent.com/-QWE4RoZUWJc/AAAAAAAAAAI/AAAAAAAAADw/SiMcaKMW0Sg/s64/photo.jpg",
      "userId": "15430965937131994656"
     },
     "user_tz": -540
    },
    "id": "TJMWPOecF9CQ",
    "outputId": "e3d852bd-44d3-45fe-c1f5-fadc89f4e959"
   },
   "outputs": [
    {
     "data": {
      "image/png": "[encoded data removed]",
      "text/plain": [
       "<Figure size 576x432 with 1 Axes>"
      ]
     },
     "metadata": {
      "needs_background": "light"
     },
     "output_type": "display_data"
    }
   ],
   "source": [
    "f, ax = plt.subplots(figsize = (8,6))\n",
    "sns.boxplot(train['city'], train['transaction_real_price'])\n",
    "plt.show()"
   ]
  },
  {
   "cell_type": "code",
   "execution_count": 35,
   "metadata": {
    "colab": {
     "base_uri": "https://localhost:8080/",
     "height": 392
    },
    "colab_type": "code",
    "executionInfo": {
     "elapsed": 110625,
     "status": "ok",
     "timestamp": 1560396368408,
     "user": {
      "displayName": "차시명",
      "photoUrl": "https://lh5.googleusercontent.com/-QWE4RoZUWJc/AAAAAAAAAAI/AAAAAAAAADw/SiMcaKMW0Sg/s64/photo.jpg",
      "userId": "15430965937131994656"
     },
     "user_tz": -540
    },
    "id": "1aL53mVkF9CU",
    "outputId": "a1a494d4-c128-4e85-a653-883de44087d7"
   },
   "outputs": [
    {
     "data": {
      "image/png": "[encoded data removed]",
      "text/plain": [
       "<Figure size 576x432 with 1 Axes>"
      ]
     },
     "metadata": {
      "needs_background": "light"
     },
     "output_type": "display_data"
    }
   ],
   "source": [
    "f, ax = plt.subplots(figsize = (8,6))\n",
    "sns.countplot(train['city'])\n",
    "plt.show()"
   ]
  },
  {
   "cell_type": "markdown",
   "metadata": {
    "colab_type": "text",
    "id": "ol6kRcPpF9Cc"
   },
   "source": [
    "## addr_kr : 주소"
   ]
  },
  {
   "cell_type": "markdown",
   "metadata": {
    "colab_type": "text",
    "id": "QrPlpR2zF9Cd"
   },
   "source": [
    "동, 지번, 아파트단지이름을 합친 것을 addr_kr로 하였으므로 그냥 삭제 하겠습니다."
   ]
  },
  {
   "cell_type": "code",
   "execution_count": 36,
   "metadata": {
    "colab": {},
    "colab_type": "code",
    "id": "oTqfvWcMF9Ce"
   },
   "outputs": [],
   "source": [
    "train = train.drop('addr_kr', axis=1)\n",
    "test = test.drop('addr_kr', axis=1)"
   ]
  },
  {
   "cell_type": "markdown",
   "metadata": {
    "colab_type": "text",
    "id": "TDZAnN8lF9Cg"
   },
   "source": [
    "## dong"
   ]
  },
  {
   "cell_type": "markdown",
   "metadata": {},
   "source": [
    "데이콘 튜토리얼 샘플코드에서 한강의 유무에 따른 feature를 하나 생성 해준다."
   ]
  },
  {
   "cell_type": "code",
   "execution_count": 39,
   "metadata": {},
   "outputs": [],
   "source": [
    "train['hangang']=train['dong'].isin(['성수동1가','삼성동','이촌동','공덕동','서교동','한강로3가','목동']).astype(int)\n",
    "test['hangang']=test['dong'].isin(['성수동1가','삼성동','이촌동','공덕동','서교동','한강로3가','목동']).astype(int)"
   ]
  },
  {
   "cell_type": "code",
   "execution_count": 37,
   "metadata": {
    "colab": {
     "base_uri": "https://localhost:8080/",
     "height": 35
    },
    "colab_type": "code",
    "executionInfo": {
     "elapsed": 110979,
     "status": "ok",
     "timestamp": 1560396368772,
     "user": {
      "displayName": "차시명",
      "photoUrl": "https://lh5.googleusercontent.com/-QWE4RoZUWJc/AAAAAAAAAAI/AAAAAAAAADw/SiMcaKMW0Sg/s64/photo.jpg",
      "userId": "15430965937131994656"
     },
     "user_tz": -540
    },
    "id": "7GJUY4DiF9Ch",
    "outputId": "9aa9eedc-416e-4e58-946a-1cfcf85663aa"
   },
   "outputs": [
    {
     "data": {
      "text/plain": [
       "473"
      ]
     },
     "execution_count": 37,
     "metadata": {},
     "output_type": "execute_result"
    }
   ],
   "source": [
    "len(train['dong'].unique())"
   ]
  },
  {
   "cell_type": "markdown",
   "metadata": {},
   "source": [
    "dong은 그 지역을 그룹화 한 것으로 지역에 따라 가격차이를 보여줄 수 있으므로,\n",
    "\n",
    "아파트 실거래가의 평균순으로 데이터를 labeling 한다."
   ]
  },
  {
   "cell_type": "code",
   "execution_count": 38,
   "metadata": {
    "colab": {
     "base_uri": "https://localhost:8080/",
     "height": 204
    },
    "colab_type": "code",
    "executionInfo": {
     "elapsed": 110973,
     "status": "ok",
     "timestamp": 1560396368773,
     "user": {
      "displayName": "차시명",
      "photoUrl": "https://lh5.googleusercontent.com/-QWE4RoZUWJc/AAAAAAAAAAI/AAAAAAAAADw/SiMcaKMW0Sg/s64/photo.jpg",
      "userId": "15430965937131994656"
     },
     "user_tz": -540
    },
    "id": "1ZcLqDZSF9Ck",
    "outputId": "e308fed3-a53f-4ab3-8373-a7809b5d88a9"
   },
   "outputs": [
    {
     "data": {
      "text/html": [
       "<div>\n",
       "<style scoped>\n",
       "    .dataframe tbody tr th:only-of-type {\n",
       "        vertical-align: middle;\n",
       "    }\n",
       "\n",
       "    .dataframe tbody tr th {\n",
       "        vertical-align: top;\n",
       "    }\n",
       "\n",
       "    .dataframe thead th {\n",
       "        text-align: right;\n",
       "    }\n",
       "</style>\n",
       "<table border=\"1\" class=\"dataframe\">\n",
       "  <thead>\n",
       "    <tr style=\"text-align: right;\">\n",
       "      <th></th>\n",
       "      <th>dong</th>\n",
       "      <th>transaction_real_price</th>\n",
       "    </tr>\n",
       "  </thead>\n",
       "  <tbody>\n",
       "    <tr>\n",
       "      <th>0</th>\n",
       "      <td>신선동3가</td>\n",
       "      <td>8.543619</td>\n",
       "    </tr>\n",
       "    <tr>\n",
       "      <th>1</th>\n",
       "      <td>봉래동5가</td>\n",
       "      <td>8.590871</td>\n",
       "    </tr>\n",
       "    <tr>\n",
       "      <th>2</th>\n",
       "      <td>장안읍 명례리</td>\n",
       "      <td>8.597728</td>\n",
       "    </tr>\n",
       "    <tr>\n",
       "      <th>3</th>\n",
       "      <td>신창동2가</td>\n",
       "      <td>8.601466</td>\n",
       "    </tr>\n",
       "    <tr>\n",
       "      <th>4</th>\n",
       "      <td>신선동2가</td>\n",
       "      <td>8.622581</td>\n",
       "    </tr>\n",
       "  </tbody>\n",
       "</table>\n",
       "</div>"
      ],
      "text/plain": [
       "      dong  transaction_real_price\n",
       "0    신선동3가                8.543619\n",
       "1    봉래동5가                8.590871\n",
       "2  장안읍 명례리                8.597728\n",
       "3    신창동2가                8.601466\n",
       "4    신선동2가                8.622581"
      ]
     },
     "execution_count": 38,
     "metadata": {},
     "output_type": "execute_result"
    }
   ],
   "source": [
    "train_dong = train[['transaction_real_price','dong']].groupby('dong').mean().sort_values('transaction_real_price').reset_index()\n",
    "train_dong.head()"
   ]
  },
  {
   "cell_type": "code",
   "execution_count": 40,
   "metadata": {
    "colab": {
     "base_uri": "https://localhost:8080/",
     "height": 8531
    },
    "colab_type": "code",
    "executionInfo": {
     "elapsed": 110966,
     "status": "ok",
     "timestamp": 1560396368774,
     "user": {
      "displayName": "차시명",
      "photoUrl": "https://lh5.googleusercontent.com/-QWE4RoZUWJc/AAAAAAAAAAI/AAAAAAAAADw/SiMcaKMW0Sg/s64/photo.jpg",
      "userId": "15430965937131994656"
     },
     "user_tz": -540
    },
    "id": "0zfNML9q1G_d",
    "outputId": "48087ad8-22fb-4ef3-d9ab-c2ddd0e067b3"
   },
   "outputs": [
    {
     "data": {
      "text/plain": [
       "{'신선동3가': 0,\n",
       " '봉래동5가': 1,\n",
       " '장안읍 명례리': 2,\n",
       " '신창동2가': 3,\n",
       " '신선동2가': 4,\n",
       " '보수동1가': 5,\n",
       " '장충동2가': 6,\n",
       " '중앙동4가': 7,\n",
       " '부평동2가': 8,\n",
       " '수정동': 9,\n",
       " '필동1가': 10,\n",
       " '아미동2가': 11,\n",
       " '동광동5가': 12,\n",
       " '기장읍 대변리': 13,\n",
       " '초장동': 14,\n",
       " '남항동3가': 15,\n",
       " '대청동1가': 16,\n",
       " '기장읍 서부리': 17,\n",
       " '동삼동': 18,\n",
       " '반송동': 19,\n",
       " '보수동2가': 20,\n",
       " '누상동': 21,\n",
       " '봉래동3가': 22,\n",
       " '대청동4가': 23,\n",
       " '서동': 24,\n",
       " '일광면 이천리': 25,\n",
       " '덕천동': 26,\n",
       " '일광면 삼성리': 27,\n",
       " '봉래동4가': 28,\n",
       " '감만동': 29,\n",
       " '영등포동3가': 30,\n",
       " '모라동': 31,\n",
       " '행촌동': 32,\n",
       " '동대신동3가': 33,\n",
       " '학장동': 34,\n",
       " '구평동': 35,\n",
       " '좌천동': 36,\n",
       " '금곡동': 37,\n",
       " '영주동': 38,\n",
       " '장림동': 39,\n",
       " '토성동2가': 40,\n",
       " '기장읍 청강리': 41,\n",
       " '기장읍 대라리': 42,\n",
       " '영등포동1가': 43,\n",
       " '영등포동2가': 44,\n",
       " '미근동': 45,\n",
       " '감천동': 46,\n",
       " '감전동': 47,\n",
       " '전포동': 48,\n",
       " '금사동': 49,\n",
       " '기장읍 동부리': 50,\n",
       " '칠산동': 51,\n",
       " '덕포동': 52,\n",
       " '초량동': 53,\n",
       " '명장동': 54,\n",
       " '다대동': 55,\n",
       " '서대신동1가': 56,\n",
       " '오장동': 57,\n",
       " '기장읍 교리': 58,\n",
       " '대창동1가': 59,\n",
       " '영등포동4가': 60,\n",
       " '회동동': 61,\n",
       " '신평동': 62,\n",
       " '범천동': 63,\n",
       " '우암동': 64,\n",
       " '구포동': 65,\n",
       " '괴정동': 66,\n",
       " '당감동': 67,\n",
       " '안암동4가': 68,\n",
       " '토성동5가': 69,\n",
       " '개금동': 70,\n",
       " '남산동': 71,\n",
       " '당리동': 72,\n",
       " '당산동6가': 73,\n",
       " '주례동': 74,\n",
       " '통인동': 75,\n",
       " '청학동': 76,\n",
       " '충무동2가': 77,\n",
       " '암남동': 78,\n",
       " '엄궁동': 79,\n",
       " '만덕동': 80,\n",
       " '영선동4가': 81,\n",
       " '남부민동': 82,\n",
       " '성북동': 83,\n",
       " '광안동': 84,\n",
       " '하단동': 85,\n",
       " '삼락동': 86,\n",
       " '지사동': 87,\n",
       " '수안동': 88,\n",
       " '충신동': 89,\n",
       " '대평동1가': 90,\n",
       " '보수동3가': 91,\n",
       " '초읍동': 92,\n",
       " '봉래동1가': 93,\n",
       " '가야동': 94,\n",
       " '재송동': 95,\n",
       " '동대신동1가': 96,\n",
       " '영선동3가': 97,\n",
       " '정관읍 달산리': 98,\n",
       " '서대신동2가': 99,\n",
       " '대연동': 100,\n",
       " '부용동1가': 101,\n",
       " '정관읍 방곡리': 102,\n",
       " '장안읍 좌천리': 103,\n",
       " '동숭동': 104,\n",
       " '반여동': 105,\n",
       " '연건동': 106,\n",
       " '문현동': 107,\n",
       " '용당동': 108,\n",
       " '안암동3가': 109,\n",
       " '남창동': 110,\n",
       " '부전동': 111,\n",
       " '대조동': 112,\n",
       " '청룡동': 113,\n",
       " '부곡동': 114,\n",
       " '괘법동': 115,\n",
       " '연산동': 116,\n",
       " '신호동': 117,\n",
       " '범전동': 118,\n",
       " '인현동2가': 119,\n",
       " '효제동': 120,\n",
       " '부민동1가': 121,\n",
       " '남항동2가': 122,\n",
       " '토성동3가': 123,\n",
       " '부평동4가': 124,\n",
       " '명륜3가': 125,\n",
       " '영선동1가': 126,\n",
       " '신창동1가': 127,\n",
       " '녹산동': 128,\n",
       " '노고산동': 129,\n",
       " '온천동': 130,\n",
       " '남항동1가': 131,\n",
       " '화명동': 132,\n",
       " '안락동': 133,\n",
       " '망미동': 134,\n",
       " '만리동2가': 135,\n",
       " '낙민동': 136,\n",
       " '대교동2가': 137,\n",
       " '서대신동3가': 138,\n",
       " '양정동': 139,\n",
       " '부민동3가': 140,\n",
       " '복천동': 141,\n",
       " '연지동': 142,\n",
       " '부암동': 143,\n",
       " '구서동': 144,\n",
       " '익선동': 145,\n",
       " '좌동': 146,\n",
       " '송정동': 147,\n",
       " '정관읍 매학리': 148,\n",
       " '원효로2가': 149,\n",
       " '동소문동6가': 150,\n",
       " '영등포동5가': 151,\n",
       " '쌍문동': 152,\n",
       " '동대신동2가': 153,\n",
       " '원효로3가': 154,\n",
       " '봉래동2가': 155,\n",
       " '사직동': 156,\n",
       " '삼선동5가': 157,\n",
       " '묵정동': 158,\n",
       " '가리봉동': 159,\n",
       " '기장읍 내리': 160,\n",
       " '용호동': 161,\n",
       " '거제동': 162,\n",
       " '신설동': 163,\n",
       " '대청동2가': 164,\n",
       " '철마면 고촌리': 165,\n",
       " '범일동': 166,\n",
       " '가산동': 167,\n",
       " '수영동': 168,\n",
       " '갈현동': 169,\n",
       " '정관읍 모전리': 170,\n",
       " '화양동': 171,\n",
       " '상계동': 172,\n",
       " '충무로5가': 173,\n",
       " '낙원동': 174,\n",
       " '신월동': 175,\n",
       " '장전동': 176,\n",
       " '신영동': 177,\n",
       " '수유동': 178,\n",
       " '월계동': 179,\n",
       " '영선동2가': 180,\n",
       " '번동': 181,\n",
       " '독산동': 182,\n",
       " '토성동1가': 183,\n",
       " '정관읍 용수리': 184,\n",
       " '도봉동': 185,\n",
       " '중동': 186,\n",
       " '동선동4가': 187,\n",
       " '창천동': 188,\n",
       " '창동': 189,\n",
       " '방학동': 190,\n",
       " '구산동': 191,\n",
       " '공릉동': 192,\n",
       " '신내동': 193,\n",
       " '구로동': 194,\n",
       " '대저1동': 195,\n",
       " '망우동': 196,\n",
       " '당산동2가': 197,\n",
       " '시흥동': 198,\n",
       " '오류동': 199,\n",
       " '중곡동': 200,\n",
       " '면목동': 201,\n",
       " '방화동': 202,\n",
       " '상도1동': 203,\n",
       " '궁동': 204,\n",
       " '이화동': 205,\n",
       " '산림동': 206,\n",
       " '문래동2가': 207,\n",
       " '역촌동': 208,\n",
       " '중화동': 209,\n",
       " '가양동': 210,\n",
       " '민락동': 211,\n",
       " '보문동6가': 212,\n",
       " '양평동2가': 213,\n",
       " '하계동': 214,\n",
       " '남천동': 215,\n",
       " '중계동': 216,\n",
       " '보문동2가': 217,\n",
       " '충정로3가': 218,\n",
       " '신림동': 219,\n",
       " '동소문동4가': 220,\n",
       " '회기동': 221,\n",
       " '고척동': 222,\n",
       " '정릉동': 223,\n",
       " '문래동6가': 224,\n",
       " '신사동': 225,\n",
       " '삼전동': 226,\n",
       " '우이동': 227,\n",
       " '숭인동': 228,\n",
       " '증산동': 229,\n",
       " '사근동': 230,\n",
       " '묵동': 231,\n",
       " '연희동': 232,\n",
       " '능동': 233,\n",
       " '창신동': 234,\n",
       " '홍은동': 235,\n",
       " '홍익동': 236,\n",
       " '마포동': 237,\n",
       " '상월곡동': 238,\n",
       " '예장동': 239,\n",
       " '명지동': 240,\n",
       " '수송동': 241,\n",
       " '개봉동': 242,\n",
       " '길동': 243,\n",
       " '항동': 244,\n",
       " '양평동1가': 245,\n",
       " '휘경동': 246,\n",
       " '양평동6가': 247,\n",
       " '상봉동': 248,\n",
       " '대림동': 249,\n",
       " '남산동2가': 250,\n",
       " '녹번동': 251,\n",
       " '영등포동7가': 252,\n",
       " '홍제동': 253,\n",
       " '명륜동': 254,\n",
       " '청파동1가': 255,\n",
       " '천호동': 256,\n",
       " '문래동5가': 257,\n",
       " '응암동': 258,\n",
       " '동선동5가': 259,\n",
       " '답십리동': 260,\n",
       " '등촌동': 261,\n",
       " '신길동': 262,\n",
       " '수색동': 263,\n",
       " '천연동': 264,\n",
       " '동선동3가': 265,\n",
       " '화곡동': 266,\n",
       " '미아동': 267,\n",
       " '용답동': 268,\n",
       " '석관동': 269,\n",
       " '명륜1가': 270,\n",
       " '제기동': 271,\n",
       " '돈암동': 272,\n",
       " '양평동4가': 273,\n",
       " '충무동1가': 274,\n",
       " '성내동': 275,\n",
       " '장안동': 276,\n",
       " '우동': 277,\n",
       " '장위동': 278,\n",
       " '공항동': 279,\n",
       " '교북동': 280,\n",
       " '거여동': 281,\n",
       " '봉천동': 282,\n",
       " '이문동': 283,\n",
       " '양평동5가': 284,\n",
       " '삼선동4가': 285,\n",
       " '망원동': 286,\n",
       " '을지로5가': 287,\n",
       " '충정로2가': 288,\n",
       " '대현동': 289,\n",
       " '불광동': 290,\n",
       " '마장동': 291,\n",
       " '염창동': 292,\n",
       " '종암동': 293,\n",
       " '전농동': 294,\n",
       " '온수동': 295,\n",
       " '연남동': 296,\n",
       " '용두동': 297,\n",
       " '당산동1가': 298,\n",
       " '도림동': 299,\n",
       " '문래동4가': 300,\n",
       " '양평동3가': 301,\n",
       " '천왕동': 302,\n",
       " '성산동': 303,\n",
       " '내발산동': 304,\n",
       " '하월곡동': 305,\n",
       " '북아현동': 306,\n",
       " '청량리동': 307,\n",
       " '안암동1가': 308,\n",
       " '동소문동7가': 309,\n",
       " '당산동': 310,\n",
       " '강일동': 311,\n",
       " '노량진동': 312,\n",
       " '영등포동': 313,\n",
       " '삼선동2가': 314,\n",
       " '마천동': 315,\n",
       " '군자동': 316,\n",
       " '남현동': 317,\n",
       " '성북동1가': 318,\n",
       " '길음동': 319,\n",
       " '청파동3가': 320,\n",
       " '구수동': 321,\n",
       " '현저동': 322,\n",
       " '필동3가': 323,\n",
       " '남가좌동': 324,\n",
       " '영등포동8가': 325,\n",
       " '혜화동': 326,\n",
       " '구기동': 327,\n",
       " '대방동': 328,\n",
       " '풍납동': 329,\n",
       " '북가좌동': 330,\n",
       " '보문동3가': 331,\n",
       " '금호동1가': 332,\n",
       " '도선동': 333,\n",
       " '하왕십리동': 334,\n",
       " '대교동1가': 335,\n",
       " '신도림동': 336,\n",
       " '신수동': 337,\n",
       " '순화동': 338,\n",
       " '당산동3가': 339,\n",
       " '정동': 340,\n",
       " '명일동': 341,\n",
       " '신정동': 342,\n",
       " '신문로1가': 343,\n",
       " '용산동2가': 344,\n",
       " '영천동': 345,\n",
       " '사당동': 346,\n",
       " '산천동': 347,\n",
       " '보문동4가': 348,\n",
       " '응봉동': 349,\n",
       " '염리동': 350,\n",
       " '신교동': 351,\n",
       " '당산동4가': 352,\n",
       " '신창동': 353,\n",
       " '후암동': 354,\n",
       " '금호동3가': 355,\n",
       " '신대방동': 356,\n",
       " '황학동': 357,\n",
       " '도화동': 358,\n",
       " '토정동': 359,\n",
       " '신당동': 360,\n",
       " '본동': 361,\n",
       " '갈월동': 362,\n",
       " '당주동': 363,\n",
       " '충무로4가': 364,\n",
       " '상일동': 365,\n",
       " '합정동': 366,\n",
       " '효창동': 367,\n",
       " '행당동': 368,\n",
       " '대흥동': 369,\n",
       " '암사동': 370,\n",
       " '동소문동5가': 371,\n",
       " '명륜2가': 372,\n",
       " '진관동': 373,\n",
       " '동교동': 374,\n",
       " '오금동': 375,\n",
       " '동선동1가': 376,\n",
       " '양재동': 377,\n",
       " '평창동': 378,\n",
       " '도원동': 379,\n",
       " '수서동': 380,\n",
       " '마곡동': 381,\n",
       " '창전동': 382,\n",
       " '냉천동': 383,\n",
       " '상도동': 384,\n",
       " '삼선동3가': 385,\n",
       " '석촌동': 386,\n",
       " '구의동': 387,\n",
       " '고덕동': 388,\n",
       " '인의동': 389,\n",
       " '합동': 390,\n",
       " '가락동': 391,\n",
       " '만리동1가': 392,\n",
       " '자양동': 393,\n",
       " '중림동': 394,\n",
       " '용문동': 395,\n",
       " '문배동': 396,\n",
       " '신공덕동': 397,\n",
       " '문정동': 398,\n",
       " '성수동2가': 399,\n",
       " '성수동1가': 400,\n",
       " '공덕동': 401,\n",
       " '한강로2가': 402,\n",
       " '현석동': 403,\n",
       " '금호동4가': 404,\n",
       " '원효로4가': 405,\n",
       " '당산동5가': 406,\n",
       " '문래동3가': 407,\n",
       " '둔촌동': 408,\n",
       " '장지동': 409,\n",
       " '무악동': 410,\n",
       " '역삼동': 411,\n",
       " '상암동': 412,\n",
       " '논현동': 413,\n",
       " '필운동': 414,\n",
       " '광장동': 415,\n",
       " '흑석동': 416,\n",
       " '옥수동': 417,\n",
       " '흥인동': 418,\n",
       " '목동': 419,\n",
       " '송파동': 420,\n",
       " '용강동': 421,\n",
       " '청운동': 422,\n",
       " '아현동': 423,\n",
       " '서교동': 424,\n",
       " '보광동': 425,\n",
       " '금호동2가': 426,\n",
       " '동작동': 427,\n",
       " '옥인동': 428,\n",
       " '우면동': 429,\n",
       " '세곡동': 430,\n",
       " '이태원동': 431,\n",
       " '개포동': 432,\n",
       " '서초동': 433,\n",
       " '방이동': 434,\n",
       " '일원동': 435,\n",
       " '율현동': 436,\n",
       " '신원동': 437,\n",
       " '상수동': 438,\n",
       " '한강로1가': 439,\n",
       " '상왕십리동': 440,\n",
       " '한남동': 441,\n",
       " '방배동': 442,\n",
       " '내곡동': 443,\n",
       " '원효로1가': 444,\n",
       " '한강로3가': 445,\n",
       " '회현동1가': 446,\n",
       " '잠원동': 447,\n",
       " '신천동': 448,\n",
       " '이촌동': 449,\n",
       " '자곡동': 450,\n",
       " '신계동': 451,\n",
       " '삼성동': 452,\n",
       " '견지동': 453,\n",
       " '동자동': 454,\n",
       " '여의도동': 455,\n",
       " '도곡동': 456,\n",
       " '동빙고동': 457,\n",
       " '청담동': 458,\n",
       " '잠실동': 459,\n",
       " '하중동': 460,\n",
       " '대치동': 461,\n",
       " '내수동': 462,\n",
       " '주성동': 463,\n",
       " '서빙고동': 464,\n",
       " '교남동': 465,\n",
       " '남대문로5가': 466,\n",
       " '반포동': 467,\n",
       " '회현동2가': 468,\n",
       " '용산동5가': 469,\n",
       " '압구정동': 470,\n",
       " '청암동': 471,\n",
       " '장충동1가': 472}"
      ]
     },
     "execution_count": 40,
     "metadata": {},
     "output_type": "execute_result"
    }
   ],
   "source": [
    "dong_num = {}\n",
    "for i in range(len(train_dong)):\n",
    "    dong = train_dong['dong'].iloc[i]\n",
    "    dong_num[dong] = i\n",
    "    \n",
    "dong_num"
   ]
  },
  {
   "cell_type": "code",
   "execution_count": 41,
   "metadata": {
    "colab": {
     "base_uri": "https://localhost:8080/",
     "height": 377
    },
    "colab_type": "code",
    "executionInfo": {
     "elapsed": 124597,
     "status": "ok",
     "timestamp": 1560396382414,
     "user": {
      "displayName": "차시명",
      "photoUrl": "https://lh5.googleusercontent.com/-QWE4RoZUWJc/AAAAAAAAAAI/AAAAAAAAADw/SiMcaKMW0Sg/s64/photo.jpg",
      "userId": "15430965937131994656"
     },
     "user_tz": -540
    },
    "id": "l-xAiXzj1l1Q",
    "outputId": "7f706123-6104-494e-e167-39d77c500869"
   },
   "outputs": [
    {
     "data": {
      "text/html": [
       "<div>\n",
       "<style scoped>\n",
       "    .dataframe tbody tr th:only-of-type {\n",
       "        vertical-align: middle;\n",
       "    }\n",
       "\n",
       "    .dataframe tbody tr th {\n",
       "        vertical-align: top;\n",
       "    }\n",
       "\n",
       "    .dataframe thead th {\n",
       "        text-align: right;\n",
       "    }\n",
       "</style>\n",
       "<table border=\"1\" class=\"dataframe\">\n",
       "  <thead>\n",
       "    <tr style=\"text-align: right;\">\n",
       "      <th></th>\n",
       "      <th>apartment_id</th>\n",
       "      <th>city</th>\n",
       "      <th>dong</th>\n",
       "      <th>jibun</th>\n",
       "      <th>apt</th>\n",
       "      <th>exclusive_use_area</th>\n",
       "      <th>year_of_completion</th>\n",
       "      <th>transaction_year_month</th>\n",
       "      <th>transaction_date</th>\n",
       "      <th>floor</th>\n",
       "      <th>transaction_real_price</th>\n",
       "      <th>year</th>\n",
       "      <th>month</th>\n",
       "      <th>hangang</th>\n",
       "    </tr>\n",
       "  </thead>\n",
       "  <tbody>\n",
       "    <tr>\n",
       "      <th>0</th>\n",
       "      <td>7622</td>\n",
       "      <td>0</td>\n",
       "      <td>351</td>\n",
       "      <td>6-13</td>\n",
       "      <td>신현(101동)</td>\n",
       "      <td>84.82</td>\n",
       "      <td>2002</td>\n",
       "      <td>200801</td>\n",
       "      <td>21~31</td>\n",
       "      <td>2</td>\n",
       "      <td>10.532123</td>\n",
       "      <td>2008</td>\n",
       "      <td>1</td>\n",
       "      <td>0</td>\n",
       "    </tr>\n",
       "    <tr>\n",
       "      <th>1</th>\n",
       "      <td>5399</td>\n",
       "      <td>0</td>\n",
       "      <td>414</td>\n",
       "      <td>142</td>\n",
       "      <td>사직파크맨션</td>\n",
       "      <td>99.17</td>\n",
       "      <td>1973</td>\n",
       "      <td>200801</td>\n",
       "      <td>1~10</td>\n",
       "      <td>6</td>\n",
       "      <td>9.903538</td>\n",
       "      <td>2008</td>\n",
       "      <td>1</td>\n",
       "      <td>0</td>\n",
       "    </tr>\n",
       "    <tr>\n",
       "      <th>2</th>\n",
       "      <td>3578</td>\n",
       "      <td>0</td>\n",
       "      <td>414</td>\n",
       "      <td>174-1</td>\n",
       "      <td>두레엘리시안</td>\n",
       "      <td>84.74</td>\n",
       "      <td>2007</td>\n",
       "      <td>200801</td>\n",
       "      <td>1~10</td>\n",
       "      <td>6</td>\n",
       "      <td>10.558439</td>\n",
       "      <td>2008</td>\n",
       "      <td>1</td>\n",
       "      <td>0</td>\n",
       "    </tr>\n",
       "    <tr>\n",
       "      <th>3</th>\n",
       "      <td>10957</td>\n",
       "      <td>0</td>\n",
       "      <td>462</td>\n",
       "      <td>95</td>\n",
       "      <td>파크팰리스</td>\n",
       "      <td>146.39</td>\n",
       "      <td>2003</td>\n",
       "      <td>200801</td>\n",
       "      <td>11~20</td>\n",
       "      <td>15</td>\n",
       "      <td>11.678448</td>\n",
       "      <td>2008</td>\n",
       "      <td>1</td>\n",
       "      <td>0</td>\n",
       "    </tr>\n",
       "    <tr>\n",
       "      <th>4</th>\n",
       "      <td>10639</td>\n",
       "      <td>0</td>\n",
       "      <td>462</td>\n",
       "      <td>110-15</td>\n",
       "      <td>킹스매너</td>\n",
       "      <td>194.43</td>\n",
       "      <td>2004</td>\n",
       "      <td>200801</td>\n",
       "      <td>21~31</td>\n",
       "      <td>3</td>\n",
       "      <td>11.695255</td>\n",
       "      <td>2008</td>\n",
       "      <td>1</td>\n",
       "      <td>0</td>\n",
       "    </tr>\n",
       "  </tbody>\n",
       "</table>\n",
       "</div>"
      ],
      "text/plain": [
       "   apartment_id  city  dong   jibun       apt  exclusive_use_area  \\\n",
       "0          7622     0   351    6-13  신현(101동)               84.82   \n",
       "1          5399     0   414     142    사직파크맨션               99.17   \n",
       "2          3578     0   414   174-1    두레엘리시안               84.74   \n",
       "3         10957     0   462      95     파크팰리스              146.39   \n",
       "4         10639     0   462  110-15      킹스매너              194.43   \n",
       "\n",
       "   year_of_completion  transaction_year_month transaction_date  floor  \\\n",
       "0                2002                  200801            21~31      2   \n",
       "1                1973                  200801             1~10      6   \n",
       "2                2007                  200801             1~10      6   \n",
       "3                2003                  200801            11~20     15   \n",
       "4                2004                  200801            21~31      3   \n",
       "\n",
       "   transaction_real_price  year  month  hangang  \n",
       "0               10.532123  2008      1        0  \n",
       "1                9.903538  2008      1        0  \n",
       "2               10.558439  2008      1        0  \n",
       "3               11.678448  2008      1        0  \n",
       "4               11.695255  2008      1        0  "
      ]
     },
     "execution_count": 41,
     "metadata": {},
     "output_type": "execute_result"
    }
   ],
   "source": [
    "train = train.replace({'dong' : dong_num})\n",
    "test = test.replace({'dong' : dong_num})\n",
    "train.head()"
   ]
  },
  {
   "cell_type": "markdown",
   "metadata": {
    "colab_type": "text",
    "id": "MFRLcV7O2VWj"
   },
   "source": [
    "## Jibun"
   ]
  },
  {
   "cell_type": "code",
   "execution_count": 62,
   "metadata": {
    "colab": {
     "base_uri": "https://localhost:8080/",
     "height": 35
    },
    "colab_type": "code",
    "executionInfo": {
     "elapsed": 124591,
     "status": "ok",
     "timestamp": 1560396382416,
     "user": {
      "displayName": "차시명",
      "photoUrl": "https://lh5.googleusercontent.com/-QWE4RoZUWJc/AAAAAAAAAAI/AAAAAAAAADw/SiMcaKMW0Sg/s64/photo.jpg",
      "userId": "15430965937131994656"
     },
     "user_tz": -540
    },
    "id": "YzON--b12ErN",
    "outputId": "9f29c902-e674-47c8-fcc6-aae4763279ef"
   },
   "outputs": [
    {
     "data": {
      "text/plain": [
       "8961"
      ]
     },
     "execution_count": 62,
     "metadata": {},
     "output_type": "execute_result"
    }
   ],
   "source": [
    "len(train['jibun'].unique())"
   ]
  },
  {
   "cell_type": "code",
   "execution_count": 63,
   "metadata": {
    "colab": {
     "base_uri": "https://localhost:8080/",
     "height": 204
    },
    "colab_type": "code",
    "executionInfo": {
     "elapsed": 124585,
     "status": "ok",
     "timestamp": 1560396382417,
     "user": {
      "displayName": "차시명",
      "photoUrl": "https://lh5.googleusercontent.com/-QWE4RoZUWJc/AAAAAAAAAAI/AAAAAAAAADw/SiMcaKMW0Sg/s64/photo.jpg",
      "userId": "15430965937131994656"
     },
     "user_tz": -540
    },
    "id": "mm-4R8tE2ZB1",
    "outputId": "c8a20657-fb81-45f1-9d1e-6297b49a9762"
   },
   "outputs": [
    {
     "data": {
      "text/html": [
       "<div>\n",
       "<style scoped>\n",
       "    .dataframe tbody tr th:only-of-type {\n",
       "        vertical-align: middle;\n",
       "    }\n",
       "\n",
       "    .dataframe tbody tr th {\n",
       "        vertical-align: top;\n",
       "    }\n",
       "\n",
       "    .dataframe thead th {\n",
       "        text-align: right;\n",
       "    }\n",
       "</style>\n",
       "<table border=\"1\" class=\"dataframe\">\n",
       "  <thead>\n",
       "    <tr style=\"text-align: right;\">\n",
       "      <th></th>\n",
       "      <th>jibun</th>\n",
       "      <th>transaction_real_price</th>\n",
       "    </tr>\n",
       "  </thead>\n",
       "  <tbody>\n",
       "    <tr>\n",
       "      <th>0</th>\n",
       "      <td>산3-148</td>\n",
       "      <td>7.225286</td>\n",
       "    </tr>\n",
       "    <tr>\n",
       "      <th>1</th>\n",
       "      <td>737-1</td>\n",
       "      <td>7.494417</td>\n",
       "    </tr>\n",
       "    <tr>\n",
       "      <th>2</th>\n",
       "      <td>741-1</td>\n",
       "      <td>7.498174</td>\n",
       "    </tr>\n",
       "    <tr>\n",
       "      <th>3</th>\n",
       "      <td>1181-4</td>\n",
       "      <td>7.585491</td>\n",
       "    </tr>\n",
       "    <tr>\n",
       "      <th>4</th>\n",
       "      <td>11-174</td>\n",
       "      <td>7.601402</td>\n",
       "    </tr>\n",
       "  </tbody>\n",
       "</table>\n",
       "</div>"
      ],
      "text/plain": [
       "    jibun  transaction_real_price\n",
       "0  산3-148                7.225286\n",
       "1   737-1                7.494417\n",
       "2   741-1                7.498174\n",
       "3  1181-4                7.585491\n",
       "4  11-174                7.601402"
      ]
     },
     "execution_count": 63,
     "metadata": {},
     "output_type": "execute_result"
    }
   ],
   "source": [
    "train_jibun = train[['transaction_real_price','jibun']].groupby('jibun').mean().sort_values('transaction_real_price').reset_index()\n",
    "train_jibun.head()"
   ]
  },
  {
   "cell_type": "markdown",
   "metadata": {
    "colab_type": "text",
    "id": "gUVLe7lx6D2_"
   },
   "source": [
    "## apt"
   ]
  },
  {
   "cell_type": "code",
   "execution_count": 42,
   "metadata": {
    "colab": {
     "base_uri": "https://localhost:8080/",
     "height": 35
    },
    "colab_type": "code",
    "executionInfo": {
     "elapsed": 124970,
     "status": "ok",
     "timestamp": 1560396382813,
     "user": {
      "displayName": "차시명",
      "photoUrl": "https://lh5.googleusercontent.com/-QWE4RoZUWJc/AAAAAAAAAAI/AAAAAAAAADw/SiMcaKMW0Sg/s64/photo.jpg",
      "userId": "15430965937131994656"
     },
     "user_tz": -540
    },
    "id": "vlZNYYmA6INU",
    "outputId": "62c58dbd-e860-47f5-a965-0898e237d75c"
   },
   "outputs": [
    {
     "data": {
      "text/plain": [
       "10440"
      ]
     },
     "execution_count": 42,
     "metadata": {},
     "output_type": "execute_result"
    }
   ],
   "source": [
    "len(train['apt'].unique())"
   ]
  },
  {
   "cell_type": "code",
   "execution_count": 43,
   "metadata": {
    "colab": {
     "base_uri": "https://localhost:8080/",
     "height": 204
    },
    "colab_type": "code",
    "executionInfo": {
     "elapsed": 124964,
     "status": "ok",
     "timestamp": 1560396382815,
     "user": {
      "displayName": "차시명",
      "photoUrl": "https://lh5.googleusercontent.com/-QWE4RoZUWJc/AAAAAAAAAAI/AAAAAAAAADw/SiMcaKMW0Sg/s64/photo.jpg",
      "userId": "15430965937131994656"
     },
     "user_tz": -540
    },
    "id": "ULohKSlb6KsX",
    "outputId": "9df87eae-c048-44ac-dfaf-76694874cdd4"
   },
   "outputs": [
    {
     "data": {
      "text/html": [
       "<div>\n",
       "<style scoped>\n",
       "    .dataframe tbody tr th:only-of-type {\n",
       "        vertical-align: middle;\n",
       "    }\n",
       "\n",
       "    .dataframe tbody tr th {\n",
       "        vertical-align: top;\n",
       "    }\n",
       "\n",
       "    .dataframe thead th {\n",
       "        text-align: right;\n",
       "    }\n",
       "</style>\n",
       "<table border=\"1\" class=\"dataframe\">\n",
       "  <thead>\n",
       "    <tr style=\"text-align: right;\">\n",
       "      <th></th>\n",
       "      <th>apt</th>\n",
       "      <th>transaction_real_price</th>\n",
       "    </tr>\n",
       "  </thead>\n",
       "  <tbody>\n",
       "    <tr>\n",
       "      <th>0</th>\n",
       "      <td>좌천시민(737-1)</td>\n",
       "      <td>7.494417</td>\n",
       "    </tr>\n",
       "    <tr>\n",
       "      <th>1</th>\n",
       "      <td>좌천시민(741-1)</td>\n",
       "      <td>7.498174</td>\n",
       "    </tr>\n",
       "    <tr>\n",
       "      <th>2</th>\n",
       "      <td>수정(1181-4)</td>\n",
       "      <td>7.585491</td>\n",
       "    </tr>\n",
       "    <tr>\n",
       "      <th>3</th>\n",
       "      <td>수정(1175-1)</td>\n",
       "      <td>7.626830</td>\n",
       "    </tr>\n",
       "    <tr>\n",
       "      <th>4</th>\n",
       "      <td>수정(1186-1)</td>\n",
       "      <td>7.685623</td>\n",
       "    </tr>\n",
       "  </tbody>\n",
       "</table>\n",
       "</div>"
      ],
      "text/plain": [
       "           apt  transaction_real_price\n",
       "0  좌천시민(737-1)                7.494417\n",
       "1  좌천시민(741-1)                7.498174\n",
       "2   수정(1181-4)                7.585491\n",
       "3   수정(1175-1)                7.626830\n",
       "4   수정(1186-1)                7.685623"
      ]
     },
     "execution_count": 43,
     "metadata": {},
     "output_type": "execute_result"
    }
   ],
   "source": [
    "train_apt = train[['transaction_real_price','apt']].groupby('apt').mean().sort_values('transaction_real_price').reset_index()\n",
    "train_apt.head()"
   ]
  },
  {
   "cell_type": "markdown",
   "metadata": {},
   "source": [
    "지번과 아파트 데이터는 unique가 많으므로 따로 labeling을 하지 않는다."
   ]
  },
  {
   "cell_type": "markdown",
   "metadata": {
    "colab_type": "text",
    "id": "S-eiKYWk9-Ya"
   },
   "source": [
    "## transaction_date"
   ]
  },
  {
   "cell_type": "markdown",
   "metadata": {
    "colab_type": "text",
    "id": "wvDa2v0QFDWi"
   },
   "source": [
    "transaction_date는 거래기간으로 처음 거래시작한 day와 거래가 끝난 day의 차이를 컬럼으로 만들어 주겠습니다."
   ]
  },
  {
   "cell_type": "code",
   "execution_count": 44,
   "metadata": {
    "colab": {},
    "colab_type": "code",
    "id": "UB-rqY04wfaD"
   },
   "outputs": [],
   "source": [
    "train['day_diff'] = train['transaction_date'].str.extract('(~\\d+)')[0].str[1:].astype(int) - train['transaction_date'].str.extract('(\\d+~)')[0].str[:-1].astype(int)\n",
    "test['day_diff'] = test['transaction_date'].str.extract('(~\\d+)')[0].str[1:].astype(int) - test['transaction_date'].str.extract('(\\d+~)')[0].str[:-1].astype(int)"
   ]
  },
  {
   "cell_type": "code",
   "execution_count": 45,
   "metadata": {
    "colab": {
     "base_uri": "https://localhost:8080/",
     "height": 35
    },
    "colab_type": "code",
    "executionInfo": {
     "elapsed": 130825,
     "status": "ok",
     "timestamp": 1560396388691,
     "user": {
      "displayName": "차시명",
      "photoUrl": "https://lh5.googleusercontent.com/-QWE4RoZUWJc/AAAAAAAAAAI/AAAAAAAAADw/SiMcaKMW0Sg/s64/photo.jpg",
      "userId": "15430965937131994656"
     },
     "user_tz": -540
    },
    "id": "o_WN3Td49dr1",
    "outputId": "9cc800c6-ade7-46f6-f826-d07ae40804bc"
   },
   "outputs": [
    {
     "data": {
      "text/plain": [
       "6"
      ]
     },
     "execution_count": 45,
     "metadata": {},
     "output_type": "execute_result"
    }
   ],
   "source": [
    "len(train['transaction_date'].unique())"
   ]
  },
  {
   "cell_type": "markdown",
   "metadata": {},
   "source": [
    "거래기간 feature도 unique 갯수가 몇개 없기 때문에 labeling을 하겠습니다."
   ]
  },
  {
   "cell_type": "code",
   "execution_count": 46,
   "metadata": {
    "colab": {
     "base_uri": "https://localhost:8080/",
     "height": 204
    },
    "colab_type": "code",
    "executionInfo": {
     "elapsed": 130819,
     "status": "ok",
     "timestamp": 1560396388692,
     "user": {
      "displayName": "차시명",
      "photoUrl": "https://lh5.googleusercontent.com/-QWE4RoZUWJc/AAAAAAAAAAI/AAAAAAAAADw/SiMcaKMW0Sg/s64/photo.jpg",
      "userId": "15430965937131994656"
     },
     "user_tz": -540
    },
    "id": "b_KpOand-npQ",
    "outputId": "9422dd71-1b9a-4d74-b417-a6696ef2e548"
   },
   "outputs": [
    {
     "data": {
      "text/html": [
       "<div>\n",
       "<style scoped>\n",
       "    .dataframe tbody tr th:only-of-type {\n",
       "        vertical-align: middle;\n",
       "    }\n",
       "\n",
       "    .dataframe tbody tr th {\n",
       "        vertical-align: top;\n",
       "    }\n",
       "\n",
       "    .dataframe thead th {\n",
       "        text-align: right;\n",
       "    }\n",
       "</style>\n",
       "<table border=\"1\" class=\"dataframe\">\n",
       "  <thead>\n",
       "    <tr style=\"text-align: right;\">\n",
       "      <th></th>\n",
       "      <th>transaction_date</th>\n",
       "      <th>transaction_real_price</th>\n",
       "    </tr>\n",
       "  </thead>\n",
       "  <tbody>\n",
       "    <tr>\n",
       "      <th>0</th>\n",
       "      <td>21~29</td>\n",
       "      <td>10.176453</td>\n",
       "    </tr>\n",
       "    <tr>\n",
       "      <th>1</th>\n",
       "      <td>21~28</td>\n",
       "      <td>10.286294</td>\n",
       "    </tr>\n",
       "    <tr>\n",
       "      <th>2</th>\n",
       "      <td>1~10</td>\n",
       "      <td>10.293390</td>\n",
       "    </tr>\n",
       "    <tr>\n",
       "      <th>3</th>\n",
       "      <td>11~20</td>\n",
       "      <td>10.306731</td>\n",
       "    </tr>\n",
       "    <tr>\n",
       "      <th>4</th>\n",
       "      <td>21~31</td>\n",
       "      <td>10.318796</td>\n",
       "    </tr>\n",
       "  </tbody>\n",
       "</table>\n",
       "</div>"
      ],
      "text/plain": [
       "  transaction_date  transaction_real_price\n",
       "0            21~29               10.176453\n",
       "1            21~28               10.286294\n",
       "2             1~10               10.293390\n",
       "3            11~20               10.306731\n",
       "4            21~31               10.318796"
      ]
     },
     "execution_count": 46,
     "metadata": {},
     "output_type": "execute_result"
    }
   ],
   "source": [
    "train_date = train[['transaction_real_price','transaction_date']].groupby('transaction_date').mean().sort_values('transaction_real_price').reset_index()\n",
    "train_date.head()"
   ]
  },
  {
   "cell_type": "code",
   "execution_count": 47,
   "metadata": {
    "colab": {
     "base_uri": "https://localhost:8080/",
     "height": 35
    },
    "colab_type": "code",
    "executionInfo": {
     "elapsed": 130812,
     "status": "ok",
     "timestamp": 1560396388695,
     "user": {
      "displayName": "차시명",
      "photoUrl": "https://lh5.googleusercontent.com/-QWE4RoZUWJc/AAAAAAAAAAI/AAAAAAAAADw/SiMcaKMW0Sg/s64/photo.jpg",
      "userId": "15430965937131994656"
     },
     "user_tz": -540
    },
    "id": "HuDtLRFeFbPj",
    "outputId": "c87b8635-5d4e-49f8-b360-d7aabe8792d7"
   },
   "outputs": [
    {
     "data": {
      "text/plain": [
       "{'21~29': 0, '21~28': 1, '1~10': 2, '11~20': 3, '21~31': 4, '21~30': 5}"
      ]
     },
     "execution_count": 47,
     "metadata": {},
     "output_type": "execute_result"
    }
   ],
   "source": [
    "date_num = {}\n",
    "for i in range(len(train_date)):\n",
    "    date = train_date['transaction_date'].iloc[i]\n",
    "    date_num[date] = i\n",
    "    \n",
    "date_num"
   ]
  },
  {
   "cell_type": "code",
   "execution_count": 48,
   "metadata": {
    "colab": {
     "base_uri": "https://localhost:8080/",
     "height": 377
    },
    "colab_type": "code",
    "executionInfo": {
     "elapsed": 131518,
     "status": "ok",
     "timestamp": 1560396389410,
     "user": {
      "displayName": "차시명",
      "photoUrl": "https://lh5.googleusercontent.com/-QWE4RoZUWJc/AAAAAAAAAAI/AAAAAAAAADw/SiMcaKMW0Sg/s64/photo.jpg",
      "userId": "15430965937131994656"
     },
     "user_tz": -540
    },
    "id": "x3XcfHBPFpod",
    "outputId": "e7d72066-dfa8-48e3-f295-8391f817579e"
   },
   "outputs": [
    {
     "data": {
      "text/html": [
       "<div>\n",
       "<style scoped>\n",
       "    .dataframe tbody tr th:only-of-type {\n",
       "        vertical-align: middle;\n",
       "    }\n",
       "\n",
       "    .dataframe tbody tr th {\n",
       "        vertical-align: top;\n",
       "    }\n",
       "\n",
       "    .dataframe thead th {\n",
       "        text-align: right;\n",
       "    }\n",
       "</style>\n",
       "<table border=\"1\" class=\"dataframe\">\n",
       "  <thead>\n",
       "    <tr style=\"text-align: right;\">\n",
       "      <th></th>\n",
       "      <th>apartment_id</th>\n",
       "      <th>city</th>\n",
       "      <th>dong</th>\n",
       "      <th>jibun</th>\n",
       "      <th>apt</th>\n",
       "      <th>exclusive_use_area</th>\n",
       "      <th>year_of_completion</th>\n",
       "      <th>transaction_year_month</th>\n",
       "      <th>transaction_date</th>\n",
       "      <th>floor</th>\n",
       "      <th>transaction_real_price</th>\n",
       "      <th>year</th>\n",
       "      <th>month</th>\n",
       "      <th>hangang</th>\n",
       "      <th>day_diff</th>\n",
       "    </tr>\n",
       "  </thead>\n",
       "  <tbody>\n",
       "    <tr>\n",
       "      <th>0</th>\n",
       "      <td>7622</td>\n",
       "      <td>0</td>\n",
       "      <td>351</td>\n",
       "      <td>6-13</td>\n",
       "      <td>신현(101동)</td>\n",
       "      <td>84.82</td>\n",
       "      <td>2002</td>\n",
       "      <td>200801</td>\n",
       "      <td>4</td>\n",
       "      <td>2</td>\n",
       "      <td>10.532123</td>\n",
       "      <td>2008</td>\n",
       "      <td>1</td>\n",
       "      <td>0</td>\n",
       "      <td>10</td>\n",
       "    </tr>\n",
       "    <tr>\n",
       "      <th>1</th>\n",
       "      <td>5399</td>\n",
       "      <td>0</td>\n",
       "      <td>414</td>\n",
       "      <td>142</td>\n",
       "      <td>사직파크맨션</td>\n",
       "      <td>99.17</td>\n",
       "      <td>1973</td>\n",
       "      <td>200801</td>\n",
       "      <td>2</td>\n",
       "      <td>6</td>\n",
       "      <td>9.903538</td>\n",
       "      <td>2008</td>\n",
       "      <td>1</td>\n",
       "      <td>0</td>\n",
       "      <td>9</td>\n",
       "    </tr>\n",
       "    <tr>\n",
       "      <th>2</th>\n",
       "      <td>3578</td>\n",
       "      <td>0</td>\n",
       "      <td>414</td>\n",
       "      <td>174-1</td>\n",
       "      <td>두레엘리시안</td>\n",
       "      <td>84.74</td>\n",
       "      <td>2007</td>\n",
       "      <td>200801</td>\n",
       "      <td>2</td>\n",
       "      <td>6</td>\n",
       "      <td>10.558439</td>\n",
       "      <td>2008</td>\n",
       "      <td>1</td>\n",
       "      <td>0</td>\n",
       "      <td>9</td>\n",
       "    </tr>\n",
       "    <tr>\n",
       "      <th>3</th>\n",
       "      <td>10957</td>\n",
       "      <td>0</td>\n",
       "      <td>462</td>\n",
       "      <td>95</td>\n",
       "      <td>파크팰리스</td>\n",
       "      <td>146.39</td>\n",
       "      <td>2003</td>\n",
       "      <td>200801</td>\n",
       "      <td>3</td>\n",
       "      <td>15</td>\n",
       "      <td>11.678448</td>\n",
       "      <td>2008</td>\n",
       "      <td>1</td>\n",
       "      <td>0</td>\n",
       "      <td>9</td>\n",
       "    </tr>\n",
       "    <tr>\n",
       "      <th>4</th>\n",
       "      <td>10639</td>\n",
       "      <td>0</td>\n",
       "      <td>462</td>\n",
       "      <td>110-15</td>\n",
       "      <td>킹스매너</td>\n",
       "      <td>194.43</td>\n",
       "      <td>2004</td>\n",
       "      <td>200801</td>\n",
       "      <td>4</td>\n",
       "      <td>3</td>\n",
       "      <td>11.695255</td>\n",
       "      <td>2008</td>\n",
       "      <td>1</td>\n",
       "      <td>0</td>\n",
       "      <td>10</td>\n",
       "    </tr>\n",
       "  </tbody>\n",
       "</table>\n",
       "</div>"
      ],
      "text/plain": [
       "   apartment_id  city  dong   jibun       apt  exclusive_use_area  \\\n",
       "0          7622     0   351    6-13  신현(101동)               84.82   \n",
       "1          5399     0   414     142    사직파크맨션               99.17   \n",
       "2          3578     0   414   174-1    두레엘리시안               84.74   \n",
       "3         10957     0   462      95     파크팰리스              146.39   \n",
       "4         10639     0   462  110-15      킹스매너              194.43   \n",
       "\n",
       "   year_of_completion  transaction_year_month  transaction_date  floor  \\\n",
       "0                2002                  200801                 4      2   \n",
       "1                1973                  200801                 2      6   \n",
       "2                2007                  200801                 2      6   \n",
       "3                2003                  200801                 3     15   \n",
       "4                2004                  200801                 4      3   \n",
       "\n",
       "   transaction_real_price  year  month  hangang  day_diff  \n",
       "0               10.532123  2008      1        0        10  \n",
       "1                9.903538  2008      1        0         9  \n",
       "2               10.558439  2008      1        0         9  \n",
       "3               11.678448  2008      1        0         9  \n",
       "4               11.695255  2008      1        0        10  "
      ]
     },
     "execution_count": 48,
     "metadata": {},
     "output_type": "execute_result"
    }
   ],
   "source": [
    "train = train.replace({'transaction_date' : date_num})\n",
    "test = test.replace({'transaction_date' : date_num})\n",
    "train.head()"
   ]
  },
  {
   "cell_type": "markdown",
   "metadata": {
    "colab_type": "text",
    "id": "1Ep7Sh1IF9Cs"
   },
   "source": [
    "## 2.4 Preprocessing"
   ]
  },
  {
   "cell_type": "markdown",
   "metadata": {},
   "source": [
    "floor 같은 경우 -값이 존재하기 때문에 log를 취하기 전에 각 값에 +5를 하면서 모든 값을 양수로 만들어줍니다."
   ]
  },
  {
   "cell_type": "code",
   "execution_count": 49,
   "metadata": {
    "colab": {
     "base_uri": "https://localhost:8080/",
     "height": 410
    },
    "colab_type": "code",
    "executionInfo": {
     "elapsed": 135615,
     "status": "ok",
     "timestamp": 1560396393518,
     "user": {
      "displayName": "차시명",
      "photoUrl": "https://lh5.googleusercontent.com/-QWE4RoZUWJc/AAAAAAAAAAI/AAAAAAAAADw/SiMcaKMW0Sg/s64/photo.jpg",
      "userId": "15430965937131994656"
     },
     "user_tz": -540
    },
    "id": "fVWRD2nM6iyV",
    "outputId": "74dc0c52-4108-4164-f6ca-b593f03bcf08"
   },
   "outputs": [
    {
     "name": "stdout",
     "output_type": "stream",
     "text": [
      "floor -> Skewness: 0.089636, Kurtosis: -0.640885\n"
     ]
    },
    {
     "data": {
      "image/png": "[encoded data removed]",
      "text/plain": [
       "<Figure size 576x432 with 1 Axes>"
      ]
     },
     "metadata": {
      "needs_background": "light"
     },
     "output_type": "display_data"
    }
   ],
   "source": [
    "train['floor'] = np.log(train['floor']+5)\n",
    "test['floor'] = np.log(test['floor']+5)\n",
    "f, ax = plt.subplots(figsize = (8,6))\n",
    "sns.distplot(train['floor'])\n",
    "print(\"%s -> Skewness: %f, Kurtosis: %f\" %  ('floor',train['floor'].skew(), \n",
    "                                                     train['floor'].kurt()))"
   ]
  },
  {
   "cell_type": "code",
   "execution_count": 50,
   "metadata": {
    "colab": {},
    "colab_type": "code",
    "id": "S4crRmk06s7U"
   },
   "outputs": [],
   "source": [
    "drop_columns = ['apt', 'jibun', 'transaction_year_month']\n",
    "\n",
    "train = train.drop(drop_columns, axis=1)\n",
    "test = test.drop(drop_columns, axis=1)"
   ]
  },
  {
   "cell_type": "code",
   "execution_count": 51,
   "metadata": {
    "colab": {
     "base_uri": "https://localhost:8080/",
     "height": 224
    },
    "colab_type": "code",
    "executionInfo": {
     "elapsed": 135607,
     "status": "ok",
     "timestamp": 1560396393522,
     "user": {
      "displayName": "차시명",
      "photoUrl": "https://lh5.googleusercontent.com/-QWE4RoZUWJc/AAAAAAAAAAI/AAAAAAAAADw/SiMcaKMW0Sg/s64/photo.jpg",
      "userId": "15430965937131994656"
     },
     "user_tz": -540
    },
    "id": "TlGlUfDq5uE1",
    "outputId": "db0e37a2-dca8-41d6-9a2c-90ec42aad931"
   },
   "outputs": [
    {
     "data": {
      "text/html": [
       "<div>\n",
       "<style scoped>\n",
       "    .dataframe tbody tr th:only-of-type {\n",
       "        vertical-align: middle;\n",
       "    }\n",
       "\n",
       "    .dataframe tbody tr th {\n",
       "        vertical-align: top;\n",
       "    }\n",
       "\n",
       "    .dataframe thead th {\n",
       "        text-align: right;\n",
       "    }\n",
       "</style>\n",
       "<table border=\"1\" class=\"dataframe\">\n",
       "  <thead>\n",
       "    <tr style=\"text-align: right;\">\n",
       "      <th></th>\n",
       "      <th>apartment_id</th>\n",
       "      <th>city</th>\n",
       "      <th>dong</th>\n",
       "      <th>exclusive_use_area</th>\n",
       "      <th>year_of_completion</th>\n",
       "      <th>transaction_date</th>\n",
       "      <th>floor</th>\n",
       "      <th>transaction_real_price</th>\n",
       "      <th>year</th>\n",
       "      <th>month</th>\n",
       "      <th>hangang</th>\n",
       "      <th>day_diff</th>\n",
       "    </tr>\n",
       "  </thead>\n",
       "  <tbody>\n",
       "    <tr>\n",
       "      <th>0</th>\n",
       "      <td>7622</td>\n",
       "      <td>0</td>\n",
       "      <td>351</td>\n",
       "      <td>84.82</td>\n",
       "      <td>2002</td>\n",
       "      <td>4</td>\n",
       "      <td>1.945910</td>\n",
       "      <td>10.532123</td>\n",
       "      <td>2008</td>\n",
       "      <td>1</td>\n",
       "      <td>0</td>\n",
       "      <td>10</td>\n",
       "    </tr>\n",
       "    <tr>\n",
       "      <th>1</th>\n",
       "      <td>5399</td>\n",
       "      <td>0</td>\n",
       "      <td>414</td>\n",
       "      <td>99.17</td>\n",
       "      <td>1973</td>\n",
       "      <td>2</td>\n",
       "      <td>2.397895</td>\n",
       "      <td>9.903538</td>\n",
       "      <td>2008</td>\n",
       "      <td>1</td>\n",
       "      <td>0</td>\n",
       "      <td>9</td>\n",
       "    </tr>\n",
       "    <tr>\n",
       "      <th>2</th>\n",
       "      <td>3578</td>\n",
       "      <td>0</td>\n",
       "      <td>414</td>\n",
       "      <td>84.74</td>\n",
       "      <td>2007</td>\n",
       "      <td>2</td>\n",
       "      <td>2.397895</td>\n",
       "      <td>10.558439</td>\n",
       "      <td>2008</td>\n",
       "      <td>1</td>\n",
       "      <td>0</td>\n",
       "      <td>9</td>\n",
       "    </tr>\n",
       "    <tr>\n",
       "      <th>3</th>\n",
       "      <td>10957</td>\n",
       "      <td>0</td>\n",
       "      <td>462</td>\n",
       "      <td>146.39</td>\n",
       "      <td>2003</td>\n",
       "      <td>3</td>\n",
       "      <td>2.995732</td>\n",
       "      <td>11.678448</td>\n",
       "      <td>2008</td>\n",
       "      <td>1</td>\n",
       "      <td>0</td>\n",
       "      <td>9</td>\n",
       "    </tr>\n",
       "    <tr>\n",
       "      <th>4</th>\n",
       "      <td>10639</td>\n",
       "      <td>0</td>\n",
       "      <td>462</td>\n",
       "      <td>194.43</td>\n",
       "      <td>2004</td>\n",
       "      <td>4</td>\n",
       "      <td>2.079442</td>\n",
       "      <td>11.695255</td>\n",
       "      <td>2008</td>\n",
       "      <td>1</td>\n",
       "      <td>0</td>\n",
       "      <td>10</td>\n",
       "    </tr>\n",
       "  </tbody>\n",
       "</table>\n",
       "</div>"
      ],
      "text/plain": [
       "   apartment_id  city  dong  exclusive_use_area  year_of_completion  \\\n",
       "0          7622     0   351               84.82                2002   \n",
       "1          5399     0   414               99.17                1973   \n",
       "2          3578     0   414               84.74                2007   \n",
       "3         10957     0   462              146.39                2003   \n",
       "4         10639     0   462              194.43                2004   \n",
       "\n",
       "   transaction_date     floor  transaction_real_price  year  month  hangang  \\\n",
       "0                 4  1.945910               10.532123  2008      1        0   \n",
       "1                 2  2.397895                9.903538  2008      1        0   \n",
       "2                 2  2.397895               10.558439  2008      1        0   \n",
       "3                 3  2.995732               11.678448  2008      1        0   \n",
       "4                 4  2.079442               11.695255  2008      1        0   \n",
       "\n",
       "   day_diff  \n",
       "0        10  \n",
       "1         9  \n",
       "2         9  \n",
       "3         9  \n",
       "4        10  "
      ]
     },
     "execution_count": 51,
     "metadata": {},
     "output_type": "execute_result"
    }
   ],
   "source": [
    "train.head()"
   ]
  },
  {
   "cell_type": "markdown",
   "metadata": {
    "colab_type": "text",
    "id": "nyquL_eZF9Cu"
   },
   "source": [
    "# 3. Feature Engineering"
   ]
  },
  {
   "cell_type": "code",
   "execution_count": 52,
   "metadata": {
    "colab": {},
    "colab_type": "code",
    "id": "ktULK1pVF9Cu"
   },
   "outputs": [],
   "source": [
    "train_test_data = [train, test]\n",
    "\n",
    "for dataset in train_test_data:\n",
    "    # 거래하는 기간까지의 아파트 나이를 feature 생성\n",
    "    dataset['age'] = dataset['year'] - dataset['year_of_completion']\n",
    "    # 샘플코드에 있는 아파트의 재건추 유무를 판단하는 feature 생성\n",
    "    dataset['is_rebuild']=(dataset['age']>=30).astype(int)"
   ]
  },
  {
   "cell_type": "code",
   "execution_count": 53,
   "metadata": {
    "colab": {
     "base_uri": "https://localhost:8080/",
     "height": 53
    },
    "colab_type": "code",
    "executionInfo": {
     "elapsed": 136199,
     "status": "ok",
     "timestamp": 1560396394126,
     "user": {
      "displayName": "차시명",
      "photoUrl": "https://lh5.googleusercontent.com/-QWE4RoZUWJc/AAAAAAAAAAI/AAAAAAAAADw/SiMcaKMW0Sg/s64/photo.jpg",
      "userId": "15430965937131994656"
     },
     "user_tz": -540
    },
    "id": "O_Gk8FrMF9Cy",
    "outputId": "5a2cfb9e-c1a5-4fce-b7a5-c0553b6b73cd"
   },
   "outputs": [
    {
     "name": "stdout",
     "output_type": "stream",
     "text": [
      "exclusive_use_area -> Skewness: 1.227509, Kurtosis: 3.100517\n",
      "hangang -> Skewness: 6.358349, Kurtosis: 38.428662\n",
      "day_diff -> Skewness: -0.589751, Kurtosis: 4.573129\n",
      "is_rebuild -> Skewness: 3.324832, Kurtosis: 9.054522\n"
     ]
    }
   ],
   "source": [
    "train_columns = []\n",
    "for column in train.columns[:]:\n",
    "    if train[column].skew() >= 1:\n",
    "        print(\"%s -> Skewness: %f, Kurtosis: %f\" %  (column,train[column].skew(), \n",
    "                                                 train[column].kurt()))\n",
    "        train_columns.append(column)\n",
    "    elif train[column].kurt() >= 3:\n",
    "        print(\"%s -> Skewness: %f, Kurtosis: %f\" %  (column,train[column].skew(), \n",
    "                                                 train[column].kurt()))\n",
    "        train_columns.append(column)"
   ]
  },
  {
   "cell_type": "code",
   "execution_count": 54,
   "metadata": {
    "colab": {
     "base_uri": "https://localhost:8080/",
     "height": 53
    },
    "colab_type": "code",
    "executionInfo": {
     "elapsed": 136189,
     "status": "ok",
     "timestamp": 1560396394127,
     "user": {
      "displayName": "차시명",
      "photoUrl": "https://lh5.googleusercontent.com/-QWE4RoZUWJc/AAAAAAAAAAI/AAAAAAAAADw/SiMcaKMW0Sg/s64/photo.jpg",
      "userId": "15430965937131994656"
     },
     "user_tz": -540
    },
    "id": "4HcN-2cLF9C0",
    "outputId": "b6de06b0-7245-40b4-8ca4-b67cf3b60725"
   },
   "outputs": [
    {
     "name": "stdout",
     "output_type": "stream",
     "text": [
      "exclusive_use_area -> Skewness: -0.438156, Kurtosis: 1.744119\n",
      "hangang -> Skewness: 6.358349, Kurtosis: 38.428662\n",
      "day_diff -> Skewness: -1.128137, Kurtosis: 6.788569\n",
      "is_rebuild -> Skewness: 3.324832, Kurtosis: 9.054522\n"
     ]
    }
   ],
   "source": [
    "#정규분포모형을 가질 수 있도록 첨도와 왜도를 조정\n",
    "#조정하는 방법에는 square root, quarter root, log 등이 있다.\n",
    "#log에서 0의 값이 들어왔을 때 무한으로 가는 것을 방지하도록 1 더해주는 log1p를 사용\n",
    "\n",
    "for column in train_columns :\n",
    "    train[column] = np.log1p(train[column])\n",
    "    test[column] = np.log1p(test[column])\n",
    "    print(\"%s -> Skewness: %f, Kurtosis: %f\" %  (column,train[column].skew(), \n",
    "                                                 train[column].kurt()))"
   ]
  },
  {
   "cell_type": "code",
   "execution_count": 55,
   "metadata": {
    "colab": {
     "base_uri": "https://localhost:8080/",
     "height": 496
    },
    "colab_type": "code",
    "executionInfo": {
     "elapsed": 137972,
     "status": "ok",
     "timestamp": 1560396395919,
     "user": {
      "displayName": "차시명",
      "photoUrl": "https://lh5.googleusercontent.com/-QWE4RoZUWJc/AAAAAAAAAAI/AAAAAAAAADw/SiMcaKMW0Sg/s64/photo.jpg",
      "userId": "15430965937131994656"
     },
     "user_tz": -540
    },
    "id": "x30f96dYF9C2",
    "outputId": "5a91f4db-f35a-468c-b524-e57a953cc4ed"
   },
   "outputs": [
    {
     "data": {
      "text/plain": [
       "<matplotlib.axes._subplots.AxesSubplot at 0x1ed57d70208>"
      ]
     },
     "execution_count": 55,
     "metadata": {},
     "output_type": "execute_result"
    },
    {
     "data": {
      "image/png": "[encoded data removed]",
      "text/plain": [
       "<Figure size 1440x432 with 2 Axes>"
      ]
     },
     "metadata": {
      "needs_background": "light"
     },
     "output_type": "display_data"
    }
   ],
   "source": [
    "#상관관계 확인\n",
    "k=train.shape[1] #히트맵 변수 갯수\n",
    "corrmat = train.corr() #변수간의 상관관계\n",
    "cols = corrmat.nlargest(k, 'transaction_real_price')['transaction_real_price'].index #price기준으로 제일 큰순서대로 20개를 뽑아냄\n",
    "cm = np.corrcoef(train[cols].values.T)\n",
    "f, ax = plt.subplots(figsize=(20, 6))\n",
    "sns.heatmap(data = cm, annot=True, square=True, fmt = '.2f', linewidths=.5, cmap='Reds', \n",
    "            yticklabels = cols.values, xticklabels = cols.values)"
   ]
  },
  {
   "cell_type": "markdown",
   "metadata": {
    "colab_type": "text",
    "id": "qov4dEokF9C5"
   },
   "source": [
    "# 4. Modeling"
   ]
  },
  {
   "cell_type": "code",
   "execution_count": 56,
   "metadata": {
    "colab": {},
    "colab_type": "code",
    "id": "0QjyxemRF9DB"
   },
   "outputs": [],
   "source": [
    "from sklearn.linear_model import ElasticNet, Lasso\n",
    "from sklearn.ensemble import GradientBoostingRegressor, RandomForestRegressor\n",
    "from sklearn.kernel_ridge import KernelRidge\n",
    "from sklearn.pipeline import make_pipeline\n",
    "from sklearn.preprocessing import RobustScaler\n",
    "from sklearn.model_selection import KFold, cross_val_score, train_test_split\n",
    "from sklearn.metrics import mean_squared_error\n",
    "import xgboost as xgb\n",
    "import lightgbm as lgb"
   ]
  },
  {
   "cell_type": "code",
   "execution_count": 57,
   "metadata": {
    "colab": {},
    "colab_type": "code",
    "id": "0Y0-cFgEF9DI"
   },
   "outputs": [],
   "source": [
    "target = train['transaction_real_price']\n",
    "del train['transaction_real_price']"
   ]
  },
  {
   "cell_type": "code",
   "execution_count": 58,
   "metadata": {
    "colab": {},
    "colab_type": "code",
    "id": "UvOJWHM5F9DJ"
   },
   "outputs": [],
   "source": [
    "#cross validation score\n",
    "n_folds = 2\n",
    "\n",
    "def cv_score(models):\n",
    "    kfold = KFold(n_splits=n_folds, shuffle=True ,random_state=42).get_n_splits(train.values)\n",
    "    for m in models:\n",
    "        cvs = np.mean(cross_val_score(m['model'], train.values, target, cv=kfold))\n",
    "        rmse = np.mean(np.sqrt(-cross_val_score(m['model'], train.values, np.expm1(target), scoring = \"neg_mean_squared_error\", cv = kfold)))\n",
    "        print(\"Model {} CV score : {:.4f}\".format(m['name'], cvs))\n",
    "        print(\"RMSE : {:.4f}\".format(rmse))"
   ]
  },
  {
   "cell_type": "code",
   "execution_count": 59,
   "metadata": {
    "colab": {},
    "colab_type": "code",
    "id": "ODBU-iHXF9DM"
   },
   "outputs": [],
   "source": [
    "lasso = make_pipeline(RobustScaler(), Lasso(alpha = 0.0005, random_state=42))\n",
    "ENet = make_pipeline(RobustScaler(), ElasticNet(alpha=0.0005, l1_ratio=.9, random_state=42))\n",
    "gboost = GradientBoostingRegressor(random_state=42)\n",
    "forest = RandomForestRegressor(n_estimators = 100, n_jobs = -1, random_state=42)\n",
    "xgboost = xgb.XGBRegressor(random_state=42)\n",
    "lightgbm = lgb.LGBMRegressor(random_state=42, num_leaves = 100, min_data_in_leaf = 15, max_depth=6,\n",
    "                            learning_rate = 0.1, min_child_samples = 30, feature_fraction=0.9, bagging_freq= 1,\n",
    "                            bagging_fraction = 0.9, bagging_seed = 11, lambda_l1 = 0.1, verbosity = -1 )\n",
    "\n",
    "models = [{'model': gboost, 'name':'GradientBoosting'}, {'model': xgboost, 'name':'XGBoost'},\n",
    "          {'model': lightgbm, 'name':'LightGBM'}, {'model' : lasso, 'name' : 'LASSO Regression'}, \n",
    "          {'model' : ENet, 'name' : 'Elastic Net Regression'}, {'model' : forest, 'name' : 'RandomForset'}]"
   ]
  },
  {
   "cell_type": "code",
   "execution_count": 60,
   "metadata": {
    "colab": {
     "base_uri": "https://localhost:8080/",
     "height": 71
    },
    "colab_type": "code",
    "executionInfo": {
     "elapsed": 1372687,
     "status": "ok",
     "timestamp": 1560399466571,
     "user": {
      "displayName": "차시명",
      "photoUrl": "https://lh5.googleusercontent.com/-QWE4RoZUWJc/AAAAAAAAAAI/AAAAAAAAADw/SiMcaKMW0Sg/s64/photo.jpg",
      "userId": "15430965937131994656"
     },
     "user_tz": -540
    },
    "id": "fzzLXEpaF9DQ",
    "outputId": "83280afd-b9c1-442b-82cd-dd57d71902ad"
   },
   "outputs": [
    {
     "name": "stdout",
     "output_type": "stream",
     "text": [
      "Model GradientBoosting CV score : 0.5810\n",
      "RMSE : 15811.1309\n",
      "Model XGBoost CV score : 0.5947\n",
      "RMSE : 15868.0485\n",
      "Model LightGBM CV score : 0.6131\n",
      "RMSE : 14330.6681\n",
      "Model LASSO Regression CV score : 0.6842\n",
      "RMSE : 19852.5360\n",
      "Model Elastic Net Regression CV score : 0.6841\n",
      "RMSE : 19848.9725\n",
      "Model RandomForset CV score : 0.5618\n",
      "RMSE : 15087.6387\n",
      "불러오는데 걸린 시간 : 1061.5614063540002초\n"
     ]
    }
   ],
   "source": [
    "start = timeit.default_timer()\n",
    "cv_score(models)\n",
    "stop = timeit.default_timer()\n",
    "print('불러오는데 걸린 시간 : {}초'.format(stop - start))"
   ]
  },
  {
   "cell_type": "code",
   "execution_count": 62,
   "metadata": {
    "colab": {},
    "colab_type": "code",
    "id": "VQan9PoYZfD-"
   },
   "outputs": [],
   "source": [
    "#여러개의 모델로 만들어진 predict 데이터들의 평균을 구한다.\n",
    "\n",
    "models = [{'model':xgboost, 'name':'XGBoost'},\n",
    "          {'model':lightgbm, 'name':'LightGBM'},\n",
    "         {'model':forest, 'name' : 'RandomForest'}]\n",
    "\n",
    "def AveragingBlending(models, x, y, sub_x):\n",
    "    for m in models : \n",
    "        m['model'].fit(x.values, y)\n",
    "    \n",
    "    predictions = np.column_stack([m['model'].predict(sub_x.values) for m in models])\n",
    "    return predictions"
   ]
  },
  {
   "cell_type": "markdown",
   "metadata": {},
   "source": [
    "xgboost, lightgbm, forest 총 3개의 모델을 stacking하여 활용"
   ]
  },
  {
   "cell_type": "code",
   "execution_count": 63,
   "metadata": {
    "colab": {},
    "colab_type": "code",
    "id": "cBXfOHp4bANU"
   },
   "outputs": [
    {
     "name": "stdout",
     "output_type": "stream",
     "text": [
      "불러오는데 걸린 시간 : 294.5215947790002초\n"
     ]
    }
   ],
   "source": [
    "start = timeit.default_timer()\n",
    "\n",
    "y_test_pred = AveragingBlending(models, train, target, test)\n",
    "y_test_pred = (y_test_pred[:, 0]*0.05 + y_test_pred[:, 1]*0.1 + y_test_pred[:, 2]*0.85)\n",
    "predictions = y_test_pred\n",
    "\n",
    "stop = timeit.default_timer()\n",
    "print('불러오는데 걸린 시간 : {}초'.format(stop - start))"
   ]
  },
  {
   "cell_type": "code",
   "execution_count": 64,
   "metadata": {
    "colab": {},
    "colab_type": "code",
    "id": "eu_NgFXPF9DV"
   },
   "outputs": [],
   "source": [
    "sub = pd.read_csv('submission.csv')"
   ]
  },
  {
   "cell_type": "code",
   "execution_count": 66,
   "metadata": {
    "colab": {},
    "colab_type": "code",
    "id": "Qg0XrCzsF9DX"
   },
   "outputs": [],
   "source": [
    "sub['transaction_real_price'] = np.expm1(predictions)"
   ]
  },
  {
   "cell_type": "code",
   "execution_count": 67,
   "metadata": {
    "colab": {},
    "colab_type": "code",
    "id": "t00JpsKnF9DY"
   },
   "outputs": [],
   "source": [
    "sub.to_csv('submission.csv', index=False)"
   ]
  }
 ],
 "metadata": {
  "accelerator": "GPU",
  "colab": {
   "collapsed_sections": [
    "knD5j1THF9BT",
    "AUgNpuMKF9CO"
   ],
   "name": "아파트 실거래가 예측.ipynb",
   "provenance": [],
   "version": "0.3.2"
  },
  "kernelspec": {
   "display_name": "Python 3",
   "language": "python",
   "name": "python3"
  },
  "language_info": {
   "codemirror_mode": {
    "name": "ipython",
    "version": 3
   },
   "file_extension": ".py",
   "mimetype": "text/x-python",
   "name": "python",
   "nbconvert_exporter": "python",
   "pygments_lexer": "ipython3",
   "version": "3.7.3"
  }
 },
 "nbformat": 4,
 "nbformat_minor": 1
}
